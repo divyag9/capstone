{
 "cells": [
  {
   "cell_type": "code",
   "execution_count": 1,
   "metadata": {},
   "outputs": [
    {
     "name": "stderr",
     "output_type": "stream",
     "text": [
      "Using TensorFlow backend.\n",
      "/home/ubuntu/.local/lib/python3.6/site-packages/tensorflow/python/framework/dtypes.py:516: FutureWarning: Passing (type, 1) or '1type' as a synonym of type is deprecated; in a future version of numpy, it will be understood as (type, (1,)) / '(1,)type'.\n",
      "  _np_qint8 = np.dtype([(\"qint8\", np.int8, 1)])\n",
      "/home/ubuntu/.local/lib/python3.6/site-packages/tensorflow/python/framework/dtypes.py:517: FutureWarning: Passing (type, 1) or '1type' as a synonym of type is deprecated; in a future version of numpy, it will be understood as (type, (1,)) / '(1,)type'.\n",
      "  _np_quint8 = np.dtype([(\"quint8\", np.uint8, 1)])\n",
      "/home/ubuntu/.local/lib/python3.6/site-packages/tensorflow/python/framework/dtypes.py:518: FutureWarning: Passing (type, 1) or '1type' as a synonym of type is deprecated; in a future version of numpy, it will be understood as (type, (1,)) / '(1,)type'.\n",
      "  _np_qint16 = np.dtype([(\"qint16\", np.int16, 1)])\n",
      "/home/ubuntu/.local/lib/python3.6/site-packages/tensorflow/python/framework/dtypes.py:519: FutureWarning: Passing (type, 1) or '1type' as a synonym of type is deprecated; in a future version of numpy, it will be understood as (type, (1,)) / '(1,)type'.\n",
      "  _np_quint16 = np.dtype([(\"quint16\", np.uint16, 1)])\n",
      "/home/ubuntu/.local/lib/python3.6/site-packages/tensorflow/python/framework/dtypes.py:520: FutureWarning: Passing (type, 1) or '1type' as a synonym of type is deprecated; in a future version of numpy, it will be understood as (type, (1,)) / '(1,)type'.\n",
      "  _np_qint32 = np.dtype([(\"qint32\", np.int32, 1)])\n",
      "/home/ubuntu/.local/lib/python3.6/site-packages/tensorflow/python/framework/dtypes.py:525: FutureWarning: Passing (type, 1) or '1type' as a synonym of type is deprecated; in a future version of numpy, it will be understood as (type, (1,)) / '(1,)type'.\n",
      "  np_resource = np.dtype([(\"resource\", np.ubyte, 1)])\n"
     ]
    },
    {
     "name": "stdout",
     "output_type": "stream",
     "text": [
      "WARNING:tensorflow:From /home/ubuntu/How-to-build-own-text-summarizer-using-deep-learning/seq2seq.py:11: The name tf.keras.backend.set_session is deprecated. Please use tf.compat.v1.keras.backend.set_session instead.\n",
      "\n"
     ]
    },
    {
     "name": "stderr",
     "output_type": "stream",
     "text": [
      "/home/ubuntu/.local/lib/python3.6/site-packages/tensorboard/compat/tensorflow_stub/dtypes.py:541: FutureWarning: Passing (type, 1) or '1type' as a synonym of type is deprecated; in a future version of numpy, it will be understood as (type, (1,)) / '(1,)type'.\n",
      "  _np_qint8 = np.dtype([(\"qint8\", np.int8, 1)])\n",
      "/home/ubuntu/.local/lib/python3.6/site-packages/tensorboard/compat/tensorflow_stub/dtypes.py:542: FutureWarning: Passing (type, 1) or '1type' as a synonym of type is deprecated; in a future version of numpy, it will be understood as (type, (1,)) / '(1,)type'.\n",
      "  _np_quint8 = np.dtype([(\"quint8\", np.uint8, 1)])\n",
      "/home/ubuntu/.local/lib/python3.6/site-packages/tensorboard/compat/tensorflow_stub/dtypes.py:543: FutureWarning: Passing (type, 1) or '1type' as a synonym of type is deprecated; in a future version of numpy, it will be understood as (type, (1,)) / '(1,)type'.\n",
      "  _np_qint16 = np.dtype([(\"qint16\", np.int16, 1)])\n",
      "/home/ubuntu/.local/lib/python3.6/site-packages/tensorboard/compat/tensorflow_stub/dtypes.py:544: FutureWarning: Passing (type, 1) or '1type' as a synonym of type is deprecated; in a future version of numpy, it will be understood as (type, (1,)) / '(1,)type'.\n",
      "  _np_quint16 = np.dtype([(\"quint16\", np.uint16, 1)])\n",
      "/home/ubuntu/.local/lib/python3.6/site-packages/tensorboard/compat/tensorflow_stub/dtypes.py:545: FutureWarning: Passing (type, 1) or '1type' as a synonym of type is deprecated; in a future version of numpy, it will be understood as (type, (1,)) / '(1,)type'.\n",
      "  _np_qint32 = np.dtype([(\"qint32\", np.int32, 1)])\n",
      "/home/ubuntu/.local/lib/python3.6/site-packages/tensorboard/compat/tensorflow_stub/dtypes.py:550: FutureWarning: Passing (type, 1) or '1type' as a synonym of type is deprecated; in a future version of numpy, it will be understood as (type, (1,)) / '(1,)type'.\n",
      "  np_resource = np.dtype([(\"resource\", np.ubyte, 1)])\n"
     ]
    }
   ],
   "source": [
    "import process_text\n",
    "import seq2seq\n",
    "import numpy as np\n",
    "from sklearn.model_selection import train_test_split\n",
    "from importlib import reload"
   ]
  },
  {
   "cell_type": "code",
   "execution_count": 41,
   "metadata": {},
   "outputs": [
    {
     "data": {
      "text/plain": [
       "<module 'process_text' from '/home/ubuntu/How-to-build-own-text-summarizer-using-deep-learning/process_text.py'>"
      ]
     },
     "execution_count": 41,
     "metadata": {},
     "output_type": "execute_result"
    }
   ],
   "source": [
    "reload(process_text)"
   ]
  },
  {
   "cell_type": "code",
   "execution_count": 2,
   "metadata": {},
   "outputs": [
    {
     "name": "stderr",
     "output_type": "stream",
     "text": [
      "/home/ubuntu/.local/lib/python3.6/site-packages/bs4/__init__.py:375: UserWarning: \"https://www.amazon.com/gp/product/b006qnkqou/ref=cm_cr_ryp_prd_ttl_sol_3\" looks like a URL. Beautiful Soup is not an HTTP client. You should probably use an HTTP client like requests to get the document behind the URL, and feed that document to Beautiful Soup.\n",
      "  ' that document to Beautiful Soup.' % decoded_markup\n",
      "/home/ubuntu/.local/lib/python3.6/site-packages/bs4/__init__.py:375: UserWarning: \"http://www.twitter.com\" looks like a URL. Beautiful Soup is not an HTTP client. You should probably use an HTTP client like requests to get the document behind the URL, and feed that document to Beautiful Soup.\n",
      "  ' that document to Beautiful Soup.' % decoded_markup\n",
      "/home/ubuntu/.local/lib/python3.6/site-packages/bs4/__init__.py:375: UserWarning: \"https://www.amazon.com/gp/product/b00g197q4m/ref=cm_cr_ryp_prd_ttl_sol_26\" looks like a URL. Beautiful Soup is not an HTTP client. You should probably use an HTTP client like requests to get the document behind the URL, and feed that document to Beautiful Soup.\n",
      "  ' that document to Beautiful Soup.' % decoded_markup\n",
      "/home/ubuntu/.local/lib/python3.6/site-packages/bs4/__init__.py:375: UserWarning: \"https://www.amazon.com/gp/product/b00jemzym4/ref=cm_cr_ryp_prd_ttl_sol_0\" looks like a URL. Beautiful Soup is not an HTTP client. You should probably use an HTTP client like requests to get the document behind the URL, and feed that document to Beautiful Soup.\n",
      "  ' that document to Beautiful Soup.' % decoded_markup\n",
      "/home/ubuntu/.local/lib/python3.6/site-packages/bs4/__init__.py:375: UserWarning: \"http://www.amazon.com/gp/product/b00ostkzwm?redirect=true&ref_=cm_cr_ryp_prd_ttl_sol_1\" looks like a URL. Beautiful Soup is not an HTTP client. You should probably use an HTTP client like requests to get the document behind the URL, and feed that document to Beautiful Soup.\n",
      "  ' that document to Beautiful Soup.' % decoded_markup\n",
      "/home/ubuntu/.local/lib/python3.6/site-packages/bs4/__init__.py:375: UserWarning: \"http://incomerain.com/?ref=26334\" looks like a URL. Beautiful Soup is not an HTTP client. You should probably use an HTTP client like requests to get the document behind the URL, and feed that document to Beautiful Soup.\n",
      "  ' that document to Beautiful Soup.' % decoded_markup\n",
      "/home/ubuntu/.local/lib/python3.6/site-packages/bs4/__init__.py:375: UserWarning: \"http://www.amazon.com/gp/product/b00pejqu9m?redirect=true&ref_=cm_cr_ryp_prd_ttl_sol_0\" looks like a URL. Beautiful Soup is not an HTTP client. You should probably use an HTTP client like requests to get the document behind the URL, and feed that document to Beautiful Soup.\n",
      "  ' that document to Beautiful Soup.' % decoded_markup\n",
      "/home/ubuntu/.local/lib/python3.6/site-packages/bs4/__init__.py:375: UserWarning: \"http://www.amazon.com/gp/product/b00tkvolau?redirect=true&ref_=cm_cr_ryp_prd_ttl_sol_0\" looks like a URL. Beautiful Soup is not an HTTP client. You should probably use an HTTP client like requests to get the document behind the URL, and feed that document to Beautiful Soup.\n",
      "  ' that document to Beautiful Soup.' % decoded_markup\n",
      "/home/ubuntu/.local/lib/python3.6/site-packages/bs4/__init__.py:375: UserWarning: \"https://www.amazon.com/gp/product/b00ya6goly/ref=cm_cr_ryp_prd_ttl_sol_0\" looks like a URL. Beautiful Soup is not an HTTP client. You should probably use an HTTP client like requests to get the document behind the URL, and feed that document to Beautiful Soup.\n",
      "  ' that document to Beautiful Soup.' % decoded_markup\n",
      "/home/ubuntu/.local/lib/python3.6/site-packages/bs4/__init__.py:375: UserWarning: \"https://www.amazon.com/gp/product/b002lshzpm/ref=cm_cr_ryp_prd_ttl_sol_0\" looks like a URL. Beautiful Soup is not an HTTP client. You should probably use an HTTP client like requests to get the document behind the URL, and feed that document to Beautiful Soup.\n",
      "  ' that document to Beautiful Soup.' % decoded_markup\n",
      "/home/ubuntu/.local/lib/python3.6/site-packages/bs4/__init__.py:375: UserWarning: \"http://adskpak.com/?type=2&id=darf85&sid=11449\" looks like a URL. Beautiful Soup is not an HTTP client. You should probably use an HTTP client like requests to get the document behind the URL, and feed that document to Beautiful Soup.\n",
      "  ' that document to Beautiful Soup.' % decoded_markup\n",
      "/home/ubuntu/.local/lib/python3.6/site-packages/bs4/__init__.py:375: UserWarning: \"https://www.amazon.com/dp/b004t36gcu/ref=cm_cr_ryp_prd_ttl_sol_0\" looks like a URL. Beautiful Soup is not an HTTP client. You should probably use an HTTP client like requests to get the document behind the URL, and feed that document to Beautiful Soup.\n",
      "  ' that document to Beautiful Soup.' % decoded_markup\n",
      "/home/ubuntu/.local/lib/python3.6/site-packages/bs4/__init__.py:375: UserWarning: \"https://www.amazon.com/dp/b00cif9mjk/ref=cm_cr_ryp_prd_ttl_sol_23\" looks like a URL. Beautiful Soup is not an HTTP client. You should probably use an HTTP client like requests to get the document behind the URL, and feed that document to Beautiful Soup.\n",
      "  ' that document to Beautiful Soup.' % decoded_markup\n",
      "/home/ubuntu/.local/lib/python3.6/site-packages/bs4/__init__.py:375: UserWarning: \"https://www.amazon.com/gp/product/b00q7p37kc/ref=cm_cr_ryp_prd_ttl_sol_3\" looks like a URL. Beautiful Soup is not an HTTP client. You should probably use an HTTP client like requests to get the document behind the URL, and feed that document to Beautiful Soup.\n",
      "  ' that document to Beautiful Soup.' % decoded_markup\n",
      "/home/ubuntu/.local/lib/python3.6/site-packages/bs4/__init__.py:375: UserWarning: \"https://www.amazon.com/dp/b00qf5qjr2/ref=cm_cr_ryp_prd_ttl_sol_0\" looks like a URL. Beautiful Soup is not an HTTP client. You should probably use an HTTP client like requests to get the document behind the URL, and feed that document to Beautiful Soup.\n",
      "  ' that document to Beautiful Soup.' % decoded_markup\n",
      "/home/ubuntu/.local/lib/python3.6/site-packages/bs4/__init__.py:375: UserWarning: \"https://www.amazon.com/gp/product/b00u8ksnb0/ref=cm_cr_ryp_prd_ttl_sol_22\" looks like a URL. Beautiful Soup is not an HTTP client. You should probably use an HTTP client like requests to get the document behind the URL, and feed that document to Beautiful Soup.\n",
      "  ' that document to Beautiful Soup.' % decoded_markup\n",
      "/home/ubuntu/.local/lib/python3.6/site-packages/bs4/__init__.py:375: UserWarning: \"https://www.amazon.com/dp/b00yd547q6/ref=cm_cr_ryp_prd_ttl_sol_0\" looks like a URL. Beautiful Soup is not an HTTP client. You should probably use an HTTP client like requests to get the document behind the URL, and feed that document to Beautiful Soup.\n",
      "  ' that document to Beautiful Soup.' % decoded_markup\n",
      "/home/ubuntu/.local/lib/python3.6/site-packages/bs4/__init__.py:375: UserWarning: \"https://www.amazon.com/dp/b01bo6bymq/ref=cm_cr_ryp_prd_ttl_sol_1\" looks like a URL. Beautiful Soup is not an HTTP client. You should probably use an HTTP client like requests to get the document behind the URL, and feed that document to Beautiful Soup.\n",
      "  ' that document to Beautiful Soup.' % decoded_markup\n",
      "/home/ubuntu/.local/lib/python3.6/site-packages/bs4/__init__.py:375: UserWarning: \"https://www.amazon.com/sony-xperia-c5-ultra-unlocked/dp/b016am1s2a/ref=cm_cr_arp_d_product_top?ie=utf8\" looks like a URL. Beautiful Soup is not an HTTP client. You should probably use an HTTP client like requests to get the document behind the URL, and feed that document to Beautiful Soup.\n",
      "  ' that document to Beautiful Soup.' % decoded_markup\n",
      "/home/ubuntu/.local/lib/python3.6/site-packages/bs4/__init__.py:375: UserWarning: \"http://www.amazon.com/gp/product/b0193d539m?redirect=true&ref_=cm_cr_ryp_prd_ttl_sol_0\" looks like a URL. Beautiful Soup is not an HTTP client. You should probably use an HTTP client like requests to get the document behind the URL, and feed that document to Beautiful Soup.\n",
      "  ' that document to Beautiful Soup.' % decoded_markup\n",
      "/home/ubuntu/.local/lib/python3.6/site-packages/bs4/__init__.py:375: UserWarning: \"https://www.amazon.com/dp/b005ssaxsi/ref=cm_cr_ryp_prd_ttl_sol_0\" looks like a URL. Beautiful Soup is not an HTTP client. You should probably use an HTTP client like requests to get the document behind the URL, and feed that document to Beautiful Soup.\n",
      "  ' that document to Beautiful Soup.' % decoded_markup\n"
     ]
    },
    {
     "name": "stderr",
     "output_type": "stream",
     "text": [
      "/home/ubuntu/.local/lib/python3.6/site-packages/bs4/__init__.py:375: UserWarning: \"https://www.amazon.com/dp/b00yd54ayu/ref=cm_cr_ryp_prd_ttl_sol_0\" looks like a URL. Beautiful Soup is not an HTTP client. You should probably use an HTTP client like requests to get the document behind the URL, and feed that document to Beautiful Soup.\n",
      "  ' that document to Beautiful Soup.' % decoded_markup\n",
      "/home/ubuntu/.local/lib/python3.6/site-packages/bs4/__init__.py:375: UserWarning: \"https://www.amazon.com/dp/b00zvnqaa0/ref=cm_cr_ryp_prd_ttl_sol_5\" looks like a URL. Beautiful Soup is not an HTTP client. You should probably use an HTTP client like requests to get the document behind the URL, and feed that document to Beautiful Soup.\n",
      "  ' that document to Beautiful Soup.' % decoded_markup\n",
      "/home/ubuntu/.local/lib/python3.6/site-packages/bs4/__init__.py:375: UserWarning: \"https://www.amazon.com/dp/b015ngq9ge/ref=cm_cr_ryp_prd_ttl_sol_3\" looks like a URL. Beautiful Soup is not an HTTP client. You should probably use an HTTP client like requests to get the document behind the URL, and feed that document to Beautiful Soup.\n",
      "  ' that document to Beautiful Soup.' % decoded_markup\n",
      "/home/ubuntu/.local/lib/python3.6/site-packages/bs4/__init__.py:375: UserWarning: \"https://www.amazon.com/dp/b01d9lvcai/ref=cm_cr_ryp_prd_ttl_sol_0\" looks like a URL. Beautiful Soup is not an HTTP client. You should probably use an HTTP client like requests to get the document behind the URL, and feed that document to Beautiful Soup.\n",
      "  ' that document to Beautiful Soup.' % decoded_markup\n",
      "/home/ubuntu/.local/lib/python3.6/site-packages/bs4/__init__.py:375: UserWarning: \"https://www.amazon.com/gp/product/b072bq2zmq/ref=oh_aui_detailpage_o03_s00?ie=utf8&psc=1\" looks like a URL. Beautiful Soup is not an HTTP client. You should probably use an HTTP client like requests to get the document behind the URL, and feed that document to Beautiful Soup.\n",
      "  ' that document to Beautiful Soup.' % decoded_markup\n",
      "/home/ubuntu/.local/lib/python3.6/site-packages/bs4/__init__.py:375: UserWarning: \"https://www.amazon.com/dp/b01h2e0j5m/ref=cm_cr_ryp_prd_ttl_sol_5\" looks like a URL. Beautiful Soup is not an HTTP client. You should probably use an HTTP client like requests to get the document behind the URL, and feed that document to Beautiful Soup.\n",
      "  ' that document to Beautiful Soup.' % decoded_markup\n",
      "/home/ubuntu/.local/lib/python3.6/site-packages/bs4/__init__.py:375: UserWarning: \"https://images-na.ssl-images-amazon.com/images/i/51ooncv7b2l._ss300_.jpg\" looks like a URL. Beautiful Soup is not an HTTP client. You should probably use an HTTP client like requests to get the document behind the URL, and feed that document to Beautiful Soup.\n",
      "  ' that document to Beautiful Soup.' % decoded_markup\n",
      "/home/ubuntu/.local/lib/python3.6/site-packages/bs4/__init__.py:375: UserWarning: \"https://www.amazon.com/dp/b01hgjijuu/ref=cm_cr_ryp_prd_ttl_sol_1\" looks like a URL. Beautiful Soup is not an HTTP client. You should probably use an HTTP client like requests to get the document behind the URL, and feed that document to Beautiful Soup.\n",
      "  ' that document to Beautiful Soup.' % decoded_markup\n",
      "/home/ubuntu/.local/lib/python3.6/site-packages/bs4/__init__.py:375: UserWarning: \"https://www.amazon.com/dp/b01d0jxckw/ref=cm_cr_ryp_prd_ttl_sol_0\" looks like a URL. Beautiful Soup is not an HTTP client. You should probably use an HTTP client like requests to get the document behind the URL, and feed that document to Beautiful Soup.\n",
      "  ' that document to Beautiful Soup.' % decoded_markup\n",
      "/home/ubuntu/.local/lib/python3.6/site-packages/bs4/__init__.py:375: UserWarning: \"https://images-na.ssl-images-amazon.com/images/i/315vppewbyl._ss300_.jpg\" looks like a URL. Beautiful Soup is not an HTTP client. You should probably use an HTTP client like requests to get the document behind the URL, and feed that document to Beautiful Soup.\n",
      "  ' that document to Beautiful Soup.' % decoded_markup\n",
      "/home/ubuntu/.local/lib/python3.6/site-packages/bs4/__init__.py:302: UserWarning: \"b'..'\" looks like a filename, not markup. You should probably open this file and pass the filehandle into Beautiful Soup.\n",
      "  ' Beautiful Soup.' % markup)\n",
      "/home/ubuntu/.local/lib/python3.6/site-packages/bs4/__init__.py:302: UserWarning: \"b'.'\" looks like a filename, not markup. You should probably open this file and pass the filehandle into Beautiful Soup.\n",
      "  ' Beautiful Soup.' % markup)\n",
      "/home/ubuntu/.local/lib/python3.6/site-packages/bs4/__init__.py:375: UserWarning: \"http://www.xpango.com?ref=93528714\" looks like a URL. Beautiful Soup is not an HTTP client. You should probably use an HTTP client like requests to get the document behind the URL, and feed that document to Beautiful Soup.\n",
      "  ' that document to Beautiful Soup.' % decoded_markup\n",
      "/home/ubuntu/.local/lib/python3.6/site-packages/bs4/__init__.py:375: UserWarning: \"https://images-na.ssl-images-amazon.com/images/i/41kmc8edxrl._ss300_.jpg\" looks like a URL. Beautiful Soup is not an HTTP client. You should probably use an HTTP client like requests to get the document behind the URL, and feed that document to Beautiful Soup.\n",
      "  ' that document to Beautiful Soup.' % decoded_markup\n",
      "/home/ubuntu/.local/lib/python3.6/site-packages/bs4/__init__.py:302: UserWarning: \"b'/'\" looks like a filename, not markup. You should probably open this file and pass the filehandle into Beautiful Soup.\n",
      "  ' Beautiful Soup.' % markup)\n"
     ]
    }
   ],
   "source": [
    "config = process_text.fit_text(\"phone_reviews_old.csv\")"
   ]
  },
  {
   "cell_type": "code",
   "execution_count": 7,
   "metadata": {},
   "outputs": [
    {
     "data": {
      "text/plain": [
       "<module 'seq2seq' from '/home/ubuntu/How-to-build-own-text-summarizer-using-deep-learning/seq2seq.py'>"
      ]
     },
     "execution_count": 7,
     "metadata": {},
     "output_type": "execute_result"
    }
   ],
   "source": [
    "reload(seq2seq)"
   ]
  },
  {
   "cell_type": "code",
   "execution_count": 10,
   "metadata": {},
   "outputs": [
    {
     "name": "stdout",
     "output_type": "stream",
     "text": [
      "WARNING:tensorflow:Entity <bound method AttentionLayer.call of <attention.AttentionLayer object at 0x7f2134071940>> could not be transformed and will be executed as-is. Please report this to the AutgoGraph team. When filing the bug, set the verbosity to 10 (on Linux, `export AUTOGRAPH_VERBOSITY=10`) and attach the full output. Cause: converting <bound method AttentionLayer.call of <attention.AttentionLayer object at 0x7f2134071940>>: AttributeError: module 'gast' has no attribute 'Num'\n",
      "WARNING: Entity <bound method AttentionLayer.call of <attention.AttentionLayer object at 0x7f2134071940>> could not be transformed and will be executed as-is. Please report this to the AutgoGraph team. When filing the bug, set the verbosity to 10 (on Linux, `export AUTOGRAPH_VERBOSITY=10`) and attach the full output. Cause: converting <bound method AttentionLayer.call of <attention.AttentionLayer object at 0x7f2134071940>>: AttributeError: module 'gast' has no attribute 'Num'\n",
      "WARNING:tensorflow:Entity <bound method AttentionLayer.call of <attention.AttentionLayer object at 0x7f2134071940>> could not be transformed and will be executed as-is. Please report this to the AutgoGraph team. When filing the bug, set the verbosity to 10 (on Linux, `export AUTOGRAPH_VERBOSITY=10`) and attach the full output. Cause: converting <bound method AttentionLayer.call of <attention.AttentionLayer object at 0x7f2134071940>>: AttributeError: module 'gast' has no attribute 'Num'\n",
      "WARNING: Entity <bound method AttentionLayer.call of <attention.AttentionLayer object at 0x7f2134071940>> could not be transformed and will be executed as-is. Please report this to the AutgoGraph team. When filing the bug, set the verbosity to 10 (on Linux, `export AUTOGRAPH_VERBOSITY=10`) and attach the full output. Cause: converting <bound method AttentionLayer.call of <attention.AttentionLayer object at 0x7f2134071940>>: AttributeError: module 'gast' has no attribute 'Num'\n"
     ]
    }
   ],
   "source": [
    "summarizer = seq2seq.Seq2SeqSummarizer(config)"
   ]
  },
  {
   "cell_type": "code",
   "execution_count": 11,
   "metadata": {
    "collapsed": true
   },
   "outputs": [],
   "source": [
    "df = config['reviews_dataframe']"
   ]
  },
  {
   "cell_type": "code",
   "execution_count": 12,
   "metadata": {
    "collapsed": true
   },
   "outputs": [],
   "source": [
    "x_tr,x_val,y_tr,y_val=train_test_split(np.array(df['text']),np.array(df['summary']),test_size=0.1,random_state=0,shuffle=True) "
   ]
  },
  {
   "cell_type": "code",
   "execution_count": null,
   "metadata": {},
   "outputs": [
    {
     "name": "stdout",
     "output_type": "stream",
     "text": [
      "Train on 150377 samples, validate on 16709 samples\n",
      "148352/150377 [============================>.] - ETA: 30s - loss: 1.7484"
     ]
    }
   ],
   "source": [
    "summarizer.fit(x_tr, y_tr, x_val, y_val, epochs=1, model_dir_path='./models')"
   ]
  },
  {
   "cell_type": "markdown",
   "metadata": {
    "colab_type": "text",
    "id": "JUValOzcHtEK"
   },
   "source": [
    "#Import the Libraries"
   ]
  },
  {
   "cell_type": "code",
   "execution_count": 63,
   "metadata": {
    "_cell_guid": "b1076dfc-b9ad-4769-8c92-a6c4dae69d19",
    "_uuid": "8f2839f25d086af736a60e9eeb907d3b93b6e0e5",
    "colab": {},
    "colab_type": "code",
    "collapsed": true,
    "id": "_Jpu8qLEFxcY",
    "outputId": "95968e01-faac-4911-c802-9c008a4e62cf"
   },
   "outputs": [],
   "source": [
    "import numpy as np\n",
    "import pandas as pd \n",
    "import re\n",
    "import os\n",
    "from bs4 import BeautifulSoup\n",
    "from keras.preprocessing.text import Tokenizer \n",
    "from keras.preprocessing.sequence import pad_sequences\n",
    "from nltk.corpus import stopwords\n",
    "from tensorflow.keras.layers import Input, LSTM, Embedding, Dense, Concatenate, TimeDistributed, Bidirectional\n",
    "from tensorflow.keras.models import Model\n",
    "from tensorflow.keras.callbacks import EarlyStopping\n",
    "from attention import AttentionLayer\n",
    "import warnings\n",
    "pd.set_option(\"display.max_colwidth\", 200)\n",
    "warnings.filterwarnings(\"ignore\")"
   ]
  },
  {
   "cell_type": "code",
   "execution_count": 64,
   "metadata": {
    "colab": {},
    "colab_type": "code",
    "collapsed": true,
    "id": "wnK5o4Z1Fxcj"
   },
   "outputs": [],
   "source": [
    "# read dataset\n",
    "data=pd.read_csv(\"phone_reviews_old.csv\", nrows=50000)"
   ]
  },
  {
   "cell_type": "markdown",
   "metadata": {
    "colab_type": "text",
    "id": "kGNQKvCaISIn"
   },
   "source": [
    "# Drop Duplicates and NA values"
   ]
  },
  {
   "cell_type": "code",
   "execution_count": 34,
   "metadata": {
    "colab": {},
    "colab_type": "code",
    "collapsed": true,
    "id": "Cjul88oOFxcr"
   },
   "outputs": [],
   "source": [
    "data.drop_duplicates(subset=['Text'],inplace=True)#dropping duplicates\n",
    "data.dropna(inplace=True)#dropping na"
   ]
  },
  {
   "cell_type": "code",
   "execution_count": 35,
   "metadata": {
    "collapsed": true
   },
   "outputs": [],
   "source": [
    "# remove rows where the summary has the word start and the length is 2 words\n",
    "data = data[data['Summary'].apply(lambda x: not(len(x.lower().split(' ')) <= 2 and ('star' in x.lower().split(' ') or 'stars' in x.lower().split(' ')) ))]"
   ]
  },
  {
   "cell_type": "code",
   "execution_count": 36,
   "metadata": {
    "collapsed": true
   },
   "outputs": [],
   "source": [
    "data = data[~data.Text.str.match('<.*>')]"
   ]
  },
  {
   "cell_type": "markdown",
   "metadata": {
    "colab_type": "text",
    "id": "qi0xD6BkIWAm"
   },
   "source": [
    "# Information about dataset\n",
    "\n",
    "Let us look at datatypes and shape of the dataset"
   ]
  },
  {
   "cell_type": "code",
   "execution_count": 37,
   "metadata": {
    "colab": {},
    "colab_type": "code",
    "collapsed": true,
    "id": "0s6IY-x2FxdL"
   },
   "outputs": [],
   "source": [
    "contraction_mapping = {\"ain't\": \"is not\", \"aren't\": \"are not\",\"can't\": \"cannot\", \"'cause\": \"because\", \"could've\": \"could have\", \"couldn't\": \"could not\",\n",
    "                           \"didn't\": \"did not\",  \"doesn't\": \"does not\", \"don't\": \"do not\", \"hadn't\": \"had not\", \"hasn't\": \"has not\", \"haven't\": \"have not\",\n",
    "                           \"he'd\": \"he would\",\"he'll\": \"he will\", \"he's\": \"he is\", \"how'd\": \"how did\", \"how'd'y\": \"how do you\", \"how'll\": \"how will\", \"how's\": \"how is\",\n",
    "                           \"I'd\": \"I would\", \"I'd've\": \"I would have\", \"I'll\": \"I will\", \"I'll've\": \"I will have\",\"I'm\": \"I am\", \"I've\": \"I have\", \"i'd\": \"i would\",\n",
    "                           \"i'd've\": \"i would have\", \"i'll\": \"i will\",  \"i'll've\": \"i will have\",\"i'm\": \"i am\", \"i've\": \"i have\", \"isn't\": \"is not\", \"it'd\": \"it would\",\n",
    "                           \"it'd've\": \"it would have\", \"it'll\": \"it will\", \"it'll've\": \"it will have\",\"it's\": \"it is\", \"let's\": \"let us\", \"ma'am\": \"madam\",\n",
    "                           \"mayn't\": \"may not\", \"might've\": \"might have\",\"mightn't\": \"might not\",\"mightn't've\": \"might not have\", \"must've\": \"must have\",\n",
    "                           \"mustn't\": \"must not\", \"mustn't've\": \"must not have\", \"needn't\": \"need not\", \"needn't've\": \"need not have\",\"o'clock\": \"of the clock\",\n",
    "                           \"oughtn't\": \"ought not\", \"oughtn't've\": \"ought not have\", \"shan't\": \"shall not\", \"sha'n't\": \"shall not\", \"shan't've\": \"shall not have\",\n",
    "                           \"she'd\": \"she would\", \"she'd've\": \"she would have\", \"she'll\": \"she will\", \"she'll've\": \"she will have\", \"she's\": \"she is\",\n",
    "                           \"should've\": \"should have\", \"shouldn't\": \"should not\", \"shouldn't've\": \"should not have\", \"so've\": \"so have\",\"so's\": \"so as\",\n",
    "                           \"this's\": \"this is\",\"that'd\": \"that would\", \"that'd've\": \"that would have\", \"that's\": \"that is\", \"there'd\": \"there would\",\n",
    "                           \"there'd've\": \"there would have\", \"there's\": \"there is\", \"here's\": \"here is\",\"they'd\": \"they would\", \"they'd've\": \"they would have\",\n",
    "                           \"they'll\": \"they will\", \"they'll've\": \"they will have\", \"they're\": \"they are\", \"they've\": \"they have\", \"to've\": \"to have\",\n",
    "                           \"wasn't\": \"was not\", \"we'd\": \"we would\", \"we'd've\": \"we would have\", \"we'll\": \"we will\", \"we'll've\": \"we will have\", \"we're\": \"we are\",\n",
    "                           \"we've\": \"we have\", \"weren't\": \"were not\", \"what'll\": \"what will\", \"what'll've\": \"what will have\", \"what're\": \"what are\",\n",
    "                           \"what's\": \"what is\", \"what've\": \"what have\", \"when's\": \"when is\", \"when've\": \"when have\", \"where'd\": \"where did\", \"where's\": \"where is\",\n",
    "                           \"where've\": \"where have\", \"who'll\": \"who will\", \"who'll've\": \"who will have\", \"who's\": \"who is\", \"who've\": \"who have\",\n",
    "                           \"why's\": \"why is\", \"why've\": \"why have\", \"will've\": \"will have\", \"won't\": \"will not\", \"won't've\": \"will not have\",\n",
    "                           \"would've\": \"would have\", \"wouldn't\": \"would not\", \"wouldn't've\": \"would not have\", \"y'all\": \"you all\",\n",
    "                           \"y'all'd\": \"you all would\",\"y'all'd've\": \"you all would have\",\"y'all're\": \"you all are\",\"y'all've\": \"you all have\",\n",
    "                           \"you'd\": \"you would\", \"you'd've\": \"you would have\", \"you'll\": \"you will\", \"you'll've\": \"you will have\",\n",
    "                           \"you're\": \"you are\", \"you've\": \"you have\"}"
   ]
  },
  {
   "cell_type": "code",
   "execution_count": 38,
   "metadata": {
    "colab": {},
    "colab_type": "code",
    "collapsed": true,
    "id": "XZr-u3OEFxdT"
   },
   "outputs": [],
   "source": [
    "stop_words = set(stopwords.words('english')) \n",
    "\n",
    "def text_cleaner(text,num):\n",
    "    newString = text.lower()\n",
    "    newString = BeautifulSoup(newString, \"html.parser\").text ##ME - had to change from lxml to html.parser\n",
    "    newString = re.sub(r'\\([^)]*\\)', '', newString)\n",
    "    newString = re.sub('\"','', newString)\n",
    "    newString = ' '.join([contraction_mapping[t] if t in contraction_mapping else t for t in newString.split(\" \")])    \n",
    "    newString = re.sub(r\"'s\\b\",\"\",newString)\n",
    "    newString = re.sub(\"[^a-zA-Z0-9]\", \" \", newString) \n",
    "    newString = re.sub('[m]{2,}', 'mm', newString)\n",
    "    if(num==0):\n",
    "        tokens = [w for w in newString.split() if not w in stop_words]\n",
    "    else:\n",
    "        tokens=newString.split()\n",
    "    long_words=[]\n",
    "    for i in tokens:\n",
    "        if len(i)>1:                                                 #removing short word\n",
    "            long_words.append(i)   \n",
    "    return (\" \".join(long_words)).strip()"
   ]
  },
  {
   "cell_type": "code",
   "execution_count": 39,
   "metadata": {
    "colab": {},
    "colab_type": "code",
    "collapsed": true,
    "id": "A2QAeCHWFxdY"
   },
   "outputs": [],
   "source": [
    "#call the function\n",
    "cleaned_text = []\n",
    "for t in data['Text']:\n",
    "    cleaned_text.append(text_cleaner(t,0)) "
   ]
  },
  {
   "cell_type": "markdown",
   "metadata": {
    "colab_type": "text",
    "id": "snRZY8wjLao2"
   },
   "source": [
    "Let us look at the first five preprocessed reviews"
   ]
  },
  {
   "cell_type": "code",
   "execution_count": 40,
   "metadata": {
    "colab": {},
    "colab_type": "code",
    "collapsed": true,
    "id": "GsRXocxoFxd-"
   },
   "outputs": [],
   "source": [
    "#call the function\n",
    "cleaned_summary = []\n",
    "for t in data['Summary']:\n",
    "    cleaned_summary.append(text_cleaner(t,1))"
   ]
  },
  {
   "cell_type": "markdown",
   "metadata": {
    "colab_type": "text",
    "id": "oZeD0gs6Lnb-"
   },
   "source": [
    "Let us look at the first 10 preprocessed summaries"
   ]
  },
  {
   "cell_type": "code",
   "execution_count": 41,
   "metadata": {
    "colab": {},
    "colab_type": "code",
    "collapsed": true,
    "id": "L1zLpnqsFxey"
   },
   "outputs": [],
   "source": [
    "data['cleaned_text']=cleaned_text\n",
    "data['cleaned_summary']=cleaned_summary"
   ]
  },
  {
   "cell_type": "markdown",
   "metadata": {
    "colab_type": "text",
    "id": "KT_D2cLiLy77"
   },
   "source": [
    "#Drop empty rows"
   ]
  },
  {
   "cell_type": "code",
   "execution_count": 42,
   "metadata": {
    "colab": {},
    "colab_type": "code",
    "collapsed": true,
    "id": "sYK390unFxfA"
   },
   "outputs": [],
   "source": [
    "data.replace('', np.nan, inplace=True)\n",
    "data.dropna(axis=0,inplace=True)"
   ]
  },
  {
   "cell_type": "code",
   "execution_count": 43,
   "metadata": {
    "collapsed": true
   },
   "outputs": [],
   "source": [
    "# remove the rows where the review text has less than or equal to 3 words\n",
    "data = data[data['cleaned_text'].apply(lambda x: len(x.split(' ')) > 3)]"
   ]
  },
  {
   "cell_type": "code",
   "execution_count": 44,
   "metadata": {
    "colab": {},
    "colab_type": "code",
    "collapsed": true,
    "id": "ZKD5VOWqFxhC"
   },
   "outputs": [],
   "source": [
    "max_text_len=100\n",
    "max_summary_len=20"
   ]
  },
  {
   "cell_type": "markdown",
   "metadata": {
    "colab_type": "text",
    "id": "E6d48E-8M4VO"
   },
   "source": [
    "Let us select the reviews and summaries whose length falls below or equal to **max_text_len** and **max_summary_len**"
   ]
  },
  {
   "cell_type": "code",
   "execution_count": 45,
   "metadata": {
    "colab": {},
    "colab_type": "code",
    "collapsed": true,
    "id": "yY0tEJP0FxhI"
   },
   "outputs": [],
   "source": [
    "cleaned_text =np.array(data['cleaned_text'])\n",
    "cleaned_summary=np.array(data['cleaned_summary'])\n",
    "\n",
    "short_text=[]\n",
    "short_summary=[]\n",
    "\n",
    "for i in range(len(cleaned_text)):\n",
    "    if(len(cleaned_summary[i].split())<=max_summary_len and len(cleaned_text[i].split())<=max_text_len):\n",
    "        short_text.append(cleaned_text[i])\n",
    "        short_summary.append(cleaned_summary[i])\n",
    "        \n",
    "df=pd.DataFrame({'text':short_text,'summary':short_summary})"
   ]
  },
  {
   "cell_type": "code",
   "execution_count": 46,
   "metadata": {
    "colab": {},
    "colab_type": "code",
    "collapsed": true,
    "id": "EwLUH78CFxhg"
   },
   "outputs": [],
   "source": [
    "df['summary'] = df['summary'].apply(lambda x : 'sostok '+ x + ' eostok')"
   ]
  },
  {
   "cell_type": "markdown",
   "metadata": {
    "colab_type": "text",
    "id": "1GlcX4RFOh13"
   },
   "source": [
    "We are getting closer to the model building part. Before that, we need to split our dataset into a training and validation set. We’ll use 90% of the dataset as the training data and evaluate the performance on the remaining 10% (holdout set):"
   ]
  },
  {
   "cell_type": "code",
   "execution_count": 47,
   "metadata": {
    "colab": {},
    "colab_type": "code",
    "collapsed": true,
    "id": "RakakKHcFxhl"
   },
   "outputs": [],
   "source": [
    "from sklearn.model_selection import train_test_split\n",
    "x_tr,x_val,y_tr,y_val=train_test_split(np.array(df['text']),np.array(df['summary']),test_size=0.1,random_state=0,shuffle=True) "
   ]
  },
  {
   "cell_type": "code",
   "execution_count": 48,
   "metadata": {
    "colab": {},
    "colab_type": "code",
    "collapsed": true,
    "id": "oRHTgX6hFxhq"
   },
   "outputs": [],
   "source": [
    "from keras.preprocessing.text import Tokenizer \n",
    "from keras.preprocessing.sequence import pad_sequences\n",
    "\n",
    "#prepare a tokenizer for reviews on training data\n",
    "x_tokenizer = Tokenizer() \n",
    "x_tokenizer.fit_on_texts(list(x_tr))"
   ]
  },
  {
   "cell_type": "code",
   "execution_count": 49,
   "metadata": {
    "colab": {},
    "colab_type": "code",
    "id": "y8KronV2Fxhx",
    "outputId": "d2eb2f27-fbbc-4e61-9556-3c3ff5e4327b"
   },
   "outputs": [
    {
     "name": "stdout",
     "output_type": "stream",
     "text": [
      "% of rare words in vocabulary: 66.65586519766688\n",
      "Total Coverage of rare words: 3.43591101566239\n"
     ]
    }
   ],
   "source": [
    "thresh=4\n",
    "\n",
    "cnt=0\n",
    "tot_cnt=0\n",
    "freq=0\n",
    "tot_freq=0\n",
    "\n",
    "for key,value in x_tokenizer.word_counts.items():\n",
    "    tot_cnt=tot_cnt+1\n",
    "    tot_freq=tot_freq+value\n",
    "    if(value<thresh):\n",
    "        cnt=cnt+1\n",
    "        freq=freq+value\n",
    "    \n",
    "print(\"% of rare words in vocabulary:\",(cnt/tot_cnt)*100)\n",
    "print(\"Total Coverage of rare words:\",(freq/tot_freq)*100)"
   ]
  },
  {
   "cell_type": "code",
   "execution_count": 50,
   "metadata": {
    "colab": {},
    "colab_type": "code",
    "collapsed": true,
    "id": "J2giEsF3Fxh3"
   },
   "outputs": [],
   "source": [
    "#prepare a tokenizer for reviews on training data\n",
    "x_tokenizer = Tokenizer(num_words=tot_cnt-cnt) \n",
    "x_tokenizer.fit_on_texts(list(x_tr))\n",
    "\n",
    "#convert text sequences into integer sequences\n",
    "x_tr_seq    =   x_tokenizer.texts_to_sequences(x_tr) \n",
    "x_val_seq   =   x_tokenizer.texts_to_sequences(x_val)\n",
    "\n",
    "#padding zero upto maximum length\n",
    "x_tr    =   pad_sequences(x_tr_seq,  maxlen=max_text_len, padding='post')\n",
    "x_val   =   pad_sequences(x_val_seq, maxlen=max_text_len, padding='post')\n",
    "\n",
    "#size of vocabulary ( +1 for padding token)\n",
    "x_tokenizer_word_index = x_tokenizer.word_index"
   ]
  },
  {
   "cell_type": "markdown",
   "metadata": {
    "colab_type": "text",
    "id": "uQfKP3sqRxi9"
   },
   "source": [
    "#Summary Tokenizer"
   ]
  },
  {
   "cell_type": "code",
   "execution_count": 51,
   "metadata": {
    "colab": {},
    "colab_type": "code",
    "collapsed": true,
    "id": "eRHqyBkBFxiJ"
   },
   "outputs": [],
   "source": [
    "#prepare a tokenizer for reviews on training data\n",
    "y_tokenizer = Tokenizer()   \n",
    "y_tokenizer.fit_on_texts(list(y_tr))"
   ]
  },
  {
   "cell_type": "code",
   "execution_count": 52,
   "metadata": {
    "colab": {},
    "colab_type": "code",
    "id": "yzE5OiRLFxiM",
    "outputId": "7f7a4f89-b088-4847-8172-09e5a2383d0e"
   },
   "outputs": [
    {
     "name": "stdout",
     "output_type": "stream",
     "text": [
      "% of rare words in vocabulary: 76.45687645687646\n",
      "Total Coverage of rare words: 4.644989607191559\n"
     ]
    }
   ],
   "source": [
    "thresh=6\n",
    "\n",
    "cnt=0\n",
    "tot_cnt=0\n",
    "freq=0\n",
    "tot_freq=0\n",
    "\n",
    "for key,value in y_tokenizer.word_counts.items():\n",
    "    tot_cnt=tot_cnt+1\n",
    "    tot_freq=tot_freq+value\n",
    "    if(value<thresh):\n",
    "        cnt=cnt+1\n",
    "        freq=freq+value\n",
    "    \n",
    "print(\"% of rare words in vocabulary:\",(cnt/tot_cnt)*100)\n",
    "print(\"Total Coverage of rare words:\",(freq/tot_freq)*100)"
   ]
  },
  {
   "cell_type": "markdown",
   "metadata": {
    "colab_type": "text",
    "id": "0PBhzKuRSw_9"
   },
   "source": [
    "Let us define the tokenizer with top most common words for summary."
   ]
  },
  {
   "cell_type": "code",
   "execution_count": 53,
   "metadata": {
    "colab": {},
    "colab_type": "code",
    "collapsed": true,
    "id": "-fswLvIgFxiR"
   },
   "outputs": [],
   "source": [
    "#prepare a tokenizer for reviews on training data\n",
    "y_tokenizer = Tokenizer(num_words=tot_cnt-cnt) \n",
    "y_tokenizer.fit_on_texts(list(y_tr))\n",
    "\n",
    "#convert text sequences into integer sequences\n",
    "y_tr_seq    =   y_tokenizer.texts_to_sequences(y_tr) \n",
    "y_val_seq   =   y_tokenizer.texts_to_sequences(y_val) \n",
    "\n",
    "#padding zero upto maximum length\n",
    "y_tr    =   pad_sequences(y_tr_seq, maxlen=max_summary_len, padding='post')\n",
    "y_val   =   pad_sequences(y_val_seq, maxlen=max_summary_len, padding='post')\n",
    "\n",
    "#size of vocabulary\n",
    "y_tokenizer_word_index = y_tokenizer.word_index"
   ]
  },
  {
   "cell_type": "code",
   "execution_count": 54,
   "metadata": {
    "colab": {},
    "colab_type": "code",
    "collapsed": true,
    "id": "kZ-vW82sFxih"
   },
   "outputs": [],
   "source": [
    "ind=[]\n",
    "for i in range(len(y_tr)):\n",
    "    cnt=0\n",
    "    for j in y_tr[i]:\n",
    "        if j!=0:\n",
    "            cnt=cnt+1\n",
    "    if(cnt==2):\n",
    "        ind.append(i)\n",
    "\n",
    "y_tr=np.delete(y_tr,ind, axis=0)\n",
    "x_tr=np.delete(x_tr,ind, axis=0)"
   ]
  },
  {
   "cell_type": "code",
   "execution_count": 55,
   "metadata": {
    "colab": {},
    "colab_type": "code",
    "collapsed": true,
    "id": "cx5NISuMFxik"
   },
   "outputs": [],
   "source": [
    "ind=[]\n",
    "for i in range(len(y_val)):\n",
    "    cnt=0\n",
    "    for j in y_val[i]:\n",
    "        if j!=0:\n",
    "            cnt=cnt+1\n",
    "    if(cnt==2):\n",
    "        ind.append(i)\n",
    "\n",
    "y_val=np.delete(y_val,ind, axis=0)\n",
    "x_val=np.delete(x_val,ind, axis=0)"
   ]
  },
  {
   "cell_type": "markdown",
   "metadata": {},
   "source": [
    "### Glove embeddings"
   ]
  },
  {
   "cell_type": "code",
   "execution_count": 56,
   "metadata": {
    "collapsed": true
   },
   "outputs": [],
   "source": [
    "embeddings_index = {}\n",
    "f = open(os.path.join('/dev/summarization', 'glove.6B.100d.txt'))\n",
    "for line in f:\n",
    "    values = line.split()\n",
    "    word = values[0]\n",
    "    coefs = np.asarray(values[1:], dtype='float32')\n",
    "    embeddings_index[word] = coefs\n",
    "f.close()\n"
   ]
  },
  {
   "cell_type": "code",
   "execution_count": 57,
   "metadata": {
    "collapsed": true
   },
   "outputs": [],
   "source": [
    "embedding_dim=100\n",
    "embedding_matrix_x = np.zeros((len(x_tokenizer_word_index)+1, embedding_dim))\n",
    "for word, i in x_tokenizer_word_index.items():\n",
    "    embedding_vector = embeddings_index.get(word)\n",
    "    if embedding_vector is not None:\n",
    "        # words not found in embedding index will be all-zeros.\n",
    "        embedding_matrix_x[i] = embedding_vector"
   ]
  },
  {
   "cell_type": "code",
   "execution_count": 58,
   "metadata": {
    "collapsed": true
   },
   "outputs": [],
   "source": [
    "embedding_matrix_y = np.zeros((len(y_tokenizer_word_index)+1, embedding_dim))\n",
    "for word, i in y_tokenizer_word_index.items():\n",
    "    embedding_vector = embeddings_index.get(word)\n",
    "    if embedding_vector is not None:\n",
    "        # words not found in embedding index will be all-zeros.\n",
    "        embedding_matrix_y[i] = embedding_vector"
   ]
  },
  {
   "cell_type": "markdown",
   "metadata": {
    "colab_type": "text",
    "id": "wOtlDcthFxip"
   },
   "source": [
    "# Model building\n",
    "\n",
    "We are finally at the model building part. But before we do that, we need to familiarize ourselves with a few terms which are required prior to building the model.\n",
    "\n",
    "**Return Sequences = True**: When the return sequences parameter is set to True, LSTM produces the hidden state and cell state for every timestep\n",
    "\n",
    "**Return State = True**: When return state = True, LSTM produces the hidden state and cell state of the last timestep only\n",
    "\n",
    "**Initial State**: This is used to initialize the internal states of the LSTM for the first timestep\n",
    "\n",
    "**Stacked LSTM**: Stacked LSTM has multiple layers of LSTM stacked on top of each other. \n",
    "This leads to a better representation of the sequence. I encourage you to experiment with the multiple layers of the LSTM stacked on top of each other (it’s a great way to learn this)\n",
    "\n",
    "Here, we are building a 3 stacked LSTM for the encoder:"
   ]
  },
  {
   "cell_type": "markdown",
   "metadata": {},
   "source": [
    "## Bidirectional"
   ]
  },
  {
   "cell_type": "code",
   "execution_count": 59,
   "metadata": {
    "colab": {},
    "colab_type": "code",
    "id": "zXef38nBFxir",
    "outputId": "7ae99521-46f8-4c6f-9cba-4979deffeee8"
   },
   "outputs": [
    {
     "name": "stdout",
     "output_type": "stream",
     "text": [
      "WARNING:tensorflow:Entity <bound method AttentionLayer.call of <attention.AttentionLayer object at 0x7f578c13a240>> could not be transformed and will be executed as-is. Please report this to the AutgoGraph team. When filing the bug, set the verbosity to 10 (on Linux, `export AUTOGRAPH_VERBOSITY=10`) and attach the full output. Cause: converting <bound method AttentionLayer.call of <attention.AttentionLayer object at 0x7f578c13a240>>: AttributeError: module 'gast' has no attribute 'Num'\n",
      "WARNING: Entity <bound method AttentionLayer.call of <attention.AttentionLayer object at 0x7f578c13a240>> could not be transformed and will be executed as-is. Please report this to the AutgoGraph team. When filing the bug, set the verbosity to 10 (on Linux, `export AUTOGRAPH_VERBOSITY=10`) and attach the full output. Cause: converting <bound method AttentionLayer.call of <attention.AttentionLayer object at 0x7f578c13a240>>: AttributeError: module 'gast' has no attribute 'Num'\n",
      "Model: \"model\"\n",
      "__________________________________________________________________________________________________\n",
      "Layer (type)                    Output Shape         Param #     Connected to                     \n",
      "==================================================================================================\n",
      "input_1 (InputLayer)            [(None, 100)]        0                                            \n",
      "__________________________________________________________________________________________________\n",
      "embedding (Embedding)           (None, 100, 100)     1543100     input_1[0][0]                    \n",
      "__________________________________________________________________________________________________\n",
      "encoder_lstm_layer1 (Bidirectio [(None, 100, 600), ( 962400      embedding[0][0]                  \n",
      "__________________________________________________________________________________________________\n",
      "encoder_lstm_layer2 (Bidirectio [(None, 100, 600), ( 2162400     encoder_lstm_layer1[0][0]        \n",
      "__________________________________________________________________________________________________\n",
      "input_2 (InputLayer)            [(None, None)]       0                                            \n",
      "__________________________________________________________________________________________________\n",
      "encoder_lstm_layer3 (Bidirectio [(None, 100, 600), ( 2162400     encoder_lstm_layer2[0][0]        \n",
      "__________________________________________________________________________________________________\n",
      "embedding_1 (Embedding)         (None, None, 100)    557800      input_2[0][0]                    \n",
      "__________________________________________________________________________________________________\n",
      "concatenate (Concatenate)       (None, 600)          0           encoder_lstm_layer3[0][1]        \n",
      "                                                                 encoder_lstm_layer3[0][3]        \n",
      "__________________________________________________________________________________________________\n",
      "concatenate_1 (Concatenate)     (None, 600)          0           encoder_lstm_layer3[0][2]        \n",
      "                                                                 encoder_lstm_layer3[0][4]        \n",
      "__________________________________________________________________________________________________\n",
      "decoder_lstm_layer (LSTM)       [(None, None, 600),  1682400     embedding_1[0][0]                \n",
      "                                                                 concatenate[0][0]                \n",
      "                                                                 concatenate_1[0][0]              \n",
      "__________________________________________________________________________________________________\n",
      "attention_layer (AttentionLayer ((None, None, 600),  720600      encoder_lstm_layer3[0][0]        \n",
      "                                                                 decoder_lstm_layer[0][0]         \n",
      "__________________________________________________________________________________________________\n",
      "concat_layer (Concatenate)      (None, None, 1200)   0           decoder_lstm_layer[0][0]         \n",
      "                                                                 attention_layer[0][0]            \n",
      "__________________________________________________________________________________________________\n",
      "time_distributed (TimeDistribut (None, None, 5578)   6699178     concat_layer[0][0]               \n",
      "==================================================================================================\n",
      "Total params: 16,490,278\n",
      "Trainable params: 14,389,378\n",
      "Non-trainable params: 2,100,900\n",
      "__________________________________________________________________________________________________\n"
     ]
    }
   ],
   "source": [
    "from keras import backend as K \n",
    "K.clear_session()\n",
    "import tensorflow as tf\n",
    "from tensorflow.core.protobuf import rewriter_config_pb2\n",
    "from tensorflow.keras.backend import set_session\n",
    "tf.keras.backend.clear_session()  # For easy reset of notebook state.\n",
    "\n",
    "config_proto = tf.ConfigProto()\n",
    "off = rewriter_config_pb2.RewriterConfig.OFF\n",
    "config_proto.graph_options.rewrite_options.arithmetic_optimization = off\n",
    "session = tf.Session(config=config_proto)\n",
    "set_session(session)\n",
    "\n",
    "latent_dim = 300\n",
    "embedding_dim=100\n",
    "\n",
    "# Encoder\n",
    "encoder_inputs = Input(shape=(max_text_len,))\n",
    "\n",
    "#embedding layer\n",
    "enc_emb = Embedding(len(x_tokenizer_word_index)+1,\n",
    "                    embedding_dim,\n",
    "                    weights=[embedding_matrix_x],\n",
    "                    input_length=max_text_len,\n",
    "                    trainable=False)(encoder_inputs)\n",
    "#enc_emb =  Embedding(x_voc, embedding_dim,trainable=True,name='encoder_emb_layer')(encoder_inputs)\n",
    "\n",
    "#encoder lstm 1\n",
    "encoder_lstm1 = Bidirectional(LSTM(latent_dim,return_sequences=True,return_state=True,dropout=0.4,recurrent_dropout=0.4),name='encoder_lstm_layer1')\n",
    "encoder_output1, forward_h1, forward_c1, backward_h1, backward_c1 = encoder_lstm1(enc_emb)\n",
    "\n",
    "#encoder lstm 2\n",
    "encoder_lstm2 = Bidirectional(LSTM(latent_dim,return_sequences=True,return_state=True,dropout=0.4,recurrent_dropout=0.4),name='encoder_lstm_layer2')\n",
    "encoder_output2, forward_h2, forward_c2, backward_h2, backward_c2 = encoder_lstm2(encoder_output1)\n",
    "\n",
    "#encoder lstm 3\n",
    "encoder_lstm3=Bidirectional(LSTM(latent_dim, return_state=True, return_sequences=True,dropout=0.4,recurrent_dropout=0.4), name='encoder_lstm_layer3')\n",
    "encoder_outputs, forward_h, forward_c, backward_h, backward_c= encoder_lstm3(encoder_output2)\n",
    "\n",
    "\n",
    "state_h = Concatenate(axis=-1)([forward_h, backward_h])\n",
    "state_c = Concatenate(axis=-1)([forward_c, backward_c])\n",
    "encoder_states = [state_h, state_c]\n",
    "\n",
    "# Set up the decoder, using `encoder_states` as initial state.\n",
    "decoder_inputs = Input(shape=(None,))\n",
    "\n",
    "#embedding layer\n",
    "dec_emb_layer = Embedding(len(y_tokenizer_word_index)+1,\n",
    "                    embedding_dim,\n",
    "                    weights=[embedding_matrix_y],\n",
    "                    input_length=max_summary_len,\n",
    "                    trainable=False)\n",
    "#dec_emb_layer = Embedding(y_voc, embedding_dim,trainable=True,name='decoder_emb_layer')\n",
    "dec_emb = dec_emb_layer(decoder_inputs)\n",
    "\n",
    "decoder_lstm = LSTM(latent_dim*2, return_sequences=True, return_state=True,dropout=0.4,recurrent_dropout=0.2,name='decoder_lstm_layer')\n",
    "decoder_outputs,decoder_fwd_state, decoder_back_state = decoder_lstm(dec_emb,initial_state=encoder_states)\n",
    "\n",
    "# Attention layer\n",
    "attn_layer = AttentionLayer(name='attention_layer')\n",
    "attn_out, attn_states = attn_layer([encoder_outputs, decoder_outputs])\n",
    "\n",
    "# Concat attention input and decoder LSTM output\n",
    "decoder_concat_input = Concatenate(axis=-1, name='concat_layer')([decoder_outputs, attn_out])\n",
    "\n",
    "#dense layer\n",
    "decoder_dense =  TimeDistributed(Dense(len(y_tokenizer_word_index)+1, activation='softmax'))\n",
    "decoder_outputs = decoder_dense(decoder_concat_input)\n",
    "\n",
    "# Define the model \n",
    "model = Model([encoder_inputs, decoder_inputs], decoder_outputs)\n",
    "\n",
    "model.summary() "
   ]
  },
  {
   "cell_type": "code",
   "execution_count": 60,
   "metadata": {
    "colab": {},
    "colab_type": "code",
    "collapsed": true,
    "id": "Lwfi1Fm8Fxiz"
   },
   "outputs": [],
   "source": [
    "model.compile(optimizer='rmsprop', loss='sparse_categorical_crossentropy')"
   ]
  },
  {
   "cell_type": "code",
   "execution_count": 61,
   "metadata": {
    "colab": {},
    "colab_type": "code",
    "collapsed": true,
    "id": "s-A3J92MUljB"
   },
   "outputs": [],
   "source": [
    "es = EarlyStopping(monitor='val_loss', mode='min', verbose=1,patience=2)"
   ]
  },
  {
   "cell_type": "code",
   "execution_count": 62,
   "metadata": {
    "colab": {},
    "colab_type": "code",
    "id": "ETnPzA4OFxi3",
    "outputId": "477e374f-7cf2-4d60-f86e-2c49c9cebedb"
   },
   "outputs": [
    {
     "name": "stdout",
     "output_type": "stream",
     "text": [
      "Train on 18471 samples, validate on 2045 samples\n",
      "Epoch 1/3\n",
      "18471/18471 [==============================] - 404s 22ms/sample - loss: 1.9447 - val_loss: 1.6115\n",
      "Epoch 2/3\n",
      "18471/18471 [==============================] - 394s 21ms/sample - loss: 1.6062 - val_loss: 1.4947\n",
      "Epoch 3/3\n",
      "18471/18471 [==============================] - 394s 21ms/sample - loss: 1.5139 - val_loss: 1.4345\n"
     ]
    }
   ],
   "source": [
    "history=model.fit([x_tr,y_tr[:,:-1]], y_tr.reshape(y_tr.shape[0],y_tr.shape[1], 1)[:,1:] ,epochs=3,callbacks=[es],batch_size=128, validation_data=([x_val,y_val[:,:-1]], y_val.reshape(y_val.shape[0],y_val.shape[1], 1)[:,1:]))"
   ]
  },
  {
   "cell_type": "code",
   "execution_count": 24,
   "metadata": {},
   "outputs": [
    {
     "ename": "NameError",
     "evalue": "name 'model' is not defined",
     "output_type": "error",
     "traceback": [
      "\u001b[0;31m---------------------------------------------------------------------------\u001b[0m",
      "\u001b[0;31mNameError\u001b[0m                                 Traceback (most recent call last)",
      "\u001b[0;32m<ipython-input-24-c8b0ed76289b>\u001b[0m in \u001b[0;36m<module>\u001b[0;34m\u001b[0m\n\u001b[0;32m----> 1\u001b[0;31m \u001b[0mmodel\u001b[0m\u001b[0;34m.\u001b[0m\u001b[0msave\u001b[0m\u001b[0;34m(\u001b[0m\u001b[0;34m'phone_reviews_bidirectional_epoch3.h5'\u001b[0m\u001b[0;34m)\u001b[0m\u001b[0;34m\u001b[0m\u001b[0;34m\u001b[0m\u001b[0m\n\u001b[0m",
      "\u001b[0;31mNameError\u001b[0m: name 'model' is not defined"
     ]
    }
   ],
   "source": [
    "model.save('phone_reviews_bidirectional_epoch3.h5')"
   ]
  },
  {
   "cell_type": "code",
   "execution_count": 26,
   "metadata": {},
   "outputs": [
    {
     "name": "stdout",
     "output_type": "stream",
     "text": [
      "WARNING:tensorflow:From /home/ubuntu/.local/lib/python3.6/site-packages/tensorflow/python/keras/initializers.py:119: calling RandomUniform.__init__ (from tensorflow.python.ops.init_ops) with dtype is deprecated and will be removed in a future version.\n",
      "Instructions for updating:\n",
      "Call initializer instance with the dtype argument instead of passing it to the constructor\n",
      "WARNING:tensorflow:From /home/ubuntu/.local/lib/python3.6/site-packages/tensorflow/python/ops/init_ops.py:97: calling GlorotUniform.__init__ (from tensorflow.python.ops.init_ops) with dtype is deprecated and will be removed in a future version.\n",
      "Instructions for updating:\n",
      "Call initializer instance with the dtype argument instead of passing it to the constructor\n",
      "WARNING:tensorflow:From /home/ubuntu/.local/lib/python3.6/site-packages/tensorflow/python/ops/init_ops.py:1251: calling VarianceScaling.__init__ (from tensorflow.python.ops.init_ops) with dtype is deprecated and will be removed in a future version.\n",
      "Instructions for updating:\n",
      "Call initializer instance with the dtype argument instead of passing it to the constructor\n",
      "WARNING:tensorflow:From /home/ubuntu/.local/lib/python3.6/site-packages/tensorflow/python/ops/init_ops.py:97: calling Orthogonal.__init__ (from tensorflow.python.ops.init_ops) with dtype is deprecated and will be removed in a future version.\n",
      "Instructions for updating:\n",
      "Call initializer instance with the dtype argument instead of passing it to the constructor\n",
      "WARNING:tensorflow:From /home/ubuntu/.local/lib/python3.6/site-packages/tensorflow/python/ops/init_ops.py:97: calling Zeros.__init__ (from tensorflow.python.ops.init_ops) with dtype is deprecated and will be removed in a future version.\n",
      "Instructions for updating:\n",
      "Call initializer instance with the dtype argument instead of passing it to the constructor\n",
      "WARNING:tensorflow:Entity <bound method AttentionLayer.call of <attention.AttentionLayer object at 0x7f517c6ac6a0>> could not be transformed and will be executed as-is. Please report this to the AutgoGraph team. When filing the bug, set the verbosity to 10 (on Linux, `export AUTOGRAPH_VERBOSITY=10`) and attach the full output. Cause: converting <bound method AttentionLayer.call of <attention.AttentionLayer object at 0x7f517c6ac6a0>>: AttributeError: module 'gast' has no attribute 'Num'\n",
      "WARNING: Entity <bound method AttentionLayer.call of <attention.AttentionLayer object at 0x7f517c6ac6a0>> could not be transformed and will be executed as-is. Please report this to the AutgoGraph team. When filing the bug, set the verbosity to 10 (on Linux, `export AUTOGRAPH_VERBOSITY=10`) and attach the full output. Cause: converting <bound method AttentionLayer.call of <attention.AttentionLayer object at 0x7f517c6ac6a0>>: AttributeError: module 'gast' has no attribute 'Num'\n",
      "WARNING:tensorflow:From /home/ubuntu/.local/lib/python3.6/site-packages/tensorflow/python/ops/math_grad.py:1250: add_dispatch_support.<locals>.wrapper (from tensorflow.python.ops.array_ops) is deprecated and will be removed in a future version.\n",
      "Instructions for updating:\n",
      "Use tf.where in 2.0, which has the same broadcast rule as np.where\n"
     ]
    }
   ],
   "source": [
    "from tensorflow.keras.models import load_model\n",
    "newmodel = load_model('./phone_reviews_bidirectional_epoch3.h5', custom_objects={'AttentionLayer': AttentionLayer})"
   ]
  },
  {
   "cell_type": "code",
   "execution_count": 25,
   "metadata": {
    "colab": {},
    "colab_type": "code",
    "collapsed": true,
    "id": "sBX0zZnOFxjW"
   },
   "outputs": [],
   "source": [
    "reverse_target_word_index=y_tokenizer.index_word\n",
    "reverse_source_word_index=x_tokenizer.index_word\n",
    "target_word_index=y_tokenizer.word_index"
   ]
  },
  {
   "cell_type": "code",
   "execution_count": 27,
   "metadata": {
    "collapsed": true
   },
   "outputs": [],
   "source": [
    "encoder_inputs = newmodel.input\n",
    "decoder_inputs = newmodel.get_layer('input_2').input\n",
    "encoder_outputs, forward_h, forward_c, backward_h, backward_c = newmodel.get_layer('encoder_lstm_layer3').output"
   ]
  },
  {
   "cell_type": "code",
   "execution_count": 32,
   "metadata": {
    "collapsed": true
   },
   "outputs": [],
   "source": [
    "dec_emb_layer = newmodel.get_layer('decoder_emb_layer').output"
   ]
  },
  {
   "cell_type": "markdown",
   "metadata": {
    "colab_type": "text",
    "id": "eM_nU_VvFxjq"
   },
   "source": [
    "# Inference\n",
    "\n",
    "Set up the inference for the encoder and decoder:"
   ]
  },
  {
   "cell_type": "markdown",
   "metadata": {},
   "source": [
    "## Bidirectional inference"
   ]
  },
  {
   "cell_type": "code",
   "execution_count": 34,
   "metadata": {
    "colab": {},
    "colab_type": "code",
    "id": "9QkrNV-4Fxjt"
   },
   "outputs": [
    {
     "ename": "ValueError",
     "evalue": "Tensor(\"Cast:0\", shape=(?, ?), dtype=int32) must be from the same graph as Tensor(\"decoder_emb_layer/embeddings/Read/ReadVariableOp:0\", shape=(1310, 100), dtype=float32).",
     "output_type": "error",
     "traceback": [
      "\u001b[0;31m---------------------------------------------------------------------------\u001b[0m",
      "\u001b[0;31mValueError\u001b[0m                                Traceback (most recent call last)",
      "\u001b[0;32m<ipython-input-34-9932ad4d8d5c>\u001b[0m in \u001b[0;36m<module>\u001b[0;34m\u001b[0m\n\u001b[1;32m     15\u001b[0m \u001b[0;31m# Get the embeddings of the decoder sequence\u001b[0m\u001b[0;34m\u001b[0m\u001b[0;34m\u001b[0m\u001b[0;34m\u001b[0m\u001b[0m\n\u001b[1;32m     16\u001b[0m \u001b[0mdec_emb_layer\u001b[0m \u001b[0;34m=\u001b[0m \u001b[0mEmbedding\u001b[0m\u001b[0;34m(\u001b[0m\u001b[0my_voc\u001b[0m\u001b[0;34m,\u001b[0m \u001b[0membedding_dim\u001b[0m\u001b[0;34m,\u001b[0m\u001b[0mname\u001b[0m\u001b[0;34m=\u001b[0m\u001b[0;34m'decoder_emb_layer'\u001b[0m\u001b[0;34m)\u001b[0m\u001b[0;34m\u001b[0m\u001b[0;34m\u001b[0m\u001b[0m\n\u001b[0;32m---> 17\u001b[0;31m \u001b[0mdec_emb2\u001b[0m\u001b[0;34m=\u001b[0m \u001b[0mdec_emb_layer\u001b[0m\u001b[0;34m(\u001b[0m\u001b[0mdecoder_inputs\u001b[0m\u001b[0;34m)\u001b[0m\u001b[0;34m\u001b[0m\u001b[0;34m\u001b[0m\u001b[0m\n\u001b[0m\u001b[1;32m     18\u001b[0m \u001b[0;31m# To predict the next word in the sequence, set the initial states to the states from the previous time step\u001b[0m\u001b[0;34m\u001b[0m\u001b[0;34m\u001b[0m\u001b[0;34m\u001b[0m\u001b[0m\n\u001b[1;32m     19\u001b[0m \u001b[0mdecoder_outputs2\u001b[0m\u001b[0;34m,\u001b[0m \u001b[0mstate_h2\u001b[0m\u001b[0;34m,\u001b[0m \u001b[0mstate_c2\u001b[0m \u001b[0;34m=\u001b[0m \u001b[0mdecoder_lstm\u001b[0m\u001b[0;34m(\u001b[0m\u001b[0mdec_emb2\u001b[0m\u001b[0;34m,\u001b[0m \u001b[0minitial_state\u001b[0m\u001b[0;34m=\u001b[0m\u001b[0;34m[\u001b[0m\u001b[0mdecoder_state_input_h\u001b[0m\u001b[0;34m,\u001b[0m \u001b[0mdecoder_state_input_c\u001b[0m\u001b[0;34m]\u001b[0m\u001b[0;34m)\u001b[0m\u001b[0;34m\u001b[0m\u001b[0;34m\u001b[0m\u001b[0m\n",
      "\u001b[0;32m~/.local/lib/python3.6/site-packages/tensorflow/python/keras/engine/base_layer.py\u001b[0m in \u001b[0;36m__call__\u001b[0;34m(self, inputs, *args, **kwargs)\u001b[0m\n\u001b[1;32m    632\u001b[0m                     \u001b[0moutputs\u001b[0m \u001b[0;34m=\u001b[0m \u001b[0mbase_layer_utils\u001b[0m\u001b[0;34m.\u001b[0m\u001b[0mmark_as_return\u001b[0m\u001b[0;34m(\u001b[0m\u001b[0moutputs\u001b[0m\u001b[0;34m,\u001b[0m \u001b[0macd\u001b[0m\u001b[0;34m)\u001b[0m\u001b[0;34m\u001b[0m\u001b[0;34m\u001b[0m\u001b[0m\n\u001b[1;32m    633\u001b[0m                 \u001b[0;32melse\u001b[0m\u001b[0;34m:\u001b[0m\u001b[0;34m\u001b[0m\u001b[0;34m\u001b[0m\u001b[0m\n\u001b[0;32m--> 634\u001b[0;31m                   \u001b[0moutputs\u001b[0m \u001b[0;34m=\u001b[0m \u001b[0mcall_fn\u001b[0m\u001b[0;34m(\u001b[0m\u001b[0minputs\u001b[0m\u001b[0;34m,\u001b[0m \u001b[0;34m*\u001b[0m\u001b[0margs\u001b[0m\u001b[0;34m,\u001b[0m \u001b[0;34m**\u001b[0m\u001b[0mkwargs\u001b[0m\u001b[0;34m)\u001b[0m\u001b[0;34m\u001b[0m\u001b[0;34m\u001b[0m\u001b[0m\n\u001b[0m\u001b[1;32m    635\u001b[0m \u001b[0;34m\u001b[0m\u001b[0m\n\u001b[1;32m    636\u001b[0m             \u001b[0;32mexcept\u001b[0m \u001b[0mTypeError\u001b[0m \u001b[0;32mas\u001b[0m \u001b[0me\u001b[0m\u001b[0;34m:\u001b[0m\u001b[0;34m\u001b[0m\u001b[0;34m\u001b[0m\u001b[0m\n",
      "\u001b[0;32m~/.local/lib/python3.6/site-packages/tensorflow/python/keras/layers/embeddings.py\u001b[0m in \u001b[0;36mcall\u001b[0;34m(self, inputs)\u001b[0m\n\u001b[1;32m    176\u001b[0m     \u001b[0;32mif\u001b[0m \u001b[0mdtype\u001b[0m \u001b[0;34m!=\u001b[0m \u001b[0;34m'int32'\u001b[0m \u001b[0;32mand\u001b[0m \u001b[0mdtype\u001b[0m \u001b[0;34m!=\u001b[0m \u001b[0;34m'int64'\u001b[0m\u001b[0;34m:\u001b[0m\u001b[0;34m\u001b[0m\u001b[0;34m\u001b[0m\u001b[0m\n\u001b[1;32m    177\u001b[0m       \u001b[0minputs\u001b[0m \u001b[0;34m=\u001b[0m \u001b[0mmath_ops\u001b[0m\u001b[0;34m.\u001b[0m\u001b[0mcast\u001b[0m\u001b[0;34m(\u001b[0m\u001b[0minputs\u001b[0m\u001b[0;34m,\u001b[0m \u001b[0;34m'int32'\u001b[0m\u001b[0;34m)\u001b[0m\u001b[0;34m\u001b[0m\u001b[0;34m\u001b[0m\u001b[0m\n\u001b[0;32m--> 178\u001b[0;31m     \u001b[0mout\u001b[0m \u001b[0;34m=\u001b[0m \u001b[0membedding_ops\u001b[0m\u001b[0;34m.\u001b[0m\u001b[0membedding_lookup\u001b[0m\u001b[0;34m(\u001b[0m\u001b[0mself\u001b[0m\u001b[0;34m.\u001b[0m\u001b[0membeddings\u001b[0m\u001b[0;34m,\u001b[0m \u001b[0minputs\u001b[0m\u001b[0;34m)\u001b[0m\u001b[0;34m\u001b[0m\u001b[0;34m\u001b[0m\u001b[0m\n\u001b[0m\u001b[1;32m    179\u001b[0m     \u001b[0;32mreturn\u001b[0m \u001b[0mout\u001b[0m\u001b[0;34m\u001b[0m\u001b[0;34m\u001b[0m\u001b[0m\n\u001b[1;32m    180\u001b[0m \u001b[0;34m\u001b[0m\u001b[0m\n",
      "\u001b[0;32m~/.local/lib/python3.6/site-packages/tensorflow/python/ops/embedding_ops.py\u001b[0m in \u001b[0;36membedding_lookup\u001b[0;34m(params, ids, partition_strategy, name, validate_indices, max_norm)\u001b[0m\n\u001b[1;32m    313\u001b[0m       \u001b[0mname\u001b[0m\u001b[0;34m=\u001b[0m\u001b[0mname\u001b[0m\u001b[0;34m,\u001b[0m\u001b[0;34m\u001b[0m\u001b[0;34m\u001b[0m\u001b[0m\n\u001b[1;32m    314\u001b[0m       \u001b[0mmax_norm\u001b[0m\u001b[0;34m=\u001b[0m\u001b[0mmax_norm\u001b[0m\u001b[0;34m,\u001b[0m\u001b[0;34m\u001b[0m\u001b[0;34m\u001b[0m\u001b[0m\n\u001b[0;32m--> 315\u001b[0;31m       transform_fn=None)\n\u001b[0m\u001b[1;32m    316\u001b[0m \u001b[0;34m\u001b[0m\u001b[0m\n\u001b[1;32m    317\u001b[0m \u001b[0;34m\u001b[0m\u001b[0m\n",
      "\u001b[0;32m~/.local/lib/python3.6/site-packages/tensorflow/python/ops/embedding_ops.py\u001b[0m in \u001b[0;36m_embedding_lookup_and_transform\u001b[0;34m(params, ids, partition_strategy, name, max_norm, transform_fn)\u001b[0m\n\u001b[1;32m    121\u001b[0m     \u001b[0mparams\u001b[0m \u001b[0;34m=\u001b[0m \u001b[0;34m[\u001b[0m\u001b[0mparams\u001b[0m\u001b[0;34m]\u001b[0m\u001b[0;34m\u001b[0m\u001b[0;34m\u001b[0m\u001b[0m\n\u001b[1;32m    122\u001b[0m \u001b[0;34m\u001b[0m\u001b[0m\n\u001b[0;32m--> 123\u001b[0;31m   \u001b[0;32mwith\u001b[0m \u001b[0mops\u001b[0m\u001b[0;34m.\u001b[0m\u001b[0mname_scope\u001b[0m\u001b[0;34m(\u001b[0m\u001b[0mname\u001b[0m\u001b[0;34m,\u001b[0m \u001b[0;34m\"embedding_lookup\"\u001b[0m\u001b[0;34m,\u001b[0m \u001b[0mparams\u001b[0m \u001b[0;34m+\u001b[0m \u001b[0;34m[\u001b[0m\u001b[0mids\u001b[0m\u001b[0;34m]\u001b[0m\u001b[0;34m)\u001b[0m \u001b[0;32mas\u001b[0m \u001b[0mname\u001b[0m\u001b[0;34m:\u001b[0m\u001b[0;34m\u001b[0m\u001b[0;34m\u001b[0m\u001b[0m\n\u001b[0m\u001b[1;32m    124\u001b[0m     \u001b[0mnp\u001b[0m \u001b[0;34m=\u001b[0m \u001b[0mlen\u001b[0m\u001b[0;34m(\u001b[0m\u001b[0mparams\u001b[0m\u001b[0;34m)\u001b[0m  \u001b[0;31m# Number of partitions\u001b[0m\u001b[0;34m\u001b[0m\u001b[0;34m\u001b[0m\u001b[0m\n\u001b[1;32m    125\u001b[0m     \u001b[0;31m# Preserve the resource variable status to avoid accidental dense reads.\u001b[0m\u001b[0;34m\u001b[0m\u001b[0;34m\u001b[0m\u001b[0;34m\u001b[0m\u001b[0m\n",
      "\u001b[0;32m~/.local/lib/python3.6/site-packages/tensorflow/python/framework/ops.py\u001b[0m in \u001b[0;36m__enter__\u001b[0;34m(self)\u001b[0m\n\u001b[1;32m   6506\u001b[0m       \u001b[0;32mif\u001b[0m \u001b[0mself\u001b[0m\u001b[0;34m.\u001b[0m\u001b[0m_values\u001b[0m \u001b[0;32mis\u001b[0m \u001b[0;32mNone\u001b[0m\u001b[0;34m:\u001b[0m\u001b[0;34m\u001b[0m\u001b[0;34m\u001b[0m\u001b[0m\n\u001b[1;32m   6507\u001b[0m         \u001b[0mself\u001b[0m\u001b[0;34m.\u001b[0m\u001b[0m_values\u001b[0m \u001b[0;34m=\u001b[0m \u001b[0;34m[\u001b[0m\u001b[0;34m]\u001b[0m\u001b[0;34m\u001b[0m\u001b[0;34m\u001b[0m\u001b[0m\n\u001b[0;32m-> 6508\u001b[0;31m       \u001b[0mg\u001b[0m \u001b[0;34m=\u001b[0m \u001b[0m_get_graph_from_inputs\u001b[0m\u001b[0;34m(\u001b[0m\u001b[0mself\u001b[0m\u001b[0;34m.\u001b[0m\u001b[0m_values\u001b[0m\u001b[0;34m)\u001b[0m\u001b[0;34m\u001b[0m\u001b[0;34m\u001b[0m\u001b[0m\n\u001b[0m\u001b[1;32m   6509\u001b[0m       \u001b[0mself\u001b[0m\u001b[0;34m.\u001b[0m\u001b[0m_g_manager\u001b[0m \u001b[0;34m=\u001b[0m \u001b[0mg\u001b[0m\u001b[0;34m.\u001b[0m\u001b[0mas_default\u001b[0m\u001b[0;34m(\u001b[0m\u001b[0;34m)\u001b[0m\u001b[0;34m\u001b[0m\u001b[0;34m\u001b[0m\u001b[0m\n\u001b[1;32m   6510\u001b[0m       \u001b[0mself\u001b[0m\u001b[0;34m.\u001b[0m\u001b[0m_g_manager\u001b[0m\u001b[0;34m.\u001b[0m\u001b[0m__enter__\u001b[0m\u001b[0;34m(\u001b[0m\u001b[0;34m)\u001b[0m\u001b[0;34m\u001b[0m\u001b[0;34m\u001b[0m\u001b[0m\n",
      "\u001b[0;32m~/.local/lib/python3.6/site-packages/tensorflow/python/framework/ops.py\u001b[0m in \u001b[0;36m_get_graph_from_inputs\u001b[0;34m(op_input_list, graph)\u001b[0m\n\u001b[1;32m   6133\u001b[0m         \u001b[0mgraph\u001b[0m \u001b[0;34m=\u001b[0m \u001b[0mgraph_element\u001b[0m\u001b[0;34m.\u001b[0m\u001b[0mgraph\u001b[0m\u001b[0;34m\u001b[0m\u001b[0;34m\u001b[0m\u001b[0m\n\u001b[1;32m   6134\u001b[0m       \u001b[0;32melif\u001b[0m \u001b[0moriginal_graph_element\u001b[0m \u001b[0;32mis\u001b[0m \u001b[0;32mnot\u001b[0m \u001b[0;32mNone\u001b[0m\u001b[0;34m:\u001b[0m\u001b[0;34m\u001b[0m\u001b[0;34m\u001b[0m\u001b[0m\n\u001b[0;32m-> 6135\u001b[0;31m         \u001b[0m_assert_same_graph\u001b[0m\u001b[0;34m(\u001b[0m\u001b[0moriginal_graph_element\u001b[0m\u001b[0;34m,\u001b[0m \u001b[0mgraph_element\u001b[0m\u001b[0;34m)\u001b[0m\u001b[0;34m\u001b[0m\u001b[0;34m\u001b[0m\u001b[0m\n\u001b[0m\u001b[1;32m   6136\u001b[0m       \u001b[0;32melif\u001b[0m \u001b[0mgraph_element\u001b[0m\u001b[0;34m.\u001b[0m\u001b[0mgraph\u001b[0m \u001b[0;32mis\u001b[0m \u001b[0;32mnot\u001b[0m \u001b[0mgraph\u001b[0m\u001b[0;34m:\u001b[0m\u001b[0;34m\u001b[0m\u001b[0;34m\u001b[0m\u001b[0m\n\u001b[1;32m   6137\u001b[0m         \u001b[0;32mraise\u001b[0m \u001b[0mValueError\u001b[0m\u001b[0;34m(\u001b[0m\u001b[0;34m\"%s is not from the passed-in graph.\"\u001b[0m \u001b[0;34m%\u001b[0m \u001b[0mgraph_element\u001b[0m\u001b[0;34m)\u001b[0m\u001b[0;34m\u001b[0m\u001b[0;34m\u001b[0m\u001b[0m\n",
      "\u001b[0;32m~/.local/lib/python3.6/site-packages/tensorflow/python/framework/ops.py\u001b[0m in \u001b[0;36m_assert_same_graph\u001b[0;34m(original_item, item)\u001b[0m\n\u001b[1;32m   6069\u001b[0m   \u001b[0;32mif\u001b[0m \u001b[0moriginal_item\u001b[0m\u001b[0;34m.\u001b[0m\u001b[0mgraph\u001b[0m \u001b[0;32mis\u001b[0m \u001b[0;32mnot\u001b[0m \u001b[0mitem\u001b[0m\u001b[0;34m.\u001b[0m\u001b[0mgraph\u001b[0m\u001b[0;34m:\u001b[0m\u001b[0;34m\u001b[0m\u001b[0;34m\u001b[0m\u001b[0m\n\u001b[1;32m   6070\u001b[0m     raise ValueError(\"%s must be from the same graph as %s.\" %\n\u001b[0;32m-> 6071\u001b[0;31m                      (item, original_item))\n\u001b[0m\u001b[1;32m   6072\u001b[0m \u001b[0;34m\u001b[0m\u001b[0m\n\u001b[1;32m   6073\u001b[0m \u001b[0;34m\u001b[0m\u001b[0m\n",
      "\u001b[0;31mValueError\u001b[0m: Tensor(\"Cast:0\", shape=(?, ?), dtype=int32) must be from the same graph as Tensor(\"decoder_emb_layer/embeddings/Read/ReadVariableOp:0\", shape=(1310, 100), dtype=float32)."
     ]
    }
   ],
   "source": [
    "from keras import backend as K \n",
    "K.clear_session()\n",
    "\n",
    "latent_dim = 300\n",
    "embedding_dim=100\n",
    "# Encode the input sequence to get the feature vector\n",
    "encoder_model = Model(inputs=encoder_inputs,outputs=[encoder_outputs, forward_h, forward_c, backward_h, backward_c])\n",
    "\n",
    "# Decoder setup\n",
    "# Below tensors will hold the states of the previous time step\n",
    "decoder_state_input_h = Input(shape=(latent_dim*2,))\n",
    "decoder_state_input_c = Input(shape=(latent_dim*2,))\n",
    "decoder_hidden_state_input = Input(shape=(max_text_len,latent_dim*2))\n",
    "\n",
    "# Get the embeddings of the decoder sequence\n",
    "dec_emb_layer = Embedding(len(y_tokenizer_word_index)+1,\n",
    "                            embedding_dim,\n",
    "                            weights=[embedding_matrix_y],\n",
    "                            input_length=max_summary_len,\n",
    "                            trainable=False,\n",
    "                            name='decoder_emb_layer')\n",
    "dec_emb2= dec_emb_layer(decoder_inputs) \n",
    "# To predict the next word in the sequence, set the initial states to the states from the previous time step\n",
    "decoder_outputs2, state_h2, state_c2 = decoder_lstm(dec_emb2, initial_state=[decoder_state_input_h, decoder_state_input_c])\n",
    "\n",
    "#attention inference\n",
    "\n",
    "attn_out_inf, attn_states_inf = attn_layer([decoder_hidden_state_input, decoder_outputs2])\n",
    "decoder_inf_concat = Concatenate(axis=-1, name='concat')([decoder_outputs2, attn_out_inf])\n",
    "\n",
    "# A dense softmax layer to generate prob dist. over the target vocabulary\n",
    "decoder_outputs2 = decoder_dense(decoder_inf_concat) \n",
    "\n",
    "# Final decoder model\n",
    "decoder_model = Model(\n",
    "    [decoder_inputs] + [decoder_hidden_state_input,decoder_state_input_h, decoder_state_input_c],\n",
    "    [decoder_outputs2] + [state_h2, state_c2])"
   ]
  },
  {
   "cell_type": "markdown",
   "metadata": {},
   "source": [
    "## Bidirectional decoder"
   ]
  },
  {
   "cell_type": "code",
   "execution_count": 31,
   "metadata": {
    "colab": {},
    "colab_type": "code",
    "collapsed": true,
    "id": "6f6TTFnBFxj6"
   },
   "outputs": [],
   "source": [
    "def decode_sequence(input_seq):\n",
    "    # Encode the input as state vectors.\n",
    "    e_out, forward_h, forward_c, backward_h, backward_c = encoder_model.predict(input_seq)\n",
    "    \n",
    "    e_h = np.concatenate((forward_h, backward_h), axis=-1)\n",
    "    e_c = np.concatenate((forward_c, backward_c), axis=-1)\n",
    "    \n",
    "\n",
    "    # Generate empty target sequence of length 1.\n",
    "    target_seq = np.zeros((1,1))\n",
    "    \n",
    "    # Populate the first word of target sequence with the start word.\n",
    "    target_seq[0, 0] = target_word_index['sostok']\n",
    "\n",
    "    stop_condition = False\n",
    "    decoded_sentence = ''\n",
    "    while not stop_condition:\n",
    "      \n",
    "        output_tokens, h, c = decoder_model.predict([target_seq] + [e_out, e_h, e_c])\n",
    "\n",
    "        # Sample a token\n",
    "        sampled_token_index = np.argmax(output_tokens[0, -1, :])\n",
    "        sampled_token = reverse_target_word_index[sampled_token_index]\n",
    "        \n",
    "        if(sampled_token!='eostok'):\n",
    "            decoded_sentence += ' '+sampled_token\n",
    "\n",
    "        # Exit condition: either hit max length or find stop word.\n",
    "        if (sampled_token == 'eostok'  or len(decoded_sentence.split()) >= (max_summary_len-1)):\n",
    "            stop_condition = True\n",
    "\n",
    "        # Update the target sequence (of length 1).\n",
    "        target_seq = np.zeros((1,1))\n",
    "        target_seq[0, 0] = sampled_token_index\n",
    "\n",
    "        # Update internal states\n",
    "        e_h, e_c = h, c\n",
    "\n",
    "    return decoded_sentence"
   ]
  },
  {
   "cell_type": "code",
   "execution_count": 32,
   "metadata": {
    "colab": {},
    "colab_type": "code",
    "collapsed": true,
    "id": "aAUntznIFxj9"
   },
   "outputs": [],
   "source": [
    "def seq2summary(input_seq):\n",
    "    newString=''\n",
    "    for i in input_seq:\n",
    "        if((i!=0 and i!=target_word_index['sostok']) and i!=target_word_index['eostok']):\n",
    "            newString=newString+reverse_target_word_index[i]+' '\n",
    "    return newString\n",
    "\n",
    "def seq2text(input_seq):\n",
    "    newString=''\n",
    "    for i in input_seq:\n",
    "        if(i!=0):\n",
    "            newString=newString+reverse_source_word_index[i]+' '\n",
    "    return newString"
   ]
  },
  {
   "cell_type": "code",
   "execution_count": 95,
   "metadata": {
    "collapsed": true
   },
   "outputs": [],
   "source": [
    "e_out, forward_h, forward_c, backward_h, backward_c = encoder_model.predict(x_tr[i].reshape(1,max_text_len))\n",
    "    \n",
    "e_h = np.concatenate((forward_h, backward_h), axis=-1)\n",
    "e_c = np.concatenate((forward_c, backward_c), axis=-1)"
   ]
  },
  {
   "cell_type": "code",
   "execution_count": 33,
   "metadata": {
    "colab": {},
    "colab_type": "code",
    "id": "BUtQmQTmFxkI",
    "outputId": "f407d9fc-e0cd-4082-98f5-bd1f562dc26f"
   },
   "outputs": [
    {
     "name": "stdout",
     "output_type": "stream",
     "text": [
      "Review: best phone ever would recommend anyone second thoughts buy phone without hesitation disappointed samsung galaxy note rise beyond expectations wow say \n",
      "Original summary: best phone ever \n",
      "Predicted summary:  good phone\n",
      "\n",
      "\n",
      "Review: used awesome got crappy seven months got replaced exact issues supper buggy phone get get mad \n",
      "Original summary: it used to be awesome but it got crappy after months \n",
      "Predicted summary:  good phone\n",
      "\n",
      "\n",
      "Review: liked weight shape screen like speaker sometimes hard understand voice talking \n",
      "Original summary: liked the weight \n",
      "Predicted summary:  the phone is not good but it was\n",
      "\n",
      "\n",
      "Review: manual came unit incomplete still unable operate phone \n",
      "Original summary: useless purchase \n",
      "Predicted summary:  good phone\n",
      "\n",
      "\n",
      "Review: thank loving phone kinda hole online thing glad \n",
      "Original summary: kinda doing the online thing but am glad did \n",
      "Predicted summary:  great phone\n",
      "\n",
      "\n",
      "Review: first phone received work place purchased prompt replacing got second phone happy place purchased phone supposed brand new phone refurbished took verizon added account said phone blue one said must refurbished brand new phone worked quit buy another phone love env3 phone working make sure check refurbished phone \n",
      "Original summary: phone is ok \n",
      "Predicted summary:  the phone was not good but it was\n",
      "\n",
      "\n",
      "Review: got phone father much smart phone user found phone perfect \n",
      "Original summary: he is not much of smart phone user \n",
      "Predicted summary:  great phone\n",
      "\n",
      "\n",
      "Review: great phone came brand new time sealed packaging described downfall got dud headphone purchase work right \n",
      "Original summary: good buy \n",
      "Predicted summary:  great phone\n",
      "\n",
      "\n",
      "Review: alright perfect phone daughter \n",
      "Original summary: perfect phone for my daughter \n",
      "Predicted summary:  great phone\n",
      "\n",
      "\n",
      "Review: slow os sure phone galaxies phone couple scratches already \n",
      "Original summary: slow os not sure if it is this phone \n",
      "Predicted summary:  the phone was not good but it was\n",
      "\n",
      "\n",
      "Review: chose rugby pro two prior unfortunately rugby runs slow bit phone \n",
      "Original summary: rugby pro \n",
      "Predicted summary:  good phone\n",
      "\n",
      "\n",
      "Review: happy phone seller met expectations would recommend phone seller phone came box correct works country \n",
      "Original summary: very happy \n",
      "Predicted summary:  great phone\n",
      "\n",
      "\n",
      "Review: couple odd things happen phone price winner \n",
      "Original summary: winner for the price \n",
      "Predicted summary:  good phone\n",
      "\n",
      "\n",
      "Review: model many improvements s3 phone well packaged pleased \n",
      "Original summary: the phone was well packaged am very pleased with it \n",
      "Predicted summary:  good phone\n",
      "\n",
      "\n",
      "Review: phone works great sprint activate buy one best buy feel like returning phone gave nephew ipod \n",
      "Original summary: came in good condition \n",
      "Predicted summary:  great phone\n",
      "\n",
      "\n",
      "Review: lasted months died reason piece cheap china crap \n",
      "Original summary: piece of crap \n",
      "Predicted summary:  the phone was not good but it was\n",
      "\n",
      "\n",
      "Review: returning phone tried get number phone sprint could activate told phone either prepaid phone flash phone either way useful needs \n",
      "Original summary: failure \n",
      "Predicted summary:  the phone was not good but it was\n",
      "\n",
      "\n",
      "Review: bought one november may stopped working need contact seller know \n",
      "Original summary: bought one of this on and by may \n",
      "Predicted summary:  the phone was not good but it was\n",
      "\n",
      "\n",
      "Review: good poor reception lots dropped calls lost text \n",
      "Original summary: not good poor reception \n",
      "Predicted summary:  it is good phone but it is\n",
      "\n",
      "\n",
      "Review: cellphone good seller says 10 look pictures cosmetically minimum says look pictures comes original retail box funny coming plastic bag without charger nothing tested function perfectly second day battery charging never buy waste time money returned amazon \n",
      "Original summary: second hand it is waste of money \n",
      "Predicted summary:  the phone is not good but the phone is\n",
      "\n",
      "\n",
      "Review: item delivered time described excellent \n",
      "Original summary: excellent \n",
      "Predicted summary:  great phone\n",
      "\n",
      "\n",
      "Review: phone came great shape hoped tried use camera constantly freezes hardly ever works bought model previously loved problems \n",
      "Original summary: great original phone but problems with bought from \n",
      "Predicted summary:  great phone\n",
      "\n",
      "\n",
      "Review: awesome phone works great straight talk need att micro sim set love phone issues yet \n",
      "Original summary: great phone \n",
      "Predicted summary:  great phone\n",
      "\n",
      "\n",
      "Review: charged first time become hot first conversation using cell voice quality terrible wish buy one \n",
      "Original summary: the voice quality is just terrible wish did not buy one \n",
      "Predicted summary:  the phone was not good but it was\n",
      "\n",
      "\n",
      "Review: need specify take sim bought one thinking going take sim im another country know sprint take sim \n",
      "Original summary: need to that it did not take sim \n",
      "Predicted summary:  the phone is not good but it was\n",
      "\n",
      "\n",
      "Review: ordered girlfriend prefers windows phone screen gorgeous quick great phone complaint buttons would served better raised little hard press phone case \n",
      "Original summary: great looking and solid \n",
      "Predicted summary:  great phone\n",
      "\n",
      "\n",
      "Review: one star much got phone expecting knock note exactly pictures showed got got already used phone glass taken bottom corner shot battery luckily came system phone absolutely dreadful seller states feel ripped pissed slow camera sucks cannot even type without malfunctioning way headphones absolutely horrible one side worked sounded never buy ever know phone people got reviews one got probably worth giving kid play phone sucks bad ugh words cannot describe \n",
      "Original summary: hate it scam \n",
      "Predicted summary:  it is good phone but it is\n",
      "\n",
      "\n",
      "Review: great phone im pleased \n",
      "Original summary: hello \n",
      "Predicted summary:  great phone\n",
      "\n",
      "\n",
      "Review: lot research purchasing phone disappointed started problems receiving images via text started dropping calls changed carriers thinking carrier got new chip installed reset phone fixes worked short time began problems time got new chip reset phone time fix lasted less less time years dealing problems got rid \n",
      "Original summary: designed to \n",
      "Predicted summary:  the phone was not good but it was not\n",
      "\n",
      "\n",
      "Review: phone great little cosmetic damage mostly corners previously case works great would def recommend phone anyone looking galaxy s4 \n",
      "Original summary: phone is great very little damage mostly on the from \n",
      "Predicted summary:  great phone\n",
      "\n",
      "\n",
      "Review: thing wrong got part phone great shape little dirt clean new \n",
      "Original summary: phone is in great shape just little to clean and \n",
      "Predicted summary:  good phone\n",
      "\n",
      "\n",
      "Review: great phone pretty easy use simple basic apps functions gift mother law loves \n",
      "Original summary: great phone \n",
      "Predicted summary:  great phone\n",
      "\n",
      "\n",
      "Review: delivered date stated great phone price bought 16 year old grandson anything teenagers like phones like texting gaming music \n",
      "Original summary: is great phone for the price \n",
      "Predicted summary:  great phone\n",
      "\n",
      "\n",
      "Review: like need mobile samsung cell phones emergency purposes cell phone break \n",
      "Original summary: like it just need more of these \n",
      "Predicted summary:  it is good phone but it is\n",
      "\n",
      "\n",
      "Review: junk worked less month \n",
      "Original summary: do not waste your money junk \n",
      "Predicted summary:  the phone was not good but it was\n",
      "\n",
      "\n",
      "Review: phone brand new original apple manufacturer box works perfectly however phone arrive locked first received aware able submit form unlock device since phone locked service unlocked next day submit form restore phone using itunes go lot research figure would nice seller let us know anyway phone fine unhappy frustration go make phone unlocked fairly simple unlock though hope helps frustrated people well \n",
      "Original summary: so it would be nice if the seller let us know what to do \n",
      "Predicted summary:  good phone\n",
      "\n",
      "\n",
      "Review: phone horrible every way hate much also got one son also hated away bought another kind phone afraid buy samsung phone \n",
      "Original summary: hate it \n",
      "Predicted summary:  the phone was not good but it was\n",
      "\n",
      "\n",
      "Review: great windows phone prefer camera software availability 925 \n",
      "Original summary: great phone \n",
      "Predicted summary:  great phone\n",
      "\n",
      "\n",
      "Review: great came good description even better slow shipping \n",
      "Original summary: great \n",
      "Predicted summary:  great phone\n",
      "\n",
      "\n",
      "Review: absolutely exceptional keep delivering top quality products amazon wireless \n",
      "Original summary: absolutely keep on top quality \n",
      "Predicted summary:  it is good phone but it is\n",
      "\n",
      "\n",
      "Review: item arrived noticeable bump along left edge phone functions correct noticeable going using phone development research problem day day phone would returning \n",
      "Original summary: item arrived with the left \n"
     ]
    },
    {
     "name": "stdout",
     "output_type": "stream",
     "text": [
      "Predicted summary:  the phone is not good but it is\n",
      "\n",
      "\n",
      "Review: want run phone best model choose flashing touch took minutes running great \n",
      "Original summary: is here \n",
      "Predicted summary:  good phone\n",
      "\n",
      "\n",
      "Review: bought friend verizon send new sim cost registering verizon easy enough nice inexpensive upgrade entry level moto android phone bigger screen storage faster cpu lte great value stuck verizon \n",
      "Original summary: great value \n",
      "Predicted summary:  it is good phone but it is\n",
      "\n",
      "\n",
      "Review: turning know worst experience \n",
      "Original summary: its worst experience \n",
      "Predicted summary:  the phone was not good but it was\n",
      "\n",
      "\n",
      "Review: great deal looks works like brand new got son christmas loves never even knew brand new came charger earphones like order new phone could happier \n",
      "Original summary: even better than expected \n",
      "Predicted summary:  great phone\n",
      "\n",
      "\n",
      "Review: excellent budget phone care service provider \n",
      "Original summary: am glad bought this phone \n",
      "Predicted summary:  great phone\n",
      "\n",
      "\n",
      "Review: horrible phone buy end call button middle screen phone face contact hangs phone talk speaker phone \n",
      "Original summary: horrible phone do not buy it \n",
      "Predicted summary:  the phone was not good but it was\n",
      "\n",
      "\n",
      "Review: purchased phone teenage daughter believing going receive unlocked phone att sprint still knowing would able activate mobile instead received verizon phone realize went mobile able activate say daughter happy neither ended trading phone ended costing money \n",
      "Original summary: make sure you get what you ordered \n",
      "Predicted summary:  good phone\n",
      "\n",
      "\n",
      "Review: refused delivery hearing friend bad experience two bought generally underpowered buggy poor support went used moto instead happy \n",
      "Original summary: second hand review \n",
      "Predicted summary:  the phone was not good but it was\n",
      "\n",
      "\n",
      "Review: phone everything expected although verizon lie say window phones good contacted microsoft left verizon lies windows 10 going awesome phone awesome friends phone camera better thank amazon sellers always pleasure \n",
      "Original summary: window phones are not good microsoft \n",
      "Predicted summary:  great phone\n",
      "\n",
      "\n",
      "Review: pretty much worse cell phone ever owned replaced times warranty gave got new samsung galaxy s4 using almost years without major issues \n",
      "Original summary: lemon of phone \n",
      "Predicted summary:  the phone was not good but the phone is\n",
      "\n",
      "\n",
      "Review: good phone except key takes several clicks puts txt messages screen \n",
      "Original summary: pretty good phone but functioning key costs it couple of stars \n",
      "Predicted summary:  good phone\n",
      "\n",
      "\n",
      "Review: use basic phone battery life good needed back phone get need charging week much stand state \n",
      "Original summary: good basic phone \n",
      "Predicted summary:  good phone\n",
      "\n",
      "\n",
      "Review: really enjoyed happy purchase play get things works great looking purchasing saved money also contract verizon phone thus two year contract get really happy saved money well \n",
      "Original summary: great \n",
      "Predicted summary:  great phone\n",
      "\n",
      "\n",
      "Review: dont get wifi turns randomly screen go black stay like worst product ever \n",
      "Original summary: the screen will go black stay like that for while \n",
      "Predicted summary:  the phone was not good but it was\n",
      "\n",
      "\n",
      "Review: bought daughter came great condition activated easily daughter love would buy reseller \n",
      "Original summary: great phone \n",
      "Predicted summary:  great phone\n",
      "\n",
      "\n",
      "Review: great phone upon updating software countless times almost basic normal basic functionality camera actually save send 5mp images social media sites crazy photography care phones might \n",
      "Original summary: do not know \n",
      "Predicted summary:  great phone\n",
      "\n",
      "\n",
      "Review: love nice phone bought live tiles really nice daughters use internet without service love use internet home share internet phone use free text app nice phone \n",
      "Original summary: love it nice phone bought the live are \n",
      "Predicted summary:  great phone\n",
      "\n",
      "\n",
      "Review: buy cheap good phone also update install lot apps runs background \n",
      "Original summary: very cheap very good \n",
      "Predicted summary:  it is good phone but it is\n",
      "\n",
      "\n",
      "Review: bought rca phones travel jamaica europe love phone everything iphone local sim cards draw back camera live recommend phone anyone wants good unlocked phone \n",
      "Original summary: love this phone it does everything that my iphone \n",
      "Predicted summary:  great phone\n",
      "\n",
      "\n",
      "Review: phone turn even hrs charging tried different charger well see original charger defective still phone would turn \n",
      "Original summary: turn on \n",
      "Predicted summary:  the phone was not good but it was\n",
      "\n",
      "\n",
      "Review: phone shipped timely manner looks brand new works like champ happy item \n",
      "Original summary: looks brand new and works like \n",
      "Predicted summary:  great phone\n",
      "\n",
      "\n",
      "Review: instructions phones foreign languages us instructions also adapters charge phones make contact charger take apart adapter bend pins connect charger ac plug \n",
      "Original summary: instructions for phones in foreign no us instructions \n",
      "Predicted summary:  the phone was not good but it was\n",
      "\n",
      "\n",
      "Review: buyers aware 39 95 95 wireless paid 49 95 tax march 2015 new seen adds 95 2013 model hdmi output 4g lte great come motorola motorola starts running soon ships retailers date purchase check motorola ship dates told usually means little warranty motorola according tech support buy reviews retailers picked check manufacture warranties purchase read small print even find \n",
      "Original summary: 4g lte other great come on \n",
      "Predicted summary:  the phone is good but the phone is\n",
      "\n",
      "\n",
      "Review: rating lower star would given phone came completely spanish even instructions spanish funny remember seeing anything description spanish phone \n",
      "Original summary: do not buy this phone \n",
      "Predicted summary:  the phone was not good but it was\n",
      "\n",
      "\n",
      "Review: bought two months ago love one dual sim type use travel europe \n",
      "Original summary: love it \n",
      "Predicted summary:  great phone\n",
      "\n",
      "\n",
      "Review: bought phone grandson must say loves put one best purchases \n",
      "Original summary: he does not put it down one of my best \n",
      "Predicted summary:  good phone\n",
      "\n",
      "\n",
      "Review: really disappointment buy phone started failure lit screen image returns disappointed purchase seller want make money back feel like cheated \n",
      "Original summary: it really is disappointment buy the phone \n",
      "Predicted summary:  the phone was not good but it was not\n",
      "\n",
      "\n",
      "Review: locked phone needs six months contract att get unlocked said contract \n",
      "Original summary: it is locked phone needs six months contract with att \n",
      "Predicted summary:  the phone was not good but it was\n",
      "\n",
      "\n",
      "Review: placed order phone realizing unlocked would required sd card shortly placing order emailed company cancel order phone would work verizon account open entirely new verizon account phone luckily mine anyway two days receiving phone touch screen began glitch went bed woke morning touch screen completely stopped registering touch spent 225 phone 120 activate another 130 fix screen bringing attention company responded short mediocre reply refusing accommodate terrible services stopped together ask replacement extra money spent make phone functional would recommend anyone purchase products sd wireless offer \n",
      "Original summary: terrible customer service \n",
      "Predicted summary:  the phone is not good but the phone is\n",
      "\n",
      "\n",
      "Review: know phone bought amazon experiencing glitches phone shuts random times screen freezes time time rare times choose make phone call dial screen cant hang fear may lose everything phone one day may purchase new phone \n",
      "Original summary: new phone old technology maybe \n",
      "Predicted summary:  the phone was not good but it was\n",
      "\n",
      "\n",
      "Review: apps work windows computer available phone like google voice could ever use phone \n",
      "Original summary: like google voice \n",
      "Predicted summary:  the phone was not good but it was\n",
      "\n",
      "\n",
      "Review: got awsome seller phone came pretty much brand new screen developed lg g2 ghost touch knock knock issues told seller refunded pitch extra 19 bucks new screen works flawless g2 love phone \n",
      "Original summary: got this from this awsome seller phone came in pretty much brand new screen the lg g2 \n",
      "Predicted summary:  good phone\n",
      "\n",
      "\n",
      "Review: phone better described like new great price shipping pretty quick issue camera quality camera really take pictures like camera guess cannot complain much price look camera quality online purchase problem camera quality \n",
      "Original summary: camera quality \n",
      "Predicted summary:  great phone\n",
      "\n",
      "\n",
      "Review: great phone got dropped lost snow found later name survived every time years problems iphone people cannot say \n",
      "Original summary: great phone lasted and no problems \n"
     ]
    },
    {
     "name": "stdout",
     "output_type": "stream",
     "text": [
      "Predicted summary:  great phone\n",
      "\n",
      "\n",
      "Review: love phone works great amazon said used add line cannot tell difference \n",
      "Original summary: love this phone \n",
      "Predicted summary:  great phone\n",
      "\n",
      "\n",
      "Review: slot damaged working proceeded update firmware lenovo smart assistant continues damaged means use use one sim calls charger also arrived damaged disappointed lose live venezuela unfortunately return phone \n",
      "Original summary: damaged \n",
      "Predicted summary:  the phone is not good but it was\n",
      "\n",
      "\n",
      "Review: phone supposed brand new could tell case works fine brand new \n",
      "Original summary: it works fine but was not brand new \n",
      "Predicted summary:  good phone\n",
      "\n",
      "\n",
      "Review: great phone know latest thing bought cause budget great screen beautiful display buyer excellent well \n",
      "Original summary: great phone know its not the latest thing \n",
      "Predicted summary:  great phone\n",
      "\n",
      "\n",
      "Review: excellent quality good memory capacity many basic apps already included fair price \n",
      "Original summary: excellent iphone 4s good quality \n",
      "Predicted summary:  great phone\n",
      "\n",
      "\n",
      "Review: loved received worked perfectly days phone started overheat almost hot put ear made phone calls battery would run within hours contacted seller breed twice seller respond mails may buy another nokia phone liked dealing seller avoid breed \n",
      "Original summary: the battery would last only hours and the seller did not even bother to respond to my complaint \n",
      "Predicted summary:  the phone is not good but the phone is\n",
      "\n",
      "\n",
      "Review: old school guy decent product got issues overall like \n",
      "Original summary: its got its issues but overall like \n",
      "Predicted summary:  great phone\n",
      "\n",
      "\n",
      "Review: phone done fine note features like better otherwise similar \n",
      "Original summary: good phone \n",
      "Predicted summary:  good phone\n",
      "\n",
      "\n",
      "Review: cute quirky little phone manual tell everything need turn voice command nightmare turn battery last long amazon price phone \n",
      "Original summary: cute and little phone manual does not tell you \n",
      "Predicted summary:  good phone\n",
      "\n",
      "\n",
      "Review: price description expecting nice used galaxy s2 opened plain white box surprised see looked like brand new phone scratches anywhere brand new battery cable buy \n",
      "Original summary: happy customer \n",
      "Predicted summary:  great phone\n",
      "\n",
      "\n",
      "Review: purchased phone hold till upgrade new phone purposes phone works fine snappy little lag lock screen also task manager besides works great heavy phone user since use phone sending emails listening music streaming videos gps battery hold okay get maybe hrs use one charge charge quickly enough inconvenience \n",
      "Original summary: new phone but for all this phone works fine its little that does have \n",
      "Predicted summary:  good phone\n",
      "\n",
      "\n",
      "Review: received time met \n",
      "Original summary: satisfied \n",
      "Predicted summary:  it is good phone but it is\n",
      "\n",
      "\n",
      "Review: would phone gripe camera would expect 41 mp guess limitation lens photos good full zoom clear would like windows operating system beats android hands \n",
      "Original summary: no android for me \n",
      "Predicted summary:  it is good phone but it is\n",
      "\n",
      "\n",
      "Review: happy purchase phone many features forget rarely use remember ate pretty cool recommended phone s3 like one keyboard layout nice first thing noticed anyway good phone gotta go bye \n",
      "Original summary: it looks like brand new never used phone \n",
      "Predicted summary:  great phone\n",
      "\n",
      "\n",
      "Review: easy phone blind people use voice recognition software durable compact resistant several levels damage owned one six months dropped time one crack discontinued att online best way go get one great phone \n",
      "Original summary: perfect phone for people \n",
      "Predicted summary:  great phone\n",
      "\n",
      "\n",
      "Review: best phone market new series comes love samsung android phones transfer data pictures computer via drive \n",
      "Original summary: best phone on market until new comes out \n",
      "Predicted summary:  great phone\n",
      "\n",
      "\n",
      "Review: phone exactly described fast shipping happy purchase seller would buy seller anytime \n",
      "Original summary: was very happy with this purchase from this seller would buy from \n",
      "Predicted summary:  great phone\n",
      "\n",
      "\n",
      "Review: read iphone expert review iphone cheap screen buy company get crappy screen matter shows problem bought second one cheap screen first got one type screen weird egg shape sign company cheaply repairs iphones recommend buy iphone expert even though screens might show damage cheap screens could iphone damaged easily cheap screens last screws one still loose also want cheap screen look screen side angle sunlight slowly move back forward see see light also look line need light see line line cheap although would recommend trying \n",
      "Original summary: read cheap screens even on good reviews \n",
      "Predicted summary:  the phone is good but the phone is not\n",
      "\n",
      "\n",
      "Review: screen small would wonderful child smaller fingers still cannot really complain given price \n",
      "Original summary: it is good \n",
      "Predicted summary:  good phone\n",
      "\n",
      "\n",
      "Review: happy purchase phone really nice quit working stuck phone buy another phone replace one buy another phone online \n",
      "Original summary: disappointed mom \n",
      "Predicted summary:  great phone\n",
      "\n",
      "\n",
      "Review: phone worked great mobiles network one day stopped working network dropped experienced moisture anything phone babied buying unlocked international phones anymore work us lte networks anyway \n",
      "Original summary: disappointed \n",
      "Predicted summary:  great phone\n",
      "\n",
      "\n",
      "Review: phone good functions well arrived timely manner brand new definitely recommend phone sound quality screen size ease use seller clear complete write product unlocked phone functions normally carriers use service runs mobile network works fine best unlocked phone allowed upgrade android os latest version screen size right \n",
      "Original summary: definitely good buy \n",
      "Predicted summary:  great phone\n",
      "\n",
      "\n",
      "Review: great phone received great price phone nicely constructed thin fan big bulky phones size one fit needs perfectly screen great size movie watching bottom phone buttons button middle actual 3d button two flat screen phone completely customization comes easy mode use set phone easy use format comfortable smart phones phone owned s2 satisfied upgrade \n",
      "Original summary: great phone received it for great price \n",
      "Predicted summary:  great phone\n",
      "\n",
      "\n",
      "Review: ordered surprise gift wife shipped day wifi work return disappointing \n",
      "Original summary: phone \n",
      "Predicted summary:  it is good phone but it is\n",
      "\n",
      "\n",
      "Review: year old mother needed new phone replace older flip phone interest smartphone wanted something similar easy use one works great big enough manage hands buttons easy use \n",
      "Original summary: great phone for senior who do not want smartphone \n",
      "Predicted summary:  great phone\n",
      "\n",
      "\n"
     ]
    }
   ],
   "source": [
    "for i in range(0,100):\n",
    "    print(\"Review:\",seq2text(x_tr[i])) \n",
    "    print(\"Original summary:\",seq2summary(y_tr[i]))\n",
    "    print(\"Predicted summary:\",decode_sequence(x_tr[i].reshape(1,max_text_len)))\n",
    "    print(\"\\n\")"
   ]
  },
  {
   "cell_type": "code",
   "execution_count": 72,
   "metadata": {},
   "outputs": [
    {
     "name": "stdout",
     "output_type": "stream",
     "text": [
      "Review: best phone ever would recommend anyone second thoughts buy phone without hesitation disappointed samsung galaxy note rise beyond expectations wow say \n",
      "Original summary: best phone ever \n",
      "Predicted summary:  great phone\n",
      "\n",
      "\n",
      "Review: used awesome got crappy seven months got replaced exact issues supper buggy phone get get mad \n",
      "Original summary: it used to be awesome but it got crappy after months \n",
      "Predicted summary:  great phone\n",
      "\n",
      "\n",
      "Review: liked weight shape screen like speaker sometimes hard understand voice talking \n",
      "Original summary: liked the weight \n",
      "Predicted summary:  the phone\n",
      "\n",
      "\n",
      "Review: manual came unit incomplete still unable operate phone \n",
      "Original summary: useless purchase \n",
      "Predicted summary:  great phone\n",
      "\n",
      "\n",
      "Review: thank loving phone kinda hole online thing glad \n",
      "Original summary: kinda doing the online thing but am glad did \n",
      "Predicted summary:  great phone\n",
      "\n",
      "\n",
      "Review: first phone received work place purchased prompt replacing got second phone happy place purchased phone supposed brand new phone refurbished took verizon added account said phone blue one said must refurbished brand new phone worked quit buy another phone love env3 phone working make sure check refurbished phone \n",
      "Original summary: phone is ok \n",
      "Predicted summary:  the phone\n",
      "\n",
      "\n",
      "Review: got phone father much smart phone user found phone perfect \n",
      "Original summary: he is not much of smart phone user \n",
      "Predicted summary:  great phone\n",
      "\n",
      "\n",
      "Review: great phone came brand new time sealed packaging described downfall got dud headphone purchase work right \n",
      "Original summary: good buy \n",
      "Predicted summary:  great phone\n",
      "\n",
      "\n",
      "Review: alright perfect phone daughter \n",
      "Original summary: perfect phone for my daughter \n",
      "Predicted summary:  great phone\n",
      "\n",
      "\n",
      "Review: slow os sure phone galaxies phone couple scratches already \n",
      "Original summary: slow os not sure if it is this phone \n",
      "Predicted summary:  great phone\n",
      "\n",
      "\n",
      "Review: chose rugby pro two prior unfortunately rugby runs slow bit phone \n",
      "Original summary: rugby pro \n",
      "Predicted summary:  great phone\n",
      "\n",
      "\n",
      "Review: happy phone seller met expectations would recommend phone seller phone came box correct works country \n",
      "Original summary: very happy \n",
      "Predicted summary:  great phone\n",
      "\n",
      "\n",
      "Review: couple odd things happen phone price winner \n",
      "Original summary: winner for the price \n",
      "Predicted summary:  great phone\n",
      "\n",
      "\n",
      "Review: model many improvements s3 phone well packaged pleased \n",
      "Original summary: the phone was well packaged am very pleased with it \n",
      "Predicted summary:  great phone\n",
      "\n",
      "\n",
      "Review: phone works great sprint activate buy one best buy feel like returning phone gave nephew ipod \n",
      "Original summary: came in good condition \n",
      "Predicted summary:  great phone\n",
      "\n",
      "\n",
      "Review: lasted months died reason piece cheap china crap \n",
      "Original summary: piece of crap \n",
      "Predicted summary:  it\n",
      "\n",
      "\n",
      "Review: returning phone tried get number phone sprint could activate told phone either prepaid phone flash phone either way useful needs \n",
      "Original summary: failure \n",
      "Predicted summary:  the phone\n",
      "\n",
      "\n",
      "Review: bought one november may stopped working need contact seller know \n",
      "Original summary: bought one of this on and by may \n",
      "Predicted summary:  it\n",
      "\n",
      "\n",
      "Review: good poor reception lots dropped calls lost text \n",
      "Original summary: not good poor reception \n",
      "Predicted summary:  great phone\n",
      "\n",
      "\n",
      "Review: cellphone good seller says 10 look pictures cosmetically minimum says look pictures comes original retail box funny coming plastic bag without charger nothing tested function perfectly second day battery charging never buy waste time money returned amazon \n",
      "Original summary: second hand it is waste of money \n",
      "Predicted summary:  great phone\n",
      "\n",
      "\n",
      "Review: item delivered time described excellent \n",
      "Original summary: excellent \n",
      "Predicted summary:  great phone\n",
      "\n",
      "\n",
      "Review: phone came great shape hoped tried use camera constantly freezes hardly ever works bought model previously loved problems \n",
      "Original summary: great original phone but problems with bought from \n",
      "Predicted summary:  great phone\n",
      "\n",
      "\n",
      "Review: awesome phone works great straight talk need att micro sim set love phone issues yet \n",
      "Original summary: great phone \n",
      "Predicted summary:  great phone\n",
      "\n",
      "\n",
      "Review: charged first time become hot first conversation using cell voice quality terrible wish buy one \n",
      "Original summary: the voice quality is just terrible wish did not buy one \n",
      "Predicted summary:  the phone\n",
      "\n",
      "\n",
      "Review: need specify take sim bought one thinking going take sim im another country know sprint take sim \n",
      "Original summary: need to that it did not take sim \n",
      "Predicted summary:  the phone\n",
      "\n",
      "\n",
      "Review: ordered girlfriend prefers windows phone screen gorgeous quick great phone complaint buttons would served better raised little hard press phone case \n",
      "Original summary: great looking and solid \n",
      "Predicted summary:  great phone\n",
      "\n",
      "\n",
      "Review: one star much got phone expecting knock note exactly pictures showed got got already used phone glass taken bottom corner shot battery luckily came system phone absolutely dreadful seller states feel ripped pissed slow camera sucks cannot even type without malfunctioning way headphones absolutely horrible one side worked sounded never buy ever know phone people got reviews one got probably worth giving kid play phone sucks bad ugh words cannot describe \n",
      "Original summary: hate it scam \n",
      "Predicted summary:  great phone\n",
      "\n",
      "\n",
      "Review: great phone im pleased \n",
      "Original summary: hello \n",
      "Predicted summary:  great phone\n",
      "\n",
      "\n",
      "Review: lot research purchasing phone disappointed started problems receiving images via text started dropping calls changed carriers thinking carrier got new chip installed reset phone fixes worked short time began problems time got new chip reset phone time fix lasted less less time years dealing problems got rid \n",
      "Original summary: designed to \n",
      "Predicted summary:  the phone\n",
      "\n",
      "\n",
      "Review: phone great little cosmetic damage mostly corners previously case works great would def recommend phone anyone looking galaxy s4 \n",
      "Original summary: phone is great very little damage mostly on the from \n",
      "Predicted summary:  great phone\n",
      "\n",
      "\n",
      "Review: thing wrong got part phone great shape little dirt clean new \n",
      "Original summary: phone is in great shape just little to clean and \n",
      "Predicted summary:  great phone\n",
      "\n",
      "\n",
      "Review: great phone pretty easy use simple basic apps functions gift mother law loves \n",
      "Original summary: great phone \n",
      "Predicted summary:  great phone\n",
      "\n",
      "\n",
      "Review: delivered date stated great phone price bought 16 year old grandson anything teenagers like phones like texting gaming music \n",
      "Original summary: is great phone for the price \n",
      "Predicted summary:  great phone\n",
      "\n",
      "\n",
      "Review: like need mobile samsung cell phones emergency purposes cell phone break \n",
      "Original summary: like it just need more of these \n",
      "Predicted summary:  the phone\n",
      "\n",
      "\n",
      "Review: junk worked less month \n",
      "Original summary: do not waste your money junk \n",
      "Predicted summary:  it\n",
      "\n",
      "\n",
      "Review: phone brand new original apple manufacturer box works perfectly however phone arrive locked first received aware able submit form unlock device since phone locked service unlocked next day submit form restore phone using itunes go lot research figure would nice seller let us know anyway phone fine unhappy frustration go make phone unlocked fairly simple unlock though hope helps frustrated people well \n",
      "Original summary: so it would be nice if the seller let us know what to do \n",
      "Predicted summary:  great phone\n",
      "\n",
      "\n",
      "Review: phone horrible every way hate much also got one son also hated away bought another kind phone afraid buy samsung phone \n",
      "Original summary: hate it \n",
      "Predicted summary:  the phone\n",
      "\n",
      "\n",
      "Review: great windows phone prefer camera software availability 925 \n",
      "Original summary: great phone \n",
      "Predicted summary:  great phone\n",
      "\n",
      "\n",
      "Review: great came good description even better slow shipping \n",
      "Original summary: great \n",
      "Predicted summary:  great phone\n",
      "\n",
      "\n",
      "Review: absolutely exceptional keep delivering top quality products amazon wireless \n",
      "Original summary: absolutely keep on top quality \n",
      "Predicted summary:  great phone\n",
      "\n",
      "\n",
      "Review: item arrived noticeable bump along left edge phone functions correct noticeable going using phone development research problem day day phone would returning \n",
      "Original summary: item arrived with the left \n",
      "Predicted summary:  the phone\n",
      "\n",
      "\n",
      "Review: want run phone best model choose flashing touch took minutes running great \n",
      "Original summary: is here \n"
     ]
    },
    {
     "name": "stdout",
     "output_type": "stream",
     "text": [
      "Predicted summary:  great phone\n",
      "\n",
      "\n",
      "Review: bought friend verizon send new sim cost registering verizon easy enough nice inexpensive upgrade entry level moto android phone bigger screen storage faster cpu lte great value stuck verizon \n",
      "Original summary: great value \n",
      "Predicted summary:  great phone\n",
      "\n",
      "\n",
      "Review: turning know worst experience \n",
      "Original summary: its worst experience \n",
      "Predicted summary:  it\n",
      "\n",
      "\n",
      "Review: great deal looks works like brand new got son christmas loves never even knew brand new came charger earphones like order new phone could happier \n",
      "Original summary: even better than expected \n",
      "Predicted summary:  great phone\n",
      "\n",
      "\n",
      "Review: excellent budget phone care service provider \n",
      "Original summary: am glad bought this phone \n",
      "Predicted summary:  great phone\n",
      "\n",
      "\n",
      "Review: horrible phone buy end call button middle screen phone face contact hangs phone talk speaker phone \n",
      "Original summary: horrible phone do not buy it \n",
      "Predicted summary:  the phone\n",
      "\n",
      "\n",
      "Review: purchased phone teenage daughter believing going receive unlocked phone att sprint still knowing would able activate mobile instead received verizon phone realize went mobile able activate say daughter happy neither ended trading phone ended costing money \n",
      "Original summary: make sure you get what you ordered \n",
      "Predicted summary:  great phone\n",
      "\n",
      "\n",
      "Review: refused delivery hearing friend bad experience two bought generally underpowered buggy poor support went used moto instead happy \n",
      "Original summary: second hand review \n",
      "Predicted summary:  the phone\n",
      "\n",
      "\n",
      "Review: phone everything expected although verizon lie say window phones good contacted microsoft left verizon lies windows 10 going awesome phone awesome friends phone camera better thank amazon sellers always pleasure \n",
      "Original summary: window phones are not good microsoft \n",
      "Predicted summary:  great phone\n",
      "\n",
      "\n",
      "Review: pretty much worse cell phone ever owned replaced times warranty gave got new samsung galaxy s4 using almost years without major issues \n",
      "Original summary: lemon of phone \n",
      "Predicted summary:  great phone\n",
      "\n",
      "\n",
      "Review: good phone except key takes several clicks puts txt messages screen \n",
      "Original summary: pretty good phone but functioning key costs it couple of stars \n",
      "Predicted summary:  great phone\n",
      "\n",
      "\n",
      "Review: use basic phone battery life good needed back phone get need charging week much stand state \n",
      "Original summary: good basic phone \n",
      "Predicted summary:  great phone\n",
      "\n",
      "\n",
      "Review: really enjoyed happy purchase play get things works great looking purchasing saved money also contract verizon phone thus two year contract get really happy saved money well \n",
      "Original summary: great \n",
      "Predicted summary:  great phone\n",
      "\n",
      "\n",
      "Review: dont get wifi turns randomly screen go black stay like worst product ever \n",
      "Original summary: the screen will go black stay like that for while \n",
      "Predicted summary:  the phone\n",
      "\n",
      "\n",
      "Review: bought daughter came great condition activated easily daughter love would buy reseller \n",
      "Original summary: great phone \n",
      "Predicted summary:  great phone\n",
      "\n",
      "\n",
      "Review: great phone upon updating software countless times almost basic normal basic functionality camera actually save send 5mp images social media sites crazy photography care phones might \n",
      "Original summary: do not know \n",
      "Predicted summary:  great phone\n",
      "\n",
      "\n",
      "Review: love nice phone bought live tiles really nice daughters use internet without service love use internet home share internet phone use free text app nice phone \n",
      "Original summary: love it nice phone bought the live are \n",
      "Predicted summary:  great phone\n",
      "\n",
      "\n",
      "Review: buy cheap good phone also update install lot apps runs background \n",
      "Original summary: very cheap very good \n",
      "Predicted summary:  great phone\n",
      "\n",
      "\n",
      "Review: bought rca phones travel jamaica europe love phone everything iphone local sim cards draw back camera live recommend phone anyone wants good unlocked phone \n",
      "Original summary: love this phone it does everything that my iphone \n",
      "Predicted summary:  great phone\n",
      "\n",
      "\n",
      "Review: phone turn even hrs charging tried different charger well see original charger defective still phone would turn \n",
      "Original summary: turn on \n",
      "Predicted summary:  the phone\n",
      "\n",
      "\n",
      "Review: phone shipped timely manner looks brand new works like champ happy item \n",
      "Original summary: looks brand new and works like \n",
      "Predicted summary:  great phone\n",
      "\n",
      "\n",
      "Review: instructions phones foreign languages us instructions also adapters charge phones make contact charger take apart adapter bend pins connect charger ac plug \n",
      "Original summary: instructions for phones in foreign no us instructions \n",
      "Predicted summary:  the phone\n",
      "\n",
      "\n",
      "Review: buyers aware 39 95 95 wireless paid 49 95 tax march 2015 new seen adds 95 2013 model hdmi output 4g lte great come motorola motorola starts running soon ships retailers date purchase check motorola ship dates told usually means little warranty motorola according tech support buy reviews retailers picked check manufacture warranties purchase read small print even find \n",
      "Original summary: 4g lte other great come on \n",
      "Predicted summary:  the phone\n",
      "\n",
      "\n",
      "Review: rating lower star would given phone came completely spanish even instructions spanish funny remember seeing anything description spanish phone \n",
      "Original summary: do not buy this phone \n",
      "Predicted summary:  the phone\n",
      "\n",
      "\n",
      "Review: bought two months ago love one dual sim type use travel europe \n",
      "Original summary: love it \n",
      "Predicted summary:  great phone\n",
      "\n",
      "\n",
      "Review: bought phone grandson must say loves put one best purchases \n",
      "Original summary: he does not put it down one of my best \n",
      "Predicted summary:  great phone\n",
      "\n",
      "\n",
      "Review: really disappointment buy phone started failure lit screen image returns disappointed purchase seller want make money back feel like cheated \n",
      "Original summary: it really is disappointment buy the phone \n",
      "Predicted summary:  the phone\n",
      "\n",
      "\n",
      "Review: locked phone needs six months contract att get unlocked said contract \n",
      "Original summary: it is locked phone needs six months contract with att \n",
      "Predicted summary:  the phone\n",
      "\n",
      "\n",
      "Review: placed order phone realizing unlocked would required sd card shortly placing order emailed company cancel order phone would work verizon account open entirely new verizon account phone luckily mine anyway two days receiving phone touch screen began glitch went bed woke morning touch screen completely stopped registering touch spent 225 phone 120 activate another 130 fix screen bringing attention company responded short mediocre reply refusing accommodate terrible services stopped together ask replacement extra money spent make phone functional would recommend anyone purchase products sd wireless offer \n",
      "Original summary: terrible customer service \n",
      "Predicted summary:  the phone\n",
      "\n",
      "\n",
      "Review: know phone bought amazon experiencing glitches phone shuts random times screen freezes time time rare times choose make phone call dial screen cant hang fear may lose everything phone one day may purchase new phone \n",
      "Original summary: new phone old technology maybe \n",
      "Predicted summary:  the phone\n",
      "\n",
      "\n",
      "Review: apps work windows computer available phone like google voice could ever use phone \n",
      "Original summary: like google voice \n",
      "Predicted summary:  the phone\n",
      "\n",
      "\n",
      "Review: got awsome seller phone came pretty much brand new screen developed lg g2 ghost touch knock knock issues told seller refunded pitch extra 19 bucks new screen works flawless g2 love phone \n",
      "Original summary: got this from this awsome seller phone came in pretty much brand new screen the lg g2 \n",
      "Predicted summary:  great phone\n",
      "\n",
      "\n",
      "Review: phone better described like new great price shipping pretty quick issue camera quality camera really take pictures like camera guess cannot complain much price look camera quality online purchase problem camera quality \n",
      "Original summary: camera quality \n",
      "Predicted summary:  great phone\n",
      "\n",
      "\n",
      "Review: great phone got dropped lost snow found later name survived every time years problems iphone people cannot say \n",
      "Original summary: great phone lasted and no problems \n",
      "Predicted summary:  great phone\n",
      "\n",
      "\n",
      "Review: love phone works great amazon said used add line cannot tell difference \n",
      "Original summary: love this phone \n",
      "Predicted summary:  great phone\n",
      "\n",
      "\n",
      "Review: slot damaged working proceeded update firmware lenovo smart assistant continues damaged means use use one sim calls charger also arrived damaged disappointed lose live venezuela unfortunately return phone \n",
      "Original summary: damaged \n"
     ]
    },
    {
     "name": "stdout",
     "output_type": "stream",
     "text": [
      "Predicted summary:  the phone\n",
      "\n",
      "\n",
      "Review: phone supposed brand new could tell case works fine brand new \n",
      "Original summary: it works fine but was not brand new \n",
      "Predicted summary:  great phone\n",
      "\n",
      "\n",
      "Review: great phone know latest thing bought cause budget great screen beautiful display buyer excellent well \n",
      "Original summary: great phone know its not the latest thing \n",
      "Predicted summary:  great phone\n",
      "\n",
      "\n",
      "Review: excellent quality good memory capacity many basic apps already included fair price \n",
      "Original summary: excellent iphone 4s good quality \n",
      "Predicted summary:  great phone\n",
      "\n",
      "\n",
      "Review: loved received worked perfectly days phone started overheat almost hot put ear made phone calls battery would run within hours contacted seller breed twice seller respond mails may buy another nokia phone liked dealing seller avoid breed \n",
      "Original summary: the battery would last only hours and the seller did not even bother to respond to my complaint \n",
      "Predicted summary:  great phone\n",
      "\n",
      "\n",
      "Review: old school guy decent product got issues overall like \n",
      "Original summary: its got its issues but overall like \n",
      "Predicted summary:  great phone\n",
      "\n",
      "\n",
      "Review: phone done fine note features like better otherwise similar \n",
      "Original summary: good phone \n",
      "Predicted summary:  great phone\n",
      "\n",
      "\n",
      "Review: cute quirky little phone manual tell everything need turn voice command nightmare turn battery last long amazon price phone \n",
      "Original summary: cute and little phone manual does not tell you \n",
      "Predicted summary:  the phone\n",
      "\n",
      "\n",
      "Review: price description expecting nice used galaxy s2 opened plain white box surprised see looked like brand new phone scratches anywhere brand new battery cable buy \n",
      "Original summary: happy customer \n",
      "Predicted summary:  great phone\n",
      "\n",
      "\n",
      "Review: purchased phone hold till upgrade new phone purposes phone works fine snappy little lag lock screen also task manager besides works great heavy phone user since use phone sending emails listening music streaming videos gps battery hold okay get maybe hrs use one charge charge quickly enough inconvenience \n",
      "Original summary: new phone but for all this phone works fine its little that does have \n",
      "Predicted summary:  great phone\n",
      "\n",
      "\n",
      "Review: received time met \n",
      "Original summary: satisfied \n",
      "Predicted summary:  great phone\n",
      "\n",
      "\n",
      "Review: would phone gripe camera would expect 41 mp guess limitation lens photos good full zoom clear would like windows operating system beats android hands \n",
      "Original summary: no android for me \n",
      "Predicted summary:  the phone\n",
      "\n",
      "\n",
      "Review: happy purchase phone many features forget rarely use remember ate pretty cool recommended phone s3 like one keyboard layout nice first thing noticed anyway good phone gotta go bye \n",
      "Original summary: it looks like brand new never used phone \n",
      "Predicted summary:  great phone\n",
      "\n",
      "\n",
      "Review: easy phone blind people use voice recognition software durable compact resistant several levels damage owned one six months dropped time one crack discontinued att online best way go get one great phone \n",
      "Original summary: perfect phone for people \n",
      "Predicted summary:  great phone\n",
      "\n",
      "\n",
      "Review: best phone market new series comes love samsung android phones transfer data pictures computer via drive \n",
      "Original summary: best phone on market until new comes out \n",
      "Predicted summary:  great phone\n",
      "\n",
      "\n",
      "Review: phone exactly described fast shipping happy purchase seller would buy seller anytime \n",
      "Original summary: was very happy with this purchase from this seller would buy from \n",
      "Predicted summary:  great phone\n",
      "\n",
      "\n",
      "Review: read iphone expert review iphone cheap screen buy company get crappy screen matter shows problem bought second one cheap screen first got one type screen weird egg shape sign company cheaply repairs iphones recommend buy iphone expert even though screens might show damage cheap screens could iphone damaged easily cheap screens last screws one still loose also want cheap screen look screen side angle sunlight slowly move back forward see see light also look line need light see line line cheap although would recommend trying \n",
      "Original summary: read cheap screens even on good reviews \n",
      "Predicted summary:  the phone\n",
      "\n",
      "\n",
      "Review: screen small would wonderful child smaller fingers still cannot really complain given price \n",
      "Original summary: it is good \n",
      "Predicted summary:  it\n",
      "\n",
      "\n",
      "Review: happy purchase phone really nice quit working stuck phone buy another phone replace one buy another phone online \n",
      "Original summary: disappointed mom \n",
      "Predicted summary:  great phone\n",
      "\n",
      "\n",
      "Review: phone worked great mobiles network one day stopped working network dropped experienced moisture anything phone babied buying unlocked international phones anymore work us lte networks anyway \n",
      "Original summary: disappointed \n",
      "Predicted summary:  great phone\n",
      "\n",
      "\n",
      "Review: phone good functions well arrived timely manner brand new definitely recommend phone sound quality screen size ease use seller clear complete write product unlocked phone functions normally carriers use service runs mobile network works fine best unlocked phone allowed upgrade android os latest version screen size right \n",
      "Original summary: definitely good buy \n",
      "Predicted summary:  great phone\n",
      "\n",
      "\n",
      "Review: great phone received great price phone nicely constructed thin fan big bulky phones size one fit needs perfectly screen great size movie watching bottom phone buttons button middle actual 3d button two flat screen phone completely customization comes easy mode use set phone easy use format comfortable smart phones phone owned s2 satisfied upgrade \n",
      "Original summary: great phone received it for great price \n",
      "Predicted summary:  great phone\n",
      "\n",
      "\n",
      "Review: ordered surprise gift wife shipped day wifi work return disappointing \n",
      "Original summary: phone \n",
      "Predicted summary:  the phone\n",
      "\n",
      "\n",
      "Review: year old mother needed new phone replace older flip phone interest smartphone wanted something similar easy use one works great big enough manage hands buttons easy use \n",
      "Original summary: great phone for senior who do not want smartphone \n",
      "Predicted summary:  great phone\n",
      "\n",
      "\n"
     ]
    }
   ],
   "source": [
    "for i in range(0,100):\n",
    "    print(\"Review:\",seq2text(x_tr[i])) \n",
    "    print(\"Original summary:\",seq2summary(y_tr[i]))\n",
    "    print(\"Predicted summary:\",decode_sequence(x_tr[i].reshape(1,max_text_len)))\n",
    "    print(\"\\n\")"
   ]
  },
  {
   "cell_type": "markdown",
   "metadata": {},
   "source": [
    "### Applying to video reviews"
   ]
  },
  {
   "cell_type": "code",
   "execution_count": 34,
   "metadata": {
    "collapsed": true
   },
   "outputs": [],
   "source": [
    "# get the sentences wit positive or negative sentiment from text\n",
    "from sentiment_filter import SentimentFilter"
   ]
  },
  {
   "cell_type": "code",
   "execution_count": 43,
   "metadata": {
    "collapsed": true
   },
   "outputs": [],
   "source": [
    "text = \"(mellow piano music) (upbeat music) - This is the GoPro MAX. And it's GoPro's second attempt at a consumer level, 360 camera. (camera whirring) Last year, Insta360 came out with the One X, and it totally revolutionized the idea of what a 360 camera could be used for. First off, footage shot with the One X was stitched in camera, and then you were able to edit it right on your phone and upload to social platforms almost instantly. Secondly, they market it not as a 360-degree camera but instead a camera that could shoot 360 degrees of possible angles. Now fast forward a year and we have the GoPro Max, which is the successor to the GoPro Fusion that came out in 2017, that was filled with all of the headaches of 360's past. It required two memory cards. You had to stitch the footage on a desktop. But they overhauled all of that with the Max, and they in turn made a really accessible 360 camera, which makes me believe I might continue to actually use this thing. ♪ We wag, we wag, we wag, we wag, we wag ♪ ♪ This is the widest angle GoPro's made ♪ ♪ This is the wide ♪ The GoPro MAX has dual 180-degree lenses that shoot 16.6-megapixel, 360-degree photos, 5.5-megapixel single lens, or GoPro is calling Max SuperView photos, and the super cool 6.2-megapixel panoramic photos called PowerPanos. Video-wise, you have 1440p60 video with a single lens and 5.6K30 spherical video, just like the Insta360. There are mics on all but one side and it shows the same super satisfying rubber buttons and button layout as the Hero8. On the bottom, you have these new stowable mounting prongs, which alas, you no longer need that housing, which I somehow always manage to forget anyways, and it also makes it compatible with all GoPro mounts. The touchscreen on the Max is a bit smaller than the touchscreen on the back of the Hero, but its menu system is identical. The big plus here is if you're vlogging or taking a selfie, you can see yourself much like on the DJI Osmo Action because, well, there's lenses on both sides. The Max is waterproof up to 16 feet. But that proofing is merely for protection at this point. GoPro claims that it's really difficult to stitch underwater footage, but they are promising some sort of waterproof housing in the future. The screen is super responsive, but you can't scroll around your frame in 360 mode since the screen has swiping gestures such as swiping down to reach the main menu. You can however switch between lenses but only while not recording. Once you hit that record button, the screen has no functionality other than just being a viewfinder to the lens that you chose before rolling. The image on the screen will however stay level with the horizon no matter which way you turn the camera. And it does so with almost no noticeable lag. If you lean into that warped, super fisheye look that only a 360 camera could give you, the footage is sick. Skin tones are true to life and it's not afraid to overexpose the highlights of it. I prefer this to the flatter color grade of the One X, especially for users who won't be color correcting. And how even if you are color correcting, I find that the Max and the One X have very little latitude in the coloring process. Now, if you're only gonna be showing these photos on social platforms that you're gonna look at on a phone, who cares, but for a camera that costs $500, I hope it's going a little further than that. (laughs). The Max's 360° video is stabilized in software. It bobs up and down as you'd expect from walking and it can be really jittery, especially at night. The stitching is most noticeable at the top and the bottom of the frame. And since most of GoPro's mounts typically have a wider base than the camera itself, there's almost always a bit of artifact from the mount in the footage. Over-all though, once you export the 360-degree footage, the stitch is pretty clean. The audio, however, is probably the best I've seen on a camera this size. The wind reduction can add a lot of compression, and enough wind can sound like, well this, (wind blowing) Guys, when I say it's windy out, it's like actually very windy out. I am about to blow over. This might make some really good footage as I fly away. But when you're not in 25-mile an hour wind, it actually reduces the sound of wind while prioritizing voices. So while hiking with Alex, I love that the GoPro picked up on the crickets and footsteps, while also keeping our voices at the forefront no matter where the camera was in space. ♪ Yeah, and I think it's gonna be a long, long time ♪ And then there are those PowerPano photos. I gotta be honest guys, I had a tough time not showing you these photos before this video dropped. I mean first and foremost, they make taking a panoramic photo a lot easier. And you don't have to stand there and slowly and robotically move your phone across the landscape. I was really surprised at how crisp these photos turned out to. Even on a desktop, they still look really cool. The time warp feature in 360 mode, which is when the Max just records the time lapse, is really cool, but it's a total battery killer. I saw my battery drop 15% off a fresh charge while shooting this time warp. And I let it record for all of 10 minutes. I think it would help if the screen would go off a bit sooner while shooting these to save some battery. Otherwise, the battery performance is on par with the Hero8. Even though it is a different battery. So yes, you will need to buy extra spares if you plan on heavy use. I was able to get through a full day of heavy use using two of these batteries. 360 cameras are only accessible though if you can do something with the footage. So the software has to be sound, and GoPro's app makes it really easy to edit this footage. Max uses the same GoPro app as the Heroes. Now, I'm no stranger to keyframes, but I think even a casual non-video director from the verge.com could edit the Max's 360 footage. And I actually enjoyed editing it on the app. GoPro also has a 360 desktop app called GoPro Player, which mirrors the mobile app experience with added codec options at export. You have H.264, ProRes, HUVC, and as far as 360 editing goes, I was blown away by its ease. Okay so there's this whole other mode on the Max called Hero mode. And it's basically just when the camera's using one lens as opposed to two. It has more mic controls and it even boasts GoPro's most stable video called Max HyperSmooth. And it also has the widest field of view called Max SuperView. But I gotta be honest, while it does sound good and the footage is stable, the fact that it maxes out at 1440p60 is noticeable. Especially in how much smoothing is being done when the subject is close to the camera. I also noticed the camera struggled to keep the footage level with the horizon, choosing to instead focus on keeping the footage stable. So when climbing down this trail, which to be fair, is a slanted surface, the horizon kept tilting further and further from level to almost a dizzying point. GoPro has become a household name. I mean they're specced out, durable, tiny, portable beasts of cameras. And the Max is no different. And while the Max has great features such as PowerPano, it also has great hardware and a really good touch screen. But for me, it came down to the ease of use of the app that made me wanna keep using this thing. 360 footage used to mean high-end equipment and tons of headaches and post, and that always pushed me away from using it. But when you put all of that into the form factor of a GoPro, a workflow I've been using for years, it's way more approachable. Now, is all of that enough to make this thing more than a novelty camera that will ultimately end up in my forgotten type bed in my basement? Time will truly tell. But it is the most fun and user-friendly 360 camera I have used today. And I'm excited to see this thing as specced out. (coughing) 4K Hero mode? Please? All right, so for 499, you can pre-order a Max today. They start shipping on October 24th and will be on shelves October 27th. The 360 space is getting kinda nuts\""
   ]
  },
  {
   "cell_type": "code",
   "execution_count": 29,
   "metadata": {
    "collapsed": true
   },
   "outputs": [],
   "source": [
    "text = \" Google has been building its own Chromebooks for a while now first there were two iterations of the Chromebook pixel and then there was 2017 pixel book all three worked great laptops with one huge flaw they cost way too much money Google's back at it again this year with the new pixel book go and for the first time Google's not trying to make the best Chromebook ever price be damned [Music] instead Google is trying to build a Chromebook that anyone can use and afford the pixel will go starts at six hundred and fifty dollars a full 350 less than the original pixel book it's still a lot of money for a Chromebook but for the first time Google's built something better than the cheap low-end Chromebooks out there that still semi affordable unfortunately in its quest to get the price down Google also second rest a lot of what made the original pixel looks so intriguing in the first place but for a lot of people those trade-offs will be worth it all of Google's previous Chromebooks as well as last year's ill-fated pixel slate tablet had distinctive designs and premium hardware with very few corners cut while the pixel book though is a nice device it's a phone or pedestrian computer than anything Google has released thus far it's a basic looking clamshell laptop with a 13.3 inch 1080p touchscreen and a black paint job unmarked except for a small Google Gee logo in the corner of the lid it also comes in very light pink with a bright coral underside a much more distinctive combo but the all-black has a certain understated elegance either way the go feels sturdy and well built but doesn't have any of the distinctive design elements you'll see in the original pixel book it's thicker than that device still weighs about the same at 2.3 pounds I definitely miss the aesthetics of the original though particularly it's glass an aluminum lid that echoed the design of goulds pixel phones the go as a functional utilitarian design which I can appreciate but I wish it was slightly more exciting there is one new funky design flourish to be found the pixel book go it's ridged underside for whatever reason pictures made me think that this was a different softer material than the magnesium that makes up the rest of the goes case but it doesn't feel any different than the rest of the device google says it design needs word just to make the laptop easier to grip or pull out of a sleeve but I can't have had any problems handling other computers still it's good to see Google's more playful side on this otherwise dull laptop and while the goal might be a little boring it still feels nicer and sturdier than almost any other Chromebook on the market the otherwise excellent Asus Chromebook flip that I reviewed earlier this year it's much heavier than the go for example Google's surely simplified its design as a way to cut costs and as such there are some other notable changes to the go compared to its predecessor unlike the first pixel book it's not a convertible so tablet mode is out that also means it doesn't work with the pixel book pen stylus both the pixel book in the pixel slate at excellent displays with a taller aspect ratio and higher resolutions in the pixel book go and I'm a little sad to see the step back and display quality here that's not to say the Dell has a bad screen it's just not nearly as gorgeous to look at as those last two computers 1080p on a 13.3 inch screen works out to 166 pixels per inch a far cry from the 235 PPI on the first pixel book and the impressive 293 PPI on the pixel sleep Google did build a go with a 4k screen but that option is only available if you get a top-of-the-line model which costs an eye-popping thirteen hundred and ninety nine dollars the good news is that the go as much slimmer bezels around the screen than the original pixel book but I still prefer the taller and more pixel dense display on that laptop to the screen on the go fortunately Google didn't skimp out on the keyboard the original pixel book offered a great typing experience and the go is almost as good I can't quite put my finger on what's different but the keys don't feel quite as soft when you're typing that set there's plenty of travel and they're pretty quiet Google about the whole thing right here the trackpad under their hand is just fine it feels kind of rough under my finger and scrolling around isn't as smooth as I'd like it's not bad and I've gotten used to it but I've definitely used better touch beds well google cut some corners in the design department the pixel book go is still among the more powerful Chromebooks out there the base model pairs an eighth generation Intel Core m3 processor with 8 gigabytes of RAM and 64 gigabytes of storage the one I reviewed steps up to an i5 processor in 128 gigabytes of storage that model costs $849 comparable to what defined in the nine $99 pixel look I wish I could have tried that m3 model because I really want to see what kind of performance Google is offering for $650 unsurprisingly Intel's Core i5 and eight gigs of ram is plenty for Chrome OS the pixel book go handle my normal workload without any issues my routine involves a dozen or so browser tabs TweetDeck hangouts slack todoist google keep and Trello all running as Chrome apps along with the occasional Android app or to Adobe's Lightroom Netflix and YouTube music all mostly worked well although music playback had the occasional low memory hiccup which is frustrating notably this didn't happen when using YouTube music as a browser tab this reinforces my belief that Android apps on Chrome aren't usually worth using if there's a web-based alternative overall I can't imagine most people need to upgrade from the $849 model I tried Google was also selling in 999 configuration that doubles the range of 16 gigabytes well that $13.99 model I mentioned includes a core i7 processor 16 gigs of ram 206 gigs of storage and a 4k display well I'd surely enjoy that high res screen I don't think it's a worthwhile upgrade for anyone the pixel book though also holds up pretty well in the battery side something that wasn't always true with the original and our video playback test the go ran for just over 13 and a half hours before shutting down that's more than an hour longer than the 12 hour battery life google claims with mixed usage unfortunately I never came close to 12 hours and putting the go through my normal routine but it did last more than eight hours which is a definite improvement over the first pixel book all this said the pixel book go is a much easier device to evaluate than either the first pixel book or the pixel Slaten it's a standard familiar almost boring laptop but instead of figuring out if cromoz works on a convertible tablet or if you're willing to spend $1000 on a premium laptop the go is just a straightforward no-frills device it's still not particularly cheap especially if you step up to the i5 processor I tried but premium Chromebooks in the 600 to 800 dollar range are becoming more common now and now Google has something that can compete on quality as well as price yes you can still get a Chromebook for less money than what Google was asked for the NGO if you think a Chromebook can be your main computer and don't mind paying a little extra for a device that's thin light and well engineered the pixel book go will likely meet your needs thanks for watching and subscribe to and gadgets YouTube channel for more news and reviews\""
   ]
  },
  {
   "cell_type": "code",
   "execution_count": 35,
   "metadata": {
    "collapsed": true
   },
   "outputs": [],
   "source": [
    "text = \"- Alright, it's iPhone time. Apple released three new iPhones all at once this year. The iPhone 11, the iPhone 11 Pro, and the iPhone 11 Pro Max. Now, I honestly think the iPhone 11 is the phone most people in the iOS ecosystem should get if they're upgrading. So we've got a whole other review of that phone that you should check out, too. But this, this is the Pro review. The dark mode, cash money review for professionals who use their phones to do pro stuff. Like taking telephoto photos. Actually, I have no idea why Apple called these phones Pro. They're basically just nice updates to the iPhone XS, but I also think it's a waste of time to argue about names. iPhone 11 Pro Max is a bad name. But you know what, it's a great phone. And I think Apple might have done it. This is the best camera I've ever seen on a phone. Let's get into it. (calming music) The iPhone 11 Pro looks almost exactly like the iPhone XS from the front. It's a little heavier and thicker, but unless you're comparing them directly, you probably won't notice. I certainly didn't. You do get a much bigger battery in exchange for that extra size, which Apple says leads to a four-hour battery life increase on the regular Pro and a five-hour jump for the Pro Max. But it's surprisingly hard to check that number. I'll get into why in a minute. The big difference from the XS comes on the back where Apple says the rear glass is now stronger and it comes in this frosted matte finish. It also integrates a glossy camera bump with three cameras. The whole back and the bump is a single piece of glass that's milled out. The iPhone 11 is the reverse. It has a glossy back and the camera bump is matte. Now you know. I got a lot of questions about this matte finish and I think it's really nice, especially in this new midnight green color. It didn't really pick up any fingerprints, but it does seem a tiny bit more slippery than the gloss back of the previous phones and the iPhone 11. But I also think most people are just going to stick this thing in a case, so it doesn't seem like a huge issue. A lot of people also asked me if this matte finish will scratch easily, similar to the back of the Pixel 3, and so far the answer seems to be no. But we're going to have to keep an eye on it over time. Apple's finally relented and included an 18W USB-C fast charger with the Pro phones. So you get a USB-C to Lightning cable as well. Now Apple's USB-C charger is not the smallest or prettiest charger out there. But anything is better than the slow 5W brick it's been including for years, so I'll take it. So let's get into these cameras. Apple has a lot at stake here. Google and Samsung's cameras have been outperforming the iPhone for a couple of years now. And Chinese phone makers, in particular, have been racing each other to add an endless array of photography features. If you're in the US, you're probably locked into iMessage and no camera is good enough to make you switch. But Apple doesn't have that advantage in big markets like Europe and China. Everyone uses WhatsApp and WeChat, and switching from iOS to Android is much easier. So Apple's added a bunch of features that first appeared on Android phones. There are three cameras on the iPhone 11 Pro. The telephoto camera has the same basic sensor, but a faster f/2.O lens. The main camera has the same f/1.8 lens and a slightly better sensor. And there's the new super fun ultra-wide camera, which is basically twice as wide as the main lens and f/2.4. And the f/2.2 front camera is now 12 megapixels, up from seven, and has a wider 24mm focal length so it can pull out to a slightly wider angle in landscape for selfies. Apple's also updated its smart HDR processing system, which I was not very impressed with when I reviewed the iPhone XS and XR. The iPhone 11 cameras are an enormous improvement over the XS, and beat the Pixel and Galaxy Note 10 in most of our tests. This shot of Verge video producer, Mariya Abdulkaf, outside in bright sunlight shouldn't be too hard for any camera to do a good job with. And all these photos look basically fine. But zoom and do 100 percent crop and the improvement from the iPhone XS to the iPhone 11 main camera is stunning. The iPhone 11 is way sharper, with way more detail. I also think the iPhone 11 does a way better job than the Note 10 and it's a little better to my eye than the Pixel 3. This improvement is due to something Apple's calling semantic rendering. Basically, Smart HDR recognizes what's in the image and renders it appropriately. I asked Apple to break down how it works for me and it basically goes like this: First, the iPhone starts taking photos to a buffer the instant you open the camera app. So by the time you actually press the button, it's captured four underexposed frames and the photo you want. Then it grabs one overexposed frame. This is all basically the same as the iPhone XS and the Pixel 3, except the Pixel doesn't grab that overexposed frame. Second, Smart HDR and semantic rendering then start looking for things in the photos it understands. Faces, hair, the sky, things like that. Then it uses additional detail from the under and overexposed frames to selectively process the areas of the image it's recognized. Hair gets sharpened, but the sky doesn't. It just gets de-noised. Faces get relighted to make them look more even and the iPhone knows to sharpen up your facial hair. Smart HDR is also less aggressive in flattening the photos. Highlights and faces aren't corrected as aggressively as before because those highlights make photos look more natural. But other highlights and shadows are corrected to regain detail. Finally, the whole image is saved and you've got a photo. This all happens instantly every time you take a photo, which is a testament to how powerful Apple's A13 processor really is. Here's that final image we just took. You can see how the iPhone 11 preserves more detail than the Pixel and Note in the shadows and highlights, and just blows the iPhone XS away in sharpness. The improvements to Smart HDR are applicable across cameras. Here's a quick comparison of the ultra-wides in the 11 Pro and the Note 10. The Note 10 did a better job exposing the sky, but the 11 is just a much sharper photo with more detail. You can see the same thing with selfies. The XS Max has pulled up shadows so much that it looks a little hazy, while the iPhone 11 evenly pulls up shadows in Mariya's face, but preserves the contrast with the background. The Note 10 did all kinds of goofy skin smoothing and the Pixel 3 looks great, but it has less detail than the iPhone. Just look at her eyelashes. Now there are places where the iPhone 11 didn't win in our tests. The XS historically struggled with backlit subjects. And while the 11 is a definite improvement, this photo is really blue. And there's basically no detail in Mariya's face. I think the Note actually did the best overall job here. And I think the Pixel does the best job in low light, but the iPhone isn't bad. It's a lot better than the XS was last year. Apple's promised a new mode for these situations called Deep Fusion, which is supposed to ship later this year, but I wasn't able to test it. If it improves photos taken in this kind of light, then the iPhone will basically pull ahead in every situation. Apple also added a Night mode this year and it's really impressive. It preserves a ton more detail than the Pixel. It comes on automatically in the dark and suggests an exposure time, which you can tweak or turn off if you want. The Pixel photo here looks more dramatic, but look a little closer. The iPhone has preserved all of the detail in the brick and graffiti, which is basically gone in the Pixel shot. Both of these Night mode photos look pretty similar, but look at all the extra detail in the bushes in the iPhone shot. Same with this shot. You'd never know that fence was even there in the Pixel photo. I think the Pixel produces more dramatic-looking shots out of the camera, but I would rather have the extra detail from the iPhone. All in all, I think the iPhone 11 camera does better in bright light than the Pixel 3 and Note 10, and the Night mode beats the Pixel 3 more often than not. If this promised Deep Fusion update improves medium- to low-light performance as much as Apple says it will, the iPhone 11 will once again be the smartphone camera to beat. Apple's also made video on the iPhone 11 better with improved stabilization exposure and the ability to record 4K60 video from any of the three cameras. - But is it really that good? Let's put it to the test. Alright, so we're going to head out in New York City and we're going to test against the Note 10, the Pixel 3, and the XS to see who does video best. We started out at the water and immediately you can see the color differences between the cameras. The Pixel leaned into the warm tones, while Samsung muddied the mid tones. And the iPhone XS leaned into the blues of the sky, while the 11 Pro balanced the warm and cool tones out the most. With the subject closer to the lens the Note 10 kept the flowers the sharpest, while the iPhone XS blurred the background the most. Okay, we've got to test the audio on all these phones. I'll let you guys be the judge. Do I sound like the beautiful angel voice that I have, angelic voice? Of course, the answer is yes. But on these phones, who's to say? In low light, Apple isn't afraid of underexposing the blacks, whereas Samsung and Google will bring them up. Now the 11 Pro does do a lot more smoothing to compensate for all of the noise this typically creates. The front-facing camera on the iPhone 11 Pro did a great job of balancing my skin tone and just the exposure in general. Even against this large neon light source. But it wasn't as sharp as the Note 10. Now all these comparisons are great, but chances are you won't be recording on all of these phones side by side at the same exact time. So let's just talk about the iPhone 11 Pro. The front-facing camera now records in 4K and the slofie is exactly how you'd imagine it. You'll use it once and probably never touch it again. The video from the rear cameras, though, is really good. Like, in perfect light, it's honestly just impressive. Switching between lenses is pretty seamless in terms of color accuracy and exposure. And you can use the dial method or just tap the lenses on the screen to switch. Now you can't switch between lenses when you shoot in 4K60. So make sure you set 4K30 or lower if you're going to be doing that. The ultra-wide angle lens looks super cool even with the crazy distortion. But there is no image stabilization, which shouldn't be a problem because naturally, the wider the lens, the less need for that. Both the telephoto and wide lens keep your shot stable and pretty sharp for a sensor their size. The color is punchy and pretty saturated and in perfect lighting, you, too, can have that shot on iPhone look. But in low light, even the iPhone 11 Pro, when viewed on a screen larger than its own, succumbs to noisy blacks and haloed highlights. My big issue, though, why do I have to leave the camera app to change the frame rates? It's not intuitive and it's just time-consuming. Apple, just put it in the app. iPhones have always had great video, but the video on the 11 Pro is the best I've seen on a smartphone to date. And the gap is only getting bigger. Enough of me, back to Nilay. - The screen on the iPhone 11 Pro is a new OLED that Apple is calling the Super Retina XDR display. There's still a notch and Apple is still doing fancy, rounded corners and uniform bezels, which no one else in the industry has really managed to match. Those bezels are still pretty big, though, especially compared to something like the Galaxy Note 10. This is the third year of the basic iPhone X design and Apple's competitors haven't been sitting still in trying to beat it. The big upgrades to the screen are around brightness and power efficiency. Basically, the screen can get a lot brighter than before and it also uses up to 15 percent less power, according to Apple. Now in typical situations, Apple says the iPhone 11 Pro display can go up to 800 nits of brightness and that when you're watching HDR content, the highlights will peak at 1,200 nits. In normal situations, I don't think you're going to notice it. I've never had a problem looking at my iPhone XS display outside. But it's a huge and obvious improvement when you're watching HDR movies. I never really bought the idea that previous iPhone displays were Dolby Vision, but the iPhone 11 Pro display kind of pulls it off. It's hard to capture this on video, but it's just a lot brighter and punchier on the 11 Pro display compared to the XS. The Note 10 display definitely looks as bright, but the iPhone's color processing looks way more natural to me, especially with Apple's True Tone system turned on. Of course, Apple and Google are still in a fight over video codecs, so you can't watch any 4K or HDR content on the iPhone 11 Pro from YouTube. So this video is not in 4K if you're watching on an iPhone. Sorry about that. Apple has also updated the audio on the iPhone 11 and iPhone 11 Pro, with something they're calling spatial audio. It's basically a surround decoder. If you're watching a Netflix movie with Adobe 5.1 sound or game encoded in 7.1, you'll get virtual surround from the stereo speakers. The iPhone 11s also support Dolby Atmos, which is a little silly for stereo speakers, but it's there. There's also standard wide stereo support like last year for everything else. All in all, the iPhone speakers sound really loud and generally better than ever. There's no more 3D Touch on the iPhone 11 Pro, it's been replaced by what Apple calls Haptic Touch, which is basically just long pressing on things with haptic feedback. In most places, you won't really notice it's gone and some things are actually a little easier to figure out. Opening the camera from the lock screen feels the same to me. Rearranging icons on the home screen is a little simpler to figure out since there's a context menu that pops up now. Peeking at links in Safari is a little different in iOS 13, but it's also a little simpler. The only place I truly missed 3D Touch was the keyboard. You could press down anywhere on the keyboard to move the cursor around on the XS, but with Haptic Touch you can only press and hold on the space bar. Now, I never really realized how many times a day I used that one specific 3D Touch feature and I missed it. But if the trade-off is that there's more room inside the case for a bigger battery, I'm fine with it. Apple claims the iPhone 11 Pro lasts four hours longer than the iPhone XS, and that the iPhone 11 Pro Max lasts five hours longer than the XS Max. As I mentioned earlier, it's really hard to test those claims. Apple doesn't run a strict battery test that we can just repeat. Instead, it's getting that number by taking its huge data set of iPhone usage and applying it to a model of the new phone. So you'll notice that the only hard numbers Apple publishes are like hours of video playback. Simple tests of a single task, which isn't how anyone uses a phone. All that said, the battery life on the iPhone 11 Pro has been impressive. I've been using an 11 Pro Max as my primary phone for the past week, and it has consistently run for 12 to 14 hours on a single charge. And about 10 hours of screen-on time, off the charger, is reported in battery settings. That is a huge improvement over my XS Max, which generally runs for eight to nine hours The smaller 11 Pro has been just as impressive. That's the phone Becca used for her testing and it still had 50 percent of its battery left the morning after she shot her part of the review. It turns out a slightly thicker phone with a bigger battery was the right move after all. Inside the new iPhone 11 Pro, there's the new A13 Bionic processor which, as usual, benchmarks far above the competition. There's a lot of headroom here for things like AR, games, and high-end photo and video apps, but it's not like the A12 Bionic in the iPhone XS is slow. Most of this extra power will be useful towards the end of this phone's life, not the beginning. Face ID is a little bit faster and works at more angles, but it's not particularly dramatic, it just works a little bit better. I think this is the best kind of iterative update. It made a thing that was already pretty good a little bit better, and anything that makes securing your phone a little bit better is great. And most intriguingly, there's a new chip inside the iPhone 11, it's called the U1, which does precise positioning using an ultra wideband radio. Apple says the forthcoming iOS 13.1 update will allow you to just point the phone at another U1 device to put it at the top of your AirDrop list. But none of that works yet, so we'll just have to see. Obviously, the iPhone 11 Pro runs iOS 13 and I have to tell you, iOS 13 is pretty buggy. I saw all kinds of glitches and crashes during my week of testing, and iOS 13.1 is already in beta and scheduled for wide release by the end of this month. So it really seems like Apple just squeaked this thing out the door and is racing to fix bugs. I asked Apple about some of these glitches and they told me they're always fixing bugs and iPhone owners generally auto update. But if you're on the fence about upgrading, you might want to wait until some of these bug fix updates actually ship. Assuming all the bugs get fixed, the biggest new feature in iOS 13 is Dark Mode, which is very nice. But otherwise, this is a lot of tiny little updates. There's a swiping keyboard now. Reminders is a much better app. There are better photo editing tools and you can edit videos as well. Apple Maps keeps getting a tiny bit better every year. Siri's voice is slightly smoother. It's a lot of little things that add up into a big update, but if you handed this phone to someone using iOS 12, they might not even notice unless Dark Mode was on. The iPhone 11 Pro starts at $999 with 64GB of storage, which doesn't seem like quite enough for that price. And the 11 Pro Max starts at $1,099. You can spec the Pro Max all the way up to $1,449 with 512GB of storage, which means that you can pay an awful lot of money for this phone if you want to. If you're in the iOS ecosystem and it's time to upgrade, it's a pretty tough choice this year. The standard iPhone 11 offers almost everything you get from the Pro for $699. And I think most people should get the iPhone 11. You'll still get the improved main camera, the fun new ultra-wide lens, the A13 processor, and iOS 13, and all the rest. The extra money for the Pro basically buys you a far superior display, a telephoto camera, and improved LTE performance. And if you want a smaller phone, the iPhone 11 Pro is a little bit smaller than the iPhone 11, which seems a tiny bit unfair to people who want a smaller phone. The entire lineup is still pretty big, though. So if you're hoping for something to replace that aging iPhone SE, you're not going to love any of these options. I'm very picky about displays and cameras, so I'm going to get an iPhone 11 Pro. In fact, the cameras on the iPhone 11 and 11 Pro are so improved that I think they're worth the year-over-year upgrade from last year's models for the first time in a long time. Add in the improved battery life and the iPhone 11 Pro stands out as a major step forward from the XS and one of the best flagship phones of the year. Or it will be, when Apple fixes iOS 13. Hey everybody, this was obviously the iPhone 11 Pro review. We also reviewed the iPhone 11, that was a fun collab we did with Dieter Bohn. Watch both videos, they're both on the channel, and then let me know which of these phones you think you're going to buy or if you're waiting for the Pixel 4.\""
   ]
  },
  {
   "cell_type": "code",
   "execution_count": 36,
   "metadata": {
    "collapsed": true
   },
   "outputs": [],
   "source": [
    "# using regex to remove any character that is not alpha numeric or punctuation\n",
    "import re\n",
    "pattern = r\"[^{}]\".format('a-zA-Z0-9!\"#$%&\\'()*+,-./:;<=>?@[\\\\]^_`{|}~') \n",
    "text = re.sub(pattern,' ',text)"
   ]
  },
  {
   "cell_type": "code",
   "execution_count": 37,
   "metadata": {
    "collapsed": true
   },
   "outputs": [],
   "source": [
    "test = SentimentFilter(text)\n",
    "test.getSentiment()\n",
    "test.filterPositives(0.9)\n",
    "test.filterNegatives(0.9)"
   ]
  },
  {
   "cell_type": "code",
   "execution_count": 38,
   "metadata": {},
   "outputs": [
    {
     "data": {
      "text/plain": [
       "[\"- Alright, it's iPhone time.\",\n",
       " 'Apple released three new iPhones all at once this year.',\n",
       " 'The iPhone 11, the iPhone 11 Pro, and the iPhone 11 Pro Max.',\n",
       " \"Now, I honestly think the iPhone 11 is the phone most people in the iOS ecosystem should get if they're upgrading.\",\n",
       " \"So we've got a whole other review of that phone that you should check out, too.\",\n",
       " 'But this, this is the Pro review.',\n",
       " 'The dark mode, cash money review for professionals who use their phones to do pro stuff.',\n",
       " 'Actually, I have no idea why Apple called these phones Pro.',\n",
       " \"But you know what, it's a great phone.\",\n",
       " 'And I think Apple might have done it.',\n",
       " \"This is the best camera I've ever seen on a phone.\",\n",
       " \"It's a little heavier and thicker, but unless you're comparing them directly, you probably won't notice.\",\n",
       " \"I'll get into why in a minute.\",\n",
       " 'It also integrates a glossy camera bump with three cameras.',\n",
       " 'The iPhone 11 is the reverse.',\n",
       " 'Now you know.',\n",
       " \"I got a lot of questions about this matte finish and I think it's really nice, especially in this new midnight green color.\",\n",
       " \"It didn't really pick up any fingerprints, but it does seem a tiny bit more slippery than the gloss back of the previous phones and the iPhone 11.\",\n",
       " \"But I also think most people are just going to stick this thing in a case, so it doesn't seem like a huge issue.\",\n",
       " 'A lot of people also asked me if this matte finish will scratch easily, similar to the back of the Pixel 3, and so far the answer seems to be no.',\n",
       " \"But we're going to have to keep an eye on it over time.\",\n",
       " \"Apple's finally relented and included an 18W USB-C fast charger with the Pro phones.\",\n",
       " 'So you get a USB-C to Lightning cable as well.',\n",
       " \"But anything is better than the slow 5W brick it's been including for years, so I'll take it.\",\n",
       " \"So let's get into these cameras.\",\n",
       " 'And Chinese phone makers, in particular, have been racing each other to add an endless array of photography features.',\n",
       " \"But Apple doesn't have that advantage in big markets like Europe and China.\",\n",
       " \"So Apple's added a bunch of features that first appeared on Android phones.\",\n",
       " 'There are three cameras on the iPhone 11 Pro.',\n",
       " 'The telephoto camera has the same basic sensor, but a faster f/2.O lens.',\n",
       " \"And there's the new super fun ultra-wide camera, which is basically twice as wide as the main lens and f/2.4.\",\n",
       " 'And the f/2.2 front camera is now 12 megapixels, up from seven, and has a wider 24mm focal length so it can pull out to a slightly wider angle in landscape for selfies.',\n",
       " \"Apple's also updated its smart HDR processing system, which I was not very impressed with when I reviewed the iPhone XS and XR.\",\n",
       " 'The iPhone 11 cameras are an enormous improvement over the XS, and beat the Pixel and Galaxy Note 10 in most of our tests.',\n",
       " 'And all these photos look basically fine.',\n",
       " 'But zoom and do 100 percent crop and the improvement from the iPhone XS to the iPhone 11 main camera is stunning.',\n",
       " 'The iPhone 11 is way sharper, with way more detail.',\n",
       " \"I also think the iPhone 11 does a way better job than the Note 10 and it's a little better to my eye than the Pixel 3.\",\n",
       " \"This improvement is due to something Apple's calling semantic rendering.\",\n",
       " 'First, the iPhone starts taking photos to a buffer the instant you open the camera app.',\n",
       " 'Then it grabs one overexposed frame.',\n",
       " 'Faces, hair, the sky, things like that.',\n",
       " \"Then it uses additional detail from the under and overexposed frames to selectively process the areas of the image it's recognized.\",\n",
       " \"Finally, the whole image is saved and you've got a photo.\",\n",
       " \"Here's that final image we just took.\",\n",
       " 'The improvements to Smart HDR are applicable across cameras.',\n",
       " \"Here's a quick comparison of the ultra-wides in the 11 Pro and the Note 10.\",\n",
       " 'You can see the same thing with selfies.',\n",
       " 'The Note 10 did all kinds of goofy skin smoothing and the Pixel 3 looks great, but it has less detail than the iPhone.',\n",
       " 'Just look at her eyelashes.',\n",
       " 'The XS historically struggled with backlit subjects.',\n",
       " 'And while the 11 is a definite improvement, this photo is really blue.',\n",
       " \"And there's basically no detail in Mariya's face.\",\n",
       " 'I think the Note actually did the best overall job here.',\n",
       " \"And I think the Pixel does the best job in low light, but the iPhone isn't bad.\",\n",
       " \"It's a lot better than the XS\",\n",
       " 'was last year.',\n",
       " 'If it improves photos taken in this kind of light, then the iPhone will basically pull ahead in every situation.',\n",
       " \"Apple also added a Night mode this year and it's really impressive.\",\n",
       " 'It preserves a ton more detail than the Pixel.',\n",
       " 'The iPhone has preserved all of the detail in the brick and graffiti, which is basically gone in the Pixel shot.',\n",
       " \"You'd never know that fence was even there in the Pixel photo.\",\n",
       " 'All in all, I think the iPhone 11 camera does better in bright light than the Pixel 3 and Note 10, and the Night mode beats the Pixel 3 more often than not.',\n",
       " '-',\n",
       " \"Let's put it to the test.\",\n",
       " 'The Pixel leaned into the warm tones, while Samsung muddied the mid tones.',\n",
       " 'And the iPhone XS leaned into the blues of the sky, while the 11 Pro balanced the warm and cool tones out the most.',\n",
       " \"Okay, we've got to test the audio on all these phones.\",\n",
       " \"I'll let you guys be the judge.\",\n",
       " 'Of course, the answer is yes.',\n",
       " \"But on these phones, who's to say?\",\n",
       " \"In low light, Apple isn't afraid of underexposing the blacks, whereas Samsung and Google will bring them up.\",\n",
       " 'The front-facing camera on the iPhone 11 Pro did a great job of balancing my skin tone and just the exposure in general.',\n",
       " \"But it wasn't as sharp as the Note 10.\",\n",
       " \"Now all these comparisons are great, but chances are you won't be recording on all of these phones side by side at the same exact time.\",\n",
       " \"So let's just talk about the iPhone 11 Pro.\",\n",
       " \"You'll use it once and probably never touch it again.\",\n",
       " 'The video from the rear cameras, though, is really good.',\n",
       " \"Like, in perfect light, it's honestly just impressive.\",\n",
       " 'Switching between lenses is pretty seamless in terms of color accuracy and exposure.',\n",
       " 'And you can use the dial method or just tap the lenses on the screen to switch.',\n",
       " \"So make sure you set 4K30 or lower if you're going to be doing that.\",\n",
       " 'The ultra-wide angle lens looks super cool even with the crazy distortion.',\n",
       " \"But there is no image stabilization, which shouldn't be a problem because naturally, the wider the lens, the less need for that.\",\n",
       " 'Both the telephoto and wide lens keep your shot stable and pretty sharp for a sensor their size.',\n",
       " 'My big issue, though, why do I have to leave the camera app to change the frame rates?',\n",
       " \"It's not intuitive and it's just time-consuming.\",\n",
       " 'Apple, just put it in the app.',\n",
       " \"iPhones have always had great video, but the video on the 11 Pro is the best I've seen on a smartphone to date.\",\n",
       " 'Enough of me, back to Nilay.',\n",
       " '-',\n",
       " 'The screen on the iPhone 11 Pro is a new OLED that Apple is calling the Super Retina XDR display.',\n",
       " \"Now in typical situations, Apple says the iPhone 11 Pro display can go up to 800 nits of brightness and that when you're watching HDR content, the highlights will peak at 1,200 nits.\",\n",
       " \"In normal situations, I don't think you're going to notice it.\",\n",
       " \"But it's a huge and obvious improvement when you're watching HDR movies.\",\n",
       " \"It's hard to capture this on video, but it's just a lot brighter and punchier on the 11 Pro display compared to the XS.\",\n",
       " \"The Note 10 display definitely looks as bright, but the iPhone's color processing looks way more natural to me, especially with Apple's True Tone system turned on.\",\n",
       " \"Apple has also updated the audio on the iPhone 11 and iPhone 11 Pro, with something they're calling spatial audio.\",\n",
       " \"It's basically a surround decoder.\",\n",
       " \"The iPhone 11s also support Dolby Atmos, which is a little silly for stereo speakers, but it's there.\",\n",
       " 'All in all, the iPhone speakers sound really loud and generally better than ever.',\n",
       " \"Peeking at links in Safari is a little different in iOS 13, but it's also a little simpler.\",\n",
       " 'The only place I truly missed 3D Touch was the keyboard.',\n",
       " 'You could press down anywhere on the keyboard to move the cursor around on the XS, but with Haptic Touch you can only press and hold on the space bar.',\n",
       " 'Now, I never really realized how many times a day I used that one specific 3D Touch feature',\n",
       " 'Apple claims the iPhone 11 Pro lasts four hours longer than the iPhone XS, and that the iPhone 11 Pro Max lasts five hours longer than the XS Max.',\n",
       " \"Apple doesn't run a strict battery test that we can just repeat.\",\n",
       " \"Simple tests of a single task, which isn't how anyone uses a phone.\",\n",
       " 'All that said, the battery life on the iPhone 11 Pro has been impressive.',\n",
       " 'That is a huge improvement over my XS Max, which generally runs for eight to nine hours',\n",
       " 'The smaller 11 Pro has been just as impressive.',\n",
       " \"That's the phone Becca used for her testing and it still had 50 percent of its battery left the morning after she shot her part of the review.\",\n",
       " 'It turns out a slightly thicker phone with a bigger battery was the right move after all.',\n",
       " \"Inside the new iPhone 11 Pro, there's the new A13 Bionic processor which, as usual, benchmarks far above the competition.\",\n",
       " \"Face ID is a little bit faster and works at more angles, but it's not particularly dramatic, it just works a little bit better.\",\n",
       " 'I think this is the best kind of iterative update.',\n",
       " 'It made a thing that was already pretty good a little bit better, and anything that makes securing your phone a little bit better is great.',\n",
       " \"And most intriguingly, there's a new chip inside the iPhone 11, it's called the U1, which does precise positioning using an ultra wideband radio.\",\n",
       " 'Apple says the forthcoming iOS 13.1 update will allow you to just point the phone at another U1 device to put it at the top of your AirDrop list.',\n",
       " 'Obviously, the iPhone 11 Pro runs iOS 13',\n",
       " 'and I have to tell you, iOS 13 is pretty buggy.',\n",
       " \"But if you're on the fence about upgrading, you might want to wait until some of these bug fix updates actually ship.\",\n",
       " 'Assuming all the bugs get fixed, the biggest new feature in iOS 13 is Dark Mode, which is very nice.',\n",
       " 'But otherwise, this is a lot of tiny little updates.',\n",
       " \"There's a swiping keyboard now.\",\n",
       " \"Siri's voice is slightly smoother.\",\n",
       " 'And the 11 Pro Max starts at $1,099.',\n",
       " 'You can spec the Pro Max all the way up to $1,449 with 512GB of storage, which means that you can pay an awful lot of money for this phone if you want to.',\n",
       " 'And I think most people should get the iPhone 11.',\n",
       " 'And if you want a smaller phone, the iPhone 11 Pro is a little bit smaller than the iPhone 11, which seems a tiny bit unfair to people who want a smaller phone.',\n",
       " \"I'm very picky about displays and cameras, so I'm going to get an iPhone 11 Pro.\",\n",
       " \"In fact, the cameras on the iPhone 11 and 11 Pro are so improved that I think they're worth the year-over-year upgrade from last year's models for the first time in a long time.\",\n",
       " 'Add in the improved battery life and the iPhone 11 Pro stands out as a major step forward from the XS and one of the best flagship phones of the year.',\n",
       " 'Or it will be, when Apple fixes iOS 13.',\n",
       " 'Hey everybody, this was obviously the iPhone 11 Pro review.',\n",
       " \"Watch both videos, they're both on the channel, and then let me know which of these phones you think you're going to buy or if you're waiting for the Pixel 4.\"]"
      ]
     },
     "execution_count": 38,
     "metadata": {},
     "output_type": "execute_result"
    }
   ],
   "source": [
    "test.getFilteredTokens()"
   ]
  },
  {
   "cell_type": "code",
   "execution_count": 39,
   "metadata": {
    "collapsed": true
   },
   "outputs": [],
   "source": [
    "# cleaning up review sentences\n",
    "cleaned_review_text = []\n",
    "for t in test.getFilteredTokens():\n",
    "    cleaned_text = text_cleaner(t,0)\n",
    "    if cleaned_text and len(cleaned_text.split(' ')) > 4:\n",
    "        cleaned_review_text.append(cleaned_text)\n",
    "        \n",
    "# trying to test with the whole text\n",
    "#cleaned_review_text.append(text_cleaner(text,0))\n",
    "\n",
    "# convert cleaned text to numpy array\n",
    "reviews = np.array(cleaned_review_text)"
   ]
  },
  {
   "cell_type": "code",
   "execution_count": 40,
   "metadata": {
    "collapsed": true
   },
   "outputs": [],
   "source": [
    "# tokenize test data\n",
    "x_val_seq   =   x_tokenizer.texts_to_sequences(reviews)\n",
    "x_val   =   pad_sequences(x_val_seq, maxlen=max_text_len, padding='post')"
   ]
  },
  {
   "cell_type": "code",
   "execution_count": 48,
   "metadata": {},
   "outputs": [
    {
     "name": "stdout",
     "output_type": "stream",
     "text": [
      "WARNING:tensorflow:Entity <bound method AttentionLayer.call of <attention.AttentionLayer object at 0x7ffb525b1588>> could not be transformed and will be executed as-is. Please report this to the AutgoGraph team. When filing the bug, set the verbosity to 10 (on Linux, `export AUTOGRAPH_VERBOSITY=10`) and attach the full output. Cause: converting <bound method AttentionLayer.call of <attention.AttentionLayer object at 0x7ffb525b1588>>: AttributeError: module 'gast' has no attribute 'Num'\n",
      "WARNING: Entity <bound method AttentionLayer.call of <attention.AttentionLayer object at 0x7ffb525b1588>> could not be transformed and will be executed as-is. Please report this to the AutgoGraph team. When filing the bug, set the verbosity to 10 (on Linux, `export AUTOGRAPH_VERBOSITY=10`) and attach the full output. Cause: converting <bound method AttentionLayer.call of <attention.AttentionLayer object at 0x7ffb525b1588>>: AttributeError: module 'gast' has no attribute 'Num'\n",
      "WARNING:tensorflow:From /home/ubuntu/.local/lib/python3.6/site-packages/tensorflow/python/ops/math_grad.py:1250: add_dispatch_support.<locals>.wrapper (from tensorflow.python.ops.array_ops) is deprecated and will be removed in a future version.\n",
      "Instructions for updating:\n",
      "Use tf.where in 2.0, which has the same broadcast rule as np.where\n"
     ]
    }
   ],
   "source": [
    "from tensorflow.keras.models import load_model\n",
    "newmodel = load_model('./phone_reviews_bilstm_epoch20.h5', custom_objects={'AttentionLayer': AttentionLayer})"
   ]
  },
  {
   "cell_type": "code",
   "execution_count": 49,
   "metadata": {},
   "outputs": [
    {
     "name": "stdout",
     "output_type": "stream",
     "text": [
      "Model: \"model\"\n",
      "__________________________________________________________________________________________________\n",
      "Layer (type)                    Output Shape         Param #     Connected to                     \n",
      "==================================================================================================\n",
      "input_1 (InputLayer)            [(None, 100)]        0                                            \n",
      "__________________________________________________________________________________________________\n",
      "embedding (Embedding)           (None, 100, 100)     1373600     input_1[0][0]                    \n",
      "__________________________________________________________________________________________________\n",
      "bidirectional (Bidirectional)   [(None, 100, 600), ( 962400      embedding[0][0]                  \n",
      "__________________________________________________________________________________________________\n",
      "bidirectional_1 (Bidirectional) [(None, 100, 600), ( 2162400     bidirectional[0][0]              \n",
      "__________________________________________________________________________________________________\n",
      "input_2 (InputLayer)            [(None, None)]       0                                            \n",
      "__________________________________________________________________________________________________\n",
      "bidirectional_2 (Bidirectional) [(None, 100, 600), ( 2162400     bidirectional_1[0][0]            \n",
      "__________________________________________________________________________________________________\n",
      "embedding_1 (Embedding)         (None, None, 100)    385300      input_2[0][0]                    \n",
      "__________________________________________________________________________________________________\n",
      "concatenate (Concatenate)       (None, 600)          0           bidirectional_2[0][1]            \n",
      "                                                                 bidirectional_2[0][3]            \n",
      "__________________________________________________________________________________________________\n",
      "concatenate_1 (Concatenate)     (None, 600)          0           bidirectional_2[0][2]            \n",
      "                                                                 bidirectional_2[0][4]            \n",
      "__________________________________________________________________________________________________\n",
      "lstm_3 (LSTM)                   [(None, None, 600),  1682400     embedding_1[0][0]                \n",
      "                                                                 concatenate[0][0]                \n",
      "                                                                 concatenate_1[0][0]              \n",
      "__________________________________________________________________________________________________\n",
      "attention_layer (AttentionLayer ((None, None, 600),  720600      bidirectional_2[0][0]            \n",
      "                                                                 lstm_3[0][0]                     \n",
      "__________________________________________________________________________________________________\n",
      "concat_layer (Concatenate)      (None, None, 1200)   0           lstm_3[0][0]                     \n",
      "                                                                 attention_layer[0][0]            \n",
      "__________________________________________________________________________________________________\n",
      "time_distributed (TimeDistribut (None, None, 3853)   4627453     concat_layer[0][0]               \n",
      "==================================================================================================\n",
      "Total params: 14,076,553\n",
      "Trainable params: 14,076,553\n",
      "Non-trainable params: 0\n",
      "__________________________________________________________________________________________________\n"
     ]
    }
   ],
   "source": [
    "newmodel.summary()"
   ]
  },
  {
   "cell_type": "code",
   "execution_count": 50,
   "metadata": {
    "scrolled": true
   },
   "outputs": [
    {
     "data": {
      "text/plain": [
       "[<tensorflow.python.keras.engine.input_layer.InputLayer at 0x7ffb52588ac8>,\n",
       " <tensorflow.python.keras.layers.embeddings.Embedding at 0x7ffb52588be0>,\n",
       " <tensorflow.python.keras.layers.wrappers.Bidirectional at 0x7ffb52588a90>,\n",
       " <tensorflow.python.keras.layers.wrappers.Bidirectional at 0x7ffb5259c2e8>,\n",
       " <tensorflow.python.keras.engine.input_layer.InputLayer at 0x7ffb525a54e0>,\n",
       " <tensorflow.python.keras.layers.wrappers.Bidirectional at 0x7ffb525a5518>,\n",
       " <tensorflow.python.keras.layers.embeddings.Embedding at 0x7ffb525aca58>,\n",
       " <tensorflow.python.keras.layers.merge.Concatenate at 0x7ffb525acc50>,\n",
       " <tensorflow.python.keras.layers.merge.Concatenate at 0x7ffb525ace10>,\n",
       " <tensorflow.python.keras.layers.recurrent.LSTM at 0x7ffb525acfd0>,\n",
       " <attention.AttentionLayer at 0x7ffb525b1588>,\n",
       " <tensorflow.python.keras.layers.merge.Concatenate at 0x7ffb525b1710>,\n",
       " <tensorflow.python.keras.layers.wrappers.TimeDistributed at 0x7ffb525889b0>]"
      ]
     },
     "execution_count": 50,
     "metadata": {},
     "output_type": "execute_result"
    }
   ],
   "source": [
    "newmodel.layers"
   ]
  },
  {
   "cell_type": "code",
   "execution_count": 71,
   "metadata": {
    "collapsed": true
   },
   "outputs": [],
   "source": [
    "\n",
    "encoder_outputs, forward_h, forward_c, backward_h, backward_c = newmodel.get_layer('bidirectional_2').output"
   ]
  },
  {
   "cell_type": "code",
   "execution_count": 72,
   "metadata": {
    "collapsed": true
   },
   "outputs": [],
   "source": [
    "encoder_inputs = newmodel.get_layer('input_1').output"
   ]
  },
  {
   "cell_type": "code",
   "execution_count": 73,
   "metadata": {
    "collapsed": true
   },
   "outputs": [],
   "source": [
    "decoder_inputs = newmodel.get_layer('input_2').output"
   ]
  },
  {
   "cell_type": "code",
   "execution_count": 41,
   "metadata": {},
   "outputs": [
    {
     "name": "stdout",
     "output_type": "stream",
     "text": [
      "Review: apple released three new iphones year\n",
      "Predicted summary:  the phone was not good but it was\n",
      "Review: iphone 11 iphone 11 pro iphone 11 pro max\n",
      "Predicted summary:  great phone\n",
      "Review: honestly think iphone 11 phone people ios ecosystem get upgrading\n",
      "Predicted summary:  good phone\n",
      "Review: got whole review phone check\n",
      "Predicted summary:  it is good phone but it is\n",
      "Review: dark mode cash money review professionals use phones pro stuff\n",
      "Predicted summary:  the phone was not good but it was\n",
      "Review: actually idea apple called phones pro\n",
      "Predicted summary:  the phone was not good but it was\n",
      "Review: best camera ever seen phone\n",
      "Predicted summary:  good phone\n",
      "Review: little heavier thicker unless comparing directly probably notice\n",
      "Predicted summary:  good phone\n",
      "Review: also integrates glossy camera bump three cameras\n",
      "Predicted summary:  it is good phone but it is\n",
      "Review: got lot questions matte finish think really nice especially new midnight green color\n",
      "Predicted summary:  good phone\n",
      "Review: really pick fingerprints seem tiny bit slippery gloss back previous phones iphone 11\n",
      "Predicted summary:  great phone\n",
      "Review: also think people going stick thing case seem like huge issue\n",
      "Predicted summary:  good phone\n",
      "Review: lot people also asked matte finish scratch easily similar back pixel far answer seems\n",
      "Predicted summary:  good phone\n",
      "Review: apple finally relented included 18w usb fast charger pro phones\n",
      "Predicted summary:  it is good phone but it is\n",
      "Review: get usb lightning cable well\n",
      "Predicted summary:  it is good phone but it is\n",
      "Review: anything better slow 5w brick including years take\n",
      "Predicted summary:  it is good phone but it is\n",
      "Review: chinese phone makers particular racing add endless array photography features\n",
      "Predicted summary:  good phone\n",
      "Review: apple advantage big markets like europe china\n",
      "Predicted summary:  good phone\n",
      "Review: apple added bunch features first appeared android phones\n",
      "Predicted summary:  the phone is not good but it was\n",
      "Review: three cameras iphone 11 pro\n",
      "Predicted summary:  good phone\n",
      "Review: telephoto camera basic sensor faster lens\n",
      "Predicted summary:  great phone\n",
      "Review: new super fun ultra wide camera basically twice wide main lens\n",
      "Predicted summary:  good phone\n",
      "Review: front camera 12 megapixels seven wider 24mm focal length pull slightly wider angle landscape selfies\n",
      "Predicted summary:  it is good phone but it is\n",
      "Review: apple also updated smart hdr processing system impressed reviewed iphone xs xr\n",
      "Predicted summary:  good phone\n",
      "Review: iphone 11 cameras enormous improvement xs beat pixel galaxy note 10 tests\n",
      "Predicted summary:  great phone\n",
      "Review: zoom 100 percent crop improvement iphone xs iphone 11 main camera stunning\n",
      "Predicted summary:  good phone\n",
      "Review: iphone 11 way sharper way detail\n",
      "Predicted summary:  good phone\n",
      "Review: also think iphone 11 way better job note 10 little better eye pixel\n",
      "Predicted summary:  great phone\n",
      "Review: improvement due something apple calling semantic rendering\n",
      "Predicted summary:  good phone\n",
      "Review: first iphone starts taking photos buffer instant open camera app\n",
      "Predicted summary:  the phone was not good but it is\n",
      "Review: faces hair sky things like\n",
      "Predicted summary:  it is good phone but it is\n",
      "Review: uses additional detail overexposed frames selectively process areas image recognized\n",
      "Predicted summary:  the phone is not good but it is\n",
      "Review: finally whole image saved got photo\n",
      "Predicted summary:  the phone is good but the phone is\n",
      "Review: improvements smart hdr applicable across cameras\n",
      "Predicted summary:  good phone\n",
      "Review: quick comparison ultra wides 11 pro note 10\n",
      "Predicted summary:  good phone\n",
      "Review: note 10 kinds goofy skin smoothing pixel looks great less detail iphone\n",
      "Predicted summary:  great phone\n",
      "Review: xs historically struggled backlit subjects\n",
      "Predicted summary:  good phone\n",
      "Review: 11 definite improvement photo really blue\n",
      "Predicted summary:  good phone\n",
      "Review: think note actually best overall job\n",
      "Predicted summary:  good phone\n",
      "Review: think pixel best job low light iphone bad\n",
      "Predicted summary:  good phone\n",
      "Review: improves photos taken kind light iphone basically pull ahead every situation\n",
      "Predicted summary:  it is good phone but it is\n",
      "Review: apple also added night mode year really impressive\n",
      "Predicted summary:  good phone\n",
      "Review: iphone preserved detail brick graffiti basically gone pixel shot\n",
      "Predicted summary:  it is good phone but it is\n",
      "Review: would never know fence even pixel photo\n",
      "Predicted summary:  the phone was not good but it was\n",
      "Review: think iphone 11 camera better bright light pixel note 10 night mode beats pixel often\n",
      "Predicted summary:  great phone\n",
      "Review: pixel leaned warm tones samsung muddied mid tones\n",
      "Predicted summary:  good phone\n",
      "Review: iphone xs leaned blues sky 11 pro balanced warm cool tones\n",
      "Predicted summary:  good phone\n",
      "Review: okay got test audio phones\n",
      "Predicted summary:  the phone is not good but it is\n",
      "Review: low light apple afraid underexposing blacks whereas samsung google bring\n",
      "Predicted summary:  good phone\n",
      "Review: front facing camera iphone 11 pro great job balancing skin tone exposure general\n",
      "Predicted summary:  great phone\n",
      "Review: comparisons great chances recording phones side side exact time\n",
      "Predicted summary:  great phone\n",
      "Review: let us talk iphone 11 pro\n",
      "Predicted summary:  it is good phone but it is\n",
      "Review: video rear cameras though really good\n",
      "Predicted summary:  good phone\n",
      "Review: like perfect light honestly impressive\n",
      "Predicted summary:  great phone\n",
      "Review: switching lenses pretty seamless terms color accuracy exposure\n",
      "Predicted summary:  good phone\n",
      "Review: use dial method tap lenses screen switch\n",
      "Predicted summary:  the phone was not good but it was\n",
      "Review: make sure set 4k30 lower going\n",
      "Predicted summary:  it is good phone but it is\n",
      "Review: ultra wide angle lens looks super cool even crazy distortion\n",
      "Predicted summary:  good phone\n",
      "Review: image stabilization problem naturally wider lens less need\n",
      "Predicted summary:  it is good phone but it is\n",
      "Review: telephoto wide lens keep shot stable pretty sharp sensor size\n",
      "Predicted summary:  good phone\n",
      "Review: big issue though leave camera app change frame rates\n",
      "Predicted summary:  good phone\n",
      "Review: iphones always great video video 11 pro best seen smartphone date\n",
      "Predicted summary:  great phone\n",
      "Review: screen iphone 11 pro new oled apple calling super retina xdr display\n",
      "Predicted summary:  it is good phone but it is\n",
      "Review: typical situations apple says iphone 11 pro display go 800 nits brightness watching hdr content highlights peak 200 nits\n",
      "Predicted summary:  the phone was not good but it was\n",
      "Review: normal situations think going notice\n",
      "Predicted summary:  it is good phone but it is\n",
      "Review: huge obvious improvement watching hdr movies\n",
      "Predicted summary:  good phone\n",
      "Review: hard capture video lot brighter punchier 11 pro display compared xs\n",
      "Predicted summary:  the phone is good but the phone is\n",
      "Review: note 10 display definitely looks bright iphone color processing looks way natural especially apple true tone system turned\n",
      "Predicted summary:  great phone\n",
      "Review: apple also updated audio iphone 11 iphone 11 pro something calling spatial audio\n",
      "Predicted summary:  good phone\n",
      "Review: iphone 11s also support dolby atmos little silly stereo speakers\n",
      "Predicted summary:  good phone\n",
      "Review: iphone speakers sound really loud generally better ever\n",
      "Predicted summary:  good phone\n",
      "Review: peeking links safari little different ios 13 also little simpler\n",
      "Predicted summary:  great phone\n",
      "Review: place truly missed 3d touch keyboard\n",
      "Predicted summary:  the phone is good but the phone is\n",
      "Review: could press anywhere keyboard move cursor around xs haptic touch press hold space bar\n",
      "Predicted summary:  the phone was not good but it was\n",
      "Review: never really realized many times day used one specific 3d touch feature\n",
      "Predicted summary:  the phone was not good but it was\n",
      "Review: apple claims iphone 11 pro lasts four hours longer iphone xs iphone 11 pro max lasts five hours longer xs max\n",
      "Predicted summary:  good phone\n",
      "Review: apple run strict battery test repeat\n",
      "Predicted summary:  the phone was not good but it was\n",
      "Review: simple tests single task anyone uses phone\n",
      "Predicted summary:  great phone\n",
      "Review: said battery life iphone 11 pro impressive\n",
      "Predicted summary:  the phone is good but the phone is\n",
      "Review: huge improvement xs max generally runs eight nine hours\n"
     ]
    },
    {
     "name": "stdout",
     "output_type": "stream",
     "text": [
      "Predicted summary:  good phone\n",
      "Review: phone becca used testing still 50 percent battery left morning shot part review\n",
      "Predicted summary:  the phone is good but the phone is not\n",
      "Review: turns slightly thicker phone bigger battery right move\n",
      "Predicted summary:  the phone is not good but it is\n",
      "Review: inside new iphone 11 pro new a13 bionic processor usual benchmarks far competition\n",
      "Predicted summary:  good phone\n",
      "Review: face id little bit faster works angles particularly dramatic works little bit better\n",
      "Predicted summary:  great phone\n",
      "Review: think best kind iterative update\n",
      "Predicted summary:  good phone\n",
      "Review: made thing already pretty good little bit better anything makes securing phone little bit better great\n",
      "Predicted summary:  good phone\n",
      "Review: intriguingly new chip inside iphone 11 called u1 precise positioning using ultra wideband radio\n",
      "Predicted summary:  good phone\n",
      "Review: apple says forthcoming ios 13 update allow point phone another u1 device put top airdrop list\n",
      "Predicted summary:  the phone was not good but it was\n",
      "Review: obviously iphone 11 pro runs ios 13\n",
      "Predicted summary:  good phone\n",
      "Review: tell ios 13 pretty buggy\n",
      "Predicted summary:  it is good phone but it is\n",
      "Review: fence upgrading might want wait bug fix updates actually ship\n",
      "Predicted summary:  the phone is good but the phone is\n",
      "Review: assuming bugs get fixed biggest new feature ios 13 dark mode nice\n",
      "Predicted summary:  the phone was not good but it was\n",
      "Review: otherwise lot tiny little updates\n",
      "Predicted summary:  good phone\n",
      "Review: 11 pro max starts 099\n",
      "Predicted summary:  good phone\n",
      "Review: spec pro max way 449 512gb storage means pay awful lot money phone want\n",
      "Predicted summary:  the phone is not good but it was\n",
      "Review: think people get iphone 11\n",
      "Predicted summary:  good phone\n",
      "Review: want smaller phone iphone 11 pro little bit smaller iphone 11 seems tiny bit unfair people want smaller phone\n",
      "Predicted summary:  great phone\n",
      "Review: picky displays cameras going get iphone 11 pro\n",
      "Predicted summary:  good phone\n",
      "Review: fact cameras iphone 11 11 pro improved think worth year year upgrade last year models first time long time\n",
      "Predicted summary:  great phone\n",
      "Review: add improved battery life iphone 11 pro stands major step forward xs one best flagship phones year\n",
      "Predicted summary:  good phone\n",
      "Review: hey everybody obviously iphone 11 pro review\n",
      "Predicted summary:  good phone\n",
      "Review: watch videos channel let know phones think going buy waiting pixel\n",
      "Predicted summary:  the phone was not good but it was\n"
     ]
    }
   ],
   "source": [
    "for index in range(len(cleaned_review_text)):\n",
    "    print(\"Review:\",cleaned_review_text[index])\n",
    "    print(\"Predicted summary:\",decode_sequence(x_val[index].reshape(1,max_text_len)))"
   ]
  },
  {
   "cell_type": "code",
   "execution_count": 89,
   "metadata": {},
   "outputs": [
    {
     "name": "stdout",
     "output_type": "stream",
     "text": [
      "Review: first two iterations chromebook pixel pixel book three worked great laptops one huge flaw cost way much money\n",
      "Predicted summary:  great laptop\n",
      "Review: instead google trying build chromebook anyone use afford pixel go starts six hundred fifty dollars full less original pixel book\n",
      "Predicted summary:  the battery life is not as good as it is\n",
      "Review: first time google built something better cheap low end chromebooks still semi affordable unfortunately quest get price google\n",
      "Predicted summary:  the best thing have ever owned\n",
      "Review: trade offs worth google previous chromebooks well last year ill fated pixel slate tablet distinctive designs premium hardware corners cut pixel book though nice device\n",
      "Predicted summary:  great chromebook\n",
      "Review: phone pedestrian computer anything google released thus far\n",
      "Predicted summary:  five stars\n",
      "Review: much distinctive combo black certain understated elegance either way go feels sturdy well built distinctive design elements see original pixel book\n",
      "Predicted summary:  not happy with this purchase\n",
      "Review: though particularly glass aluminum lid echoed design goulds pixel phones go functional utilitarian design appreciate\n",
      "Predicted summary:  great value\n",
      "Review: says design needs word make laptop easier grip pull sleeve\n",
      "Predicted summary:  five stars\n",
      "Review: still good see google playful side otherwise dull laptop goal might little boring\n",
      "Predicted summary:  good for the price\n",
      "Review: still feels nicer sturdier almost chromebook market\n",
      "Predicted summary:  five stars\n",
      "Review: google surely simplified design way cut costs notable changes go compared predecessor unlike first pixel book\n",
      "Predicted summary:  not what expected\n",
      "Review: also means work pixel book pen stylus pixel book pixel slate excellent displays taller aspect ratio higher resolutions pixel book\n",
      "Predicted summary:  excellent\n",
      "Review: works pixels per inch far cry ppi first pixel book impressive ppi pixel sleep google build go screen option available get top line model costs eye popping thirteen hundred ninety nine dollars good news go much slimmer bezels around screen original pixel book\n",
      "Predicted summary:  good for the price\n",
      "Review: still prefer taller pixel dense display laptop screen go fortunately\n",
      "Predicted summary:  five stars\n",
      "Review: original pixel book offered great typing experience go almost good\n",
      "Predicted summary:  great buy\n",
      "Review: feels kind rough finger scrolling around smooth\n",
      "Predicted summary:  three stars\n",
      "Review: base model pairs eighth generation intel core processor gigabytes ram gigabytes storage one reviewed steps processor gigabytes storage model costs comparable defined\n",
      "Predicted summary:  not enough for me\n",
      "Review: pixel book go handle normal workload without issues routine involves dozen browser tabs tweetdeck hangouts slack todoist google keep trello running chrome apps along occasional android app adobe lightroom netflix youtube music mostly worked well although music playback occasional low memory hiccup frustrating\n",
      "Predicted summary:  great for the price\n",
      "Review: notably happen using youtube music browser tab\n",
      "Predicted summary:  one star\n",
      "Review: cannot imagine people need upgrade model tried google also selling configuration doubles range gigabytes well model mentioned includes core processor gigs ram gigs storage display\n",
      "Predicted summary:  great laptop for the price\n",
      "Review: pixel book though also holds pretty well battery side something always true original video playback test\n",
      "Predicted summary:  not bad\n",
      "Review: go ran half hours shutting\n",
      "Predicted summary:  five stars\n",
      "Review: unfortunately never came close hours putting go normal routine last eight hours definite improvement first pixel book\n",
      "Predicted summary:  returned it\n",
      "Review: pixel book go much easier device evaluate either first pixel book pixel\n",
      "Predicted summary:  five stars\n",
      "Review: standard familiar almost boring laptop\n",
      "Predicted summary:  five stars\n",
      "Review: instead figuring cromoz works convertible tablet willing spend premium laptop\n",
      "Predicted summary:  three stars\n"
     ]
    }
   ],
   "source": [
    "for index in range(len(cleaned_review_text)):\n",
    "    print(\"Review:\",cleaned_review_text[index])\n",
    "    print(\"Predicted summary:\",decode_sequence(x_val[index].reshape(1,max_text_len)))"
   ]
  },
  {
   "cell_type": "markdown",
   "metadata": {},
   "source": [
    "#### PreProcessing of the review to get the subject sentences and then run inference"
   ]
  },
  {
   "cell_type": "code",
   "execution_count": 20,
   "metadata": {
    "collapsed": true
   },
   "outputs": [],
   "source": [
    "import spacy\n",
    "import sentences\n",
    "from importlib import reload"
   ]
  },
  {
   "cell_type": "code",
   "execution_count": 24,
   "metadata": {},
   "outputs": [
    {
     "data": {
      "text/plain": [
       "<module 'sentences' from '/home/ubuntu/How-to-build-own-text-summarizer-using-deep-learning/sentences.py'>"
      ]
     },
     "execution_count": 24,
     "metadata": {},
     "output_type": "execute_result"
    }
   ],
   "source": [
    "reload(sentences)"
   ]
  },
  {
   "cell_type": "code",
   "execution_count": 53,
   "metadata": {},
   "outputs": [
    {
     "name": "stdout",
     "output_type": "stream",
     "text": [
      "The iPhone 11 Pro looks almost exactly like the iPhone XS from the front.\n",
      "iPhone 11 Pro Max is a bad name.\n",
      "Of course, Apple and Google are still in a fight over video codecs, so you can't watch any 4K or HDR content on the iPhone 11 Pro from YouTube.\n",
      "I never really bought the idea that previous iPhone displays were Dolby Vision, but the iPhone 11 Pro display kind of pulls it off.\n",
      "The standard iPhone 11 offers almost everything you get from the Pro for $699.\n",
      "The iPhone 11 is the reverse.\n",
      "Inside the new iPhone 11 Pro, there's the new A13 Bionic processor which, as usual, benchmarks far above the competition.\n",
      "The XS Max has pulled up shadows so much that it looks a little hazy, while the iPhone 11 evenly pulls up shadows in Mariya's face, but preserves the contrast with the background.\n",
      "If it improves photos taken in this kind of light, then the iPhone will basically pull ahead in every situation.\n",
      "Instead, it's getting that number by taking its huge data set of iPhone usage and applying it to a model of the new phone.\n",
      "The iPhone 11s also support Dolby Atmos, which is a little silly for stereo speakers, but it's there.\n",
      "Apple claims the iPhone 11 Pro lasts four hours longer than the iPhone XS, and that the iPhone 11 Pro Max lasts five hours longer than the XS Max.\n",
      "All in all, the iPhone speakers sound really loud and generally better than ever.\n",
      "In fact, the cameras on the iPhone 11 and 11 Pro are so improved that I think they're worth the year-over-year upgrade from last year's models for the first time in a long time.\n",
      "I've never had a problem looking at my iPhone XS display outside.\n",
      "The color is punchy and pretty saturated and in perfect lighting, you, too, can have that shot on iPhone look.\n",
      "But in low light, even the iPhone 11 Pro, when viewed on a screen larger than its own, succumbs to noisy blacks and haloed highlights.\n",
      "There are three cameras on the iPhone 11 Pro.\n",
      "And if you want a smaller phone, the iPhone 11 Pro is a little bit smaller than the iPhone 11, which seems a tiny bit unfair to people who want a smaller phone.\n",
      "The iPhone 11 is way sharper, with way more detail.\n",
      "This is all basically the same as the iPhone XS and the Pixel 3, except the Pixel doesn't grab that overexposed frame.\n",
      "You can see how the iPhone 11 preserves more detail than the Pixel and Note in the shadows and highlights, and just blows the iPhone XS away in sharpness.\n",
      "There's no more 3D Touch on the iPhone 11 Pro, it's been replaced by what Apple calls Haptic Touch, which is basically just long pressing on things with haptic feedback.\n",
      "So this video is not in 4K if you're watching on an iPhone.\n",
      "I'm very picky about displays and cameras, so I'm going to get an iPhone 11 Pro.\n",
      "The iPhone 11, the iPhone 11 Pro, and the iPhone 11 Pro Max.\n",
      "We also reviewed the iPhone 11, that was a fun collab we did with Dieter Bohn.\n",
      "- Alright, it's iPhone time.\n",
      "The front-facing camera on the iPhone 11 Pro did a great job of balancing my skin tone and just the exposure in general.\n",
      "The Note 10 did all kinds of goofy skin smoothing and the Pixel 3 looks great, but it has less detail than the iPhone.\n",
      "If this promised Deep Fusion update improves medium- to low-light performance as much as Apple says it will, the iPhone 11 will once again be the smartphone camera to beat.\n",
      "With the subject closer to the lens the Note 10 kept the flowers the sharpest, while the iPhone XS blurred the background the most.\n",
      "This is the third year of the basic iPhone X design and Apple's competitors haven't been sitting still in trying to beat it.\n",
      "They're basically just nice updates to the iPhone XS, but I also think it's a waste of time to argue about names.\n",
      "Faces get relighted to make them look more even and the iPhone knows to sharpen up your facial hair.\n",
      "Obviously, the iPhone 11 Pro runs iOS 13\n",
      "So if you're hoping for something to replace that aging iPhone SE, you're not going to love any of these options.\n",
      "There's a lot of headroom here for things like AR, games, and high-end photo and video apps, but it's not like the A12 Bionic in the iPhone XS is slow.\n",
      "Now there are places where the iPhone 11 didn't win in our tests.\n",
      "All in all, I think the iPhone 11 camera does better in bright light than the Pixel 3 and Note 10, and the Night mode beats the Pixel 3 more often than not.\n",
      "Hey everybody, this was obviously the iPhone 11 Pro review.\n",
      "And I think the Pixel does the best job in low light, but the iPhone isn't bad.\n",
      "But zoom and do 100 percent crop and the improvement from the iPhone XS to the iPhone 11 main camera is stunning.\n",
      "The screen on the iPhone 11 Pro is a new OLED that Apple is calling the Super Retina XDR display.\n",
      "I also think the iPhone 11 does a way better job than the Note 10 and it's a little better to my eye than the Pixel 3.\n",
      "First, the iPhone starts taking photos to a buffer the instant you open the camera app.\n",
      "Apple has also updated the audio on the iPhone 11 and iPhone 11 Pro, with something they're calling spatial audio.\n",
      "And I think most people should get the iPhone 11.\n",
      "Now, I honestly think the iPhone 11 is the phone most people in the iOS ecosystem should get if they're upgrading.\n",
      "Now in typical situations, Apple says the iPhone 11 Pro display can go up to 800 nits of brightness and that when you're watching HDR content, the highlights will peak at 1,200 nits.\n",
      "So let's just talk about the iPhone 11 Pro.\n",
      "The iPhone 11 Pro starts at $999 with 64GB of storage, which doesn't seem like quite enough for that price.\n",
      "Add in the improved battery life and the iPhone 11 Pro stands out as a major step forward from the XS and one of the best flagship phones of the year.\n",
      "Both of these Night mode photos look pretty similar, but look at all the extra detail in the bushes in the iPhone shot.\n",
      "All that said, the battery life on the iPhone 11 Pro has been impressive.\n",
      "And most intriguingly, there's a new chip inside the iPhone 11, it's called the U1, which does precise positioning using an ultra wideband radio.\n",
      "Apple's also made video on the iPhone 11 better with improved stabilization exposure and the ability to record 4K60 video from any of the three cameras.\n",
      "Google and Samsung's cameras have been outperforming the iPhone for a couple of years now.\n",
      "Apple's also updated its smart HDR processing system, which I was not very impressed with when I reviewed the iPhone XS and XR.\n",
      "It didn't really pick up any fingerprints, but it does seem a tiny bit more slippery than the gloss back of the previous phones and the iPhone 11.\n",
      "I asked Apple about some of these glitches and they told me they're always fixing bugs and iPhone owners generally auto update.\n",
      "And the iPhone XS leaned into the blues of the sky, while the 11 Pro balanced the warm and cool tones out the most.\n",
      "The iPhone 11 cameras are an enormous improvement over the XS, and beat the Pixel and Galaxy Note 10 in most of our tests.\n",
      "I think the Pixel produces more dramatic-looking shots out of the camera, but I would rather have the extra detail from the iPhone.\n",
      "The iPhone has preserved all of the detail in the brick and graffiti, which is basically gone in the Pixel shot.\n",
      "The Note 10 display definitely looks as bright, but the iPhone's color processing looks way more natural to me, especially with Apple's True Tone system turned on.\n"
     ]
    }
   ],
   "source": [
    "sent = set()\n",
    "text = \"- Alright, it's iPhone time. Apple released three new iPhones all at once this year. The iPhone 11, the iPhone 11 Pro, and the iPhone 11 Pro Max. Now, I honestly think the iPhone 11 is the phone most people in the iOS ecosystem should get if they're upgrading. So we've got a whole other review of that phone that you should check out, too. But this, this is the Pro review. The dark mode, cash money review for professionals who use their phones to do pro stuff. Like taking telephoto photos. Actually, I have no idea why Apple called these phones Pro. They're basically just nice updates to the iPhone XS, but I also think it's a waste of time to argue about names. iPhone 11 Pro Max is a bad name. But you know what, it's a great phone. And I think Apple might have done it. This is the best camera I've ever seen on a phone. Let's get into it. (calming music) The iPhone 11 Pro looks almost exactly like the iPhone XS from the front. It's a little heavier and thicker, but unless you're comparing them directly, you probably won't notice. I certainly didn't. You do get a much bigger battery in exchange for that extra size, which Apple says leads to a four-hour battery life increase on the regular Pro and a five-hour jump for the Pro Max. But it's surprisingly hard to check that number. I'll get into why in a minute. The big difference from the XS comes on the back where Apple says the rear glass is now stronger and it comes in this frosted matte finish. It also integrates a glossy camera bump with three cameras. The whole back and the bump is a single piece of glass that's milled out. The iPhone 11 is the reverse. It has a glossy back and the camera bump is matte. Now you know. I got a lot of questions about this matte finish and I think it's really nice, especially in this new midnight green color. It didn't really pick up any fingerprints, but it does seem a tiny bit more slippery than the gloss back of the previous phones and the iPhone 11. But I also think most people are just going to stick this thing in a case, so it doesn't seem like a huge issue. A lot of people also asked me if this matte finish will scratch easily, similar to the back of the Pixel 3, and so far the answer seems to be no. But we're going to have to keep an eye on it over time. Apple's finally relented and included an 18W USB-C fast charger with the Pro phones. So you get a USB-C to Lightning cable as well. Now Apple's USB-C charger is not the smallest or prettiest charger out there. But anything is better than the slow 5W brick it's been including for years, so I'll take it. So let's get into these cameras. Apple has a lot at stake here. Google and Samsung's cameras have been outperforming the iPhone for a couple of years now. And Chinese phone makers, in particular, have been racing each other to add an endless array of photography features. If you're in the US, you're probably locked into iMessage and no camera is good enough to make you switch. But Apple doesn't have that advantage in big markets like Europe and China. Everyone uses WhatsApp and WeChat, and switching from iOS to Android is much easier. So Apple's added a bunch of features that first appeared on Android phones. There are three cameras on the iPhone 11 Pro. The telephoto camera has the same basic sensor, but a faster f/2.O lens. The main camera has the same f/1.8 lens and a slightly better sensor. And there's the new super fun ultra-wide camera, which is basically twice as wide as the main lens and f/2.4. And the f/2.2 front camera is now 12 megapixels, up from seven, and has a wider 24mm focal length so it can pull out to a slightly wider angle in landscape for selfies. Apple's also updated its smart HDR processing system, which I was not very impressed with when I reviewed the iPhone XS and XR. The iPhone 11 cameras are an enormous improvement over the XS, and beat the Pixel and Galaxy Note 10 in most of our tests. This shot of Verge video producer, Mariya Abdulkaf, outside in bright sunlight shouldn't be too hard for any camera to do a good job with. And all these photos look basically fine. But zoom and do 100 percent crop and the improvement from the iPhone XS to the iPhone 11 main camera is stunning. The iPhone 11 is way sharper, with way more detail. I also think the iPhone 11 does a way better job than the Note 10 and it's a little better to my eye than the Pixel 3. This improvement is due to something Apple's calling semantic rendering. Basically, Smart HDR recognizes what's in the image and renders it appropriately. I asked Apple to break down how it works for me and it basically goes like this: First, the iPhone starts taking photos to a buffer the instant you open the camera app. So by the time you actually press the button, it's captured four underexposed frames and the photo you want. Then it grabs one overexposed frame. This is all basically the same as the iPhone XS and the Pixel 3, except the Pixel doesn't grab that overexposed frame. Second, Smart HDR and semantic rendering then start looking for things in the photos it understands. Faces, hair, the sky, things like that. Then it uses additional detail from the under and overexposed frames to selectively process the areas of the image it's recognized. Hair gets sharpened, but the sky doesn't. It just gets de-noised. Faces get relighted to make them look more even and the iPhone knows to sharpen up your facial hair. Smart HDR is also less aggressive in flattening the photos. Highlights and faces aren't corrected as aggressively as before because those highlights make photos look more natural. But other highlights and shadows are corrected to regain detail. Finally, the whole image is saved and you've got a photo. This all happens instantly every time you take a photo, which is a testament to how powerful Apple's A13 processor really is. Here's that final image we just took. You can see how the iPhone 11 preserves more detail than the Pixel and Note in the shadows and highlights, and just blows the iPhone XS away in sharpness. The improvements to Smart HDR are applicable across cameras. Here's a quick comparison of the ultra-wides in the 11 Pro and the Note 10. The Note 10 did a better job exposing the sky, but the 11 is just a much sharper photo with more detail. You can see the same thing with selfies. The XS Max has pulled up shadows so much that it looks a little hazy, while the iPhone 11 evenly pulls up shadows in Mariya's face, but preserves the contrast with the background. The Note 10 did all kinds of goofy skin smoothing and the Pixel 3 looks great, but it has less detail than the iPhone. Just look at her eyelashes. Now there are places where the iPhone 11 didn't win in our tests. The XS historically struggled with backlit subjects. And while the 11 is a definite improvement, this photo is really blue. And there's basically no detail in Mariya's face. I think the Note actually did the best overall job here. And I think the Pixel does the best job in low light, but the iPhone isn't bad. It's a lot better than the XS was last year. Apple's promised a new mode for these situations called Deep Fusion, which is supposed to ship later this year, but I wasn't able to test it. If it improves photos taken in this kind of light, then the iPhone will basically pull ahead in every situation. Apple also added a Night mode this year and it's really impressive. It preserves a ton more detail than the Pixel. It comes on automatically in the dark and suggests an exposure time, which you can tweak or turn off if you want. The Pixel photo here looks more dramatic, but look a little closer. The iPhone has preserved all of the detail in the brick and graffiti, which is basically gone in the Pixel shot. Both of these Night mode photos look pretty similar, but look at all the extra detail in the bushes in the iPhone shot. Same with this shot. You'd never know that fence was even there in the Pixel photo. I think the Pixel produces more dramatic-looking shots out of the camera, but I would rather have the extra detail from the iPhone. All in all, I think the iPhone 11 camera does better in bright light than the Pixel 3 and Note 10, and the Night mode beats the Pixel 3 more often than not. If this promised Deep Fusion update improves medium- to low-light performance as much as Apple says it will, the iPhone 11 will once again be the smartphone camera to beat. Apple's also made video on the iPhone 11 better with improved stabilization exposure and the ability to record 4K60 video from any of the three cameras. - But is it really that good? Let's put it to the test. Alright, so we're going to head out in New York City and we're going to test against the Note 10, the Pixel 3, and the XS to see who does video best. We started out at the water and immediately you can see the color differences between the cameras. The Pixel leaned into the warm tones, while Samsung muddied the mid tones. And the iPhone XS leaned into the blues of the sky, while the 11 Pro balanced the warm and cool tones out the most. With the subject closer to the lens the Note 10 kept the flowers the sharpest, while the iPhone XS blurred the background the most. Okay, we've got to test the audio on all these phones. I'll let you guys be the judge. Do I sound like the beautiful angel voice that I have, angelic voice? Of course, the answer is yes. But on these phones, who's to say? In low light, Apple isn't afraid of underexposing the blacks, whereas Samsung and Google will bring them up. Now the 11 Pro does do a lot more smoothing to compensate for all of the noise this typically creates. The front-facing camera on the iPhone 11 Pro did a great job of balancing my skin tone and just the exposure in general. Even against this large neon light source. But it wasn't as sharp as the Note 10. Now all these comparisons are great, but chances are you won't be recording on all of these phones side by side at the same exact time. So let's just talk about the iPhone 11 Pro. The front-facing camera now records in 4K and the slofie is exactly how you'd imagine it. You'll use it once and probably never touch it again. The video from the rear cameras, though, is really good. Like, in perfect light, it's honestly just impressive. Switching between lenses is pretty seamless in terms of color accuracy and exposure. And you can use the dial method or just tap the lenses on the screen to switch. Now you can't switch between lenses when you shoot in 4K60. So make sure you set 4K30 or lower if you're going to be doing that. The ultra-wide angle lens looks super cool even with the crazy distortion. But there is no image stabilization, which shouldn't be a problem because naturally, the wider the lens, the less need for that. Both the telephoto and wide lens keep your shot stable and pretty sharp for a sensor their size. The color is punchy and pretty saturated and in perfect lighting, you, too, can have that shot on iPhone look. But in low light, even the iPhone 11 Pro, when viewed on a screen larger than its own, succumbs to noisy blacks and haloed highlights. My big issue, though, why do I have to leave the camera app to change the frame rates? It's not intuitive and it's just time-consuming. Apple, just put it in the app. iPhones have always had great video, but the video on the 11 Pro is the best I've seen on a smartphone to date. And the gap is only getting bigger. Enough of me, back to Nilay. - The screen on the iPhone 11 Pro is a new OLED that Apple is calling the Super Retina XDR display. There's still a notch and Apple is still doing fancy, rounded corners and uniform bezels, which no one else in the industry has really managed to match. Those bezels are still pretty big, though, especially compared to something like the Galaxy Note 10. This is the third year of the basic iPhone X design and Apple's competitors haven't been sitting still in trying to beat it. The big upgrades to the screen are around brightness and power efficiency. Basically, the screen can get a lot brighter than before and it also uses up to 15 percent less power, according to Apple. Now in typical situations, Apple says the iPhone 11 Pro display can go up to 800 nits of brightness and that when you're watching HDR content, the highlights will peak at 1,200 nits. In normal situations, I don't think you're going to notice it. I've never had a problem looking at my iPhone XS display outside. But it's a huge and obvious improvement when you're watching HDR movies. I never really bought the idea that previous iPhone displays were Dolby Vision, but the iPhone 11 Pro display kind of pulls it off. It's hard to capture this on video, but it's just a lot brighter and punchier on the 11 Pro display compared to the XS. The Note 10 display definitely looks as bright, but the iPhone's color processing looks way more natural to me, especially with Apple's True Tone system turned on. Of course, Apple and Google are still in a fight over video codecs, so you can't watch any 4K or HDR content on the iPhone 11 Pro from YouTube. So this video is not in 4K if you're watching on an iPhone. Sorry about that. Apple has also updated the audio on the iPhone 11 and iPhone 11 Pro, with something they're calling spatial audio. It's basically a surround decoder. If you're watching a Netflix movie with Adobe 5.1 sound or game encoded in 7.1, you'll get virtual surround from the stereo speakers. The iPhone 11s also support Dolby Atmos, which is a little silly for stereo speakers, but it's there. There's also standard wide stereo support like last year for everything else. All in all, the iPhone speakers sound really loud and generally better than ever. There's no more 3D Touch on the iPhone 11 Pro, it's been replaced by what Apple calls Haptic Touch, which is basically just long pressing on things with haptic feedback. In most places, you won't really notice it's gone and some things are actually a little easier to figure out. Opening the camera from the lock screen feels the same to me. Rearranging icons on the home screen is a little simpler to figure out since there's a context menu that pops up now. Peeking at links in Safari is a little different in iOS 13, but it's also a little simpler. The only place I truly missed 3D Touch was the keyboard. You could press down anywhere on the keyboard to move the cursor around on the XS, but with Haptic Touch you can only press and hold on the space bar. Now, I never really realized how many times a day I used that one specific 3D Touch feature and I missed it. But if the trade-off is that there's more room inside the case for a bigger battery, I'm fine with it. Apple claims the iPhone 11 Pro lasts four hours longer than the iPhone XS, and that the iPhone 11 Pro Max lasts five hours longer than the XS Max. As I mentioned earlier, it's really hard to test those claims. Apple doesn't run a strict battery test that we can just repeat. Instead, it's getting that number by taking its huge data set of iPhone usage and applying it to a model of the new phone. So you'll notice that the only hard numbers Apple publishes are like hours of video playback. Simple tests of a single task, which isn't how anyone uses a phone. All that said, the battery life on the iPhone 11 Pro has been impressive. I've been using an 11 Pro Max as my primary phone for the past week, and it has consistently run for 12 to 14 hours on a single charge. And about 10 hours of screen-on time, off the charger, is reported in battery settings. That is a huge improvement over my XS Max, which generally runs for eight to nine hours The smaller 11 Pro has been just as impressive. That's the phone Becca used for her testing and it still had 50 percent of its battery left the morning after she shot her part of the review. It turns out a slightly thicker phone with a bigger battery was the right move after all. Inside the new iPhone 11 Pro, there's the new A13 Bionic processor which, as usual, benchmarks far above the competition. There's a lot of headroom here for things like AR, games, and high-end photo and video apps, but it's not like the A12 Bionic in the iPhone XS is slow. Most of this extra power will be useful towards the end of this phone's life, not the beginning. Face ID is a little bit faster and works at more angles, but it's not particularly dramatic, it just works a little bit better. I think this is the best kind of iterative update. It made a thing that was already pretty good a little bit better, and anything that makes securing your phone a little bit better is great. And most intriguingly, there's a new chip inside the iPhone 11, it's called the U1, which does precise positioning using an ultra wideband radio. Apple says the forthcoming iOS 13.1 update will allow you to just point the phone at another U1 device to put it at the top of your AirDrop list. But none of that works yet, so we'll just have to see. Obviously, the iPhone 11 Pro runs iOS 13 and I have to tell you, iOS 13 is pretty buggy. I saw all kinds of glitches and crashes during my week of testing, and iOS 13.1 is already in beta and scheduled for wide release by the end of this month. So it really seems like Apple just squeaked this thing out the door and is racing to fix bugs. I asked Apple about some of these glitches and they told me they're always fixing bugs and iPhone owners generally auto update. But if you're on the fence about upgrading, you might want to wait until some of these bug fix updates actually ship. Assuming all the bugs get fixed, the biggest new feature in iOS 13 is Dark Mode, which is very nice. But otherwise, this is a lot of tiny little updates. There's a swiping keyboard now. Reminders is a much better app. There are better photo editing tools and you can edit videos as well. Apple Maps keeps getting a tiny bit better every year. Siri's voice is slightly smoother. It's a lot of little things that add up into a big update, but if you handed this phone to someone using iOS 12, they might not even notice unless Dark Mode was on. The iPhone 11 Pro starts at $999 with 64GB of storage, which doesn't seem like quite enough for that price. And the 11 Pro Max starts at $1,099. You can spec the Pro Max all the way up to $1,449 with 512GB of storage, which means that you can pay an awful lot of money for this phone if you want to. If you're in the iOS ecosystem and it's time to upgrade, it's a pretty tough choice this year. The standard iPhone 11 offers almost everything you get from the Pro for $699. And I think most people should get the iPhone 11. You'll still get the improved main camera, the fun new ultra-wide lens, the A13 processor, and iOS 13, and all the rest. The extra money for the Pro basically buys you a far superior display, a telephoto camera, and improved LTE performance. And if you want a smaller phone, the iPhone 11 Pro is a little bit smaller than the iPhone 11, which seems a tiny bit unfair to people who want a smaller phone. The entire lineup is still pretty big, though. So if you're hoping for something to replace that aging iPhone SE, you're not going to love any of these options. I'm very picky about displays and cameras, so I'm going to get an iPhone 11 Pro. In fact, the cameras on the iPhone 11 and 11 Pro are so improved that I think they're worth the year-over-year upgrade from last year's models for the first time in a long time. Add in the improved battery life and the iPhone 11 Pro stands out as a major step forward from the XS and one of the best flagship phones of the year. Or it will be, when Apple fixes iOS 13. Hey everybody, this was obviously the iPhone 11 Pro review. We also reviewed the iPhone 11, that was a fun collab we did with Dieter Bohn. Watch both videos, they're both on the channel, and then let me know which of these phones you think you're going to buy or if you're waiting for the Pixel 4.\"\n",
    "doc = nlp(text)\n",
    "for token in doc:\n",
    "    #print(token)\n",
    "    if token.text.lower() in ['iphone']:\n",
    "        sent.add(token.sent)\n",
    "        #print(token.sent)\n",
    "#         print(\"{0}/{1}/{2} <--{3}-- {4}/{5}/{6}\".format(\n",
    "#             token.text,token.pos_,token.tag_,token.dep_,token.head.text,token.head.pos_,token.head.tag_))\n",
    "for s in sent:\n",
    "    print(s)"
   ]
  },
  {
   "cell_type": "code",
   "execution_count": 48,
   "metadata": {},
   "outputs": [
    {
     "name": "stdout",
     "output_type": "stream",
     "text": [
      "the XL 6.3 inch display 128 gigs of storage on this particular model the non XL version pixel for 5.7 inch display\n",
      "lenses white pixel for excel and the first thing you're gonna notice here a similar effect to the Panda version white on the back\n",
      "f HD Plus flexible OLED 444 PPI and then qhd+ so a higher pixel density on the XL at 5:37 DPI Gorilla Glass 5 on both\n",
      "a 90 degree field of view fixed focus the pixel 4 &amp; 4 XL are now exclusively face on lock no fingerprint on the back no fingerprint in the display\n",
      "but we have the standard size pixel for some specifications for each here\n",
      "Google hey Siri merely is often I think the biggest takeaway here is going to be Google moving towards 90 Hertz display for one and then secondary it's going to be camera performance eventually on final software what it's capable of from a computational perspective that's every single one on box as I mentioned this is just a first-look type of video I'll have a follow-up today's pixel day\n",
      "I mean with the pixel devices in general\n",
      "it's Google pixel for day and of course as you should know we've got every single version sitting in front of me\n"
     ]
    }
   ],
   "source": [
    "sent = set()\n",
    "text = \"it's Google pixel for day and of course as you should know we've got every single version sitting in front of me this every single version right well okay so it's the for excel in the three different colors they always got fancy names for the colors a clearly white oh so orange just black and so we have the Excel versions on the top and then below that you wouldn't know from the size of the box but we have the standard size pixel for some specifications for each here the XL 6.3 inch display 128 gigs of storage on this particular model the non XL version pixel for 5.7 inch display this is fresh it's hot off the presses so this video it's just it's an unboxing video and a first-look type of video just keep that in mind f HD Plus flexible OLED 444 PPI and then qhd+ so a higher pixel density on the XL at 5:37 DPI Gorilla Glass 5 on both oh they're gonna have 90 Hertz smooth displays you know that kind of quickie buttery what about a milkshake yeah is that smooth not bad the little guy is 2,800 milliamp hours at the big one 3700 both 18 watt fast charging and wireless charging and then of course a big thing near the cameras the brand new design on the back now they're like no we're gonna give you the versatility of multiple camera lenses white pixel for excel and the first thing you're gonna notice here a similar effect to the Panda version white on the back but then you get the black cutout for the cameras you get the black Ridge on the frame this is all metal and then the entire front of the device is black so it's a panda effect black and white I think a lot of people I think some people gonna like that mmm-hmm a USB type-c cable as well as a USB adapter and then this is the aforementioned power brick with the quick charge capability that's also orange this is for the for those that want to make more of a statement that's obviously a look I should also mention at this point it's a glass back it's a matte finish it's not a glossy finish oh yeah you're right it is glossy so on the black version the power switch is going to be this white color and on the other two versions actually and then on the orange phone it gets a little bit lighter in color that's yeah interesting choices here this is a very simple look to it but of course with any glossy finish you're opening yourself up to finger prints and so forth so you guys decide it looks fancy though this form factor is gonna be familiar to you it's a very practical utility more than anything easier to hold yes will he do ladies and gentlemen this is the small one I'll just place that there's your comparison right there big and small I'm gravitating towards this color there we go put that guy right on top I look down okay [Music] I notice straightaway here that the emphasis unlike a lot of other smartphone makers is not on screen to body ratio they're they're cool with having a forehead a chin on the device not overwhelmingly slim bezels a lot of that has to do with packing extra tech into the top forehead section of the device to NIR cameras dot projector flood emitter a camera as well with a 90 degree field of view fixed focus the pixel 4 &amp; 4 XL are now exclusively face on lock no fingerprint on the back no fingerprint in the display face unlock is enough and I guess they believe that's the future going forward with this degree of technology being baked in and giving up so much in the screen to body ratio department they've got to be cool with it and think that's the way to go so let's go ahead and give it a give it a test I'm going to scan my face in here he's locked phone unlocked phone locked phone unlocked phone I mean you just have to commit more space to have the extra tech built-in but you get you get stuff like the ability to illuminate the face in darker environments which if face unlock is going to be the only unlock available exclusively you kind of need that we can load up the front-facing camera real quick now you get the extra camera on the back and the singular camera on the front so it's a it's a switch obviously you have portrait you have night sight built-in all right this is a fresh device it's possibly not even final software number two all right so within the options of course you can configure the amount of processing that takes place this is with some of the natural face stuff turned off we have an abundance of boxes here so let's give that a quick shot as you can see here you get the wider look or you can move in a little bit closer let's try a 4x zoom I mean it's interesting because in the preview you can actually see some of the noise and stuff that you would traditionally have with a digitally zoomed image but then in the finished product the software runs such a process on it it eliminates all of that you can see a couple of cutouts on the bottom presumably for your speaker and microphone as well as your type-c connector interestingly in the spec sheet it lists a nano-sim or an e sim configurability alright so since we have the two displays stacked up I think that's gonna be an interesting characteristic for a lot of people mostly because they've added 90 Hertz to it now so what that means for people that are unfamiliar is you get this really twitchy kind of input really responsive field in fact it makes the entire phone feel faster alright maybe we should play a video let's just compare the speakers on the two units here I've got one of these surface laptop threes coming in well you didn't know that Jack caught you off-guard you know that a significant amount of sound is coming out of two different ports substantial sound from each area it's more volume than you might be used to out of the both of them balanced let's compare it to the little phone it all sounds very good on paper of course the marketplace will wait but talking a lot recently about trying to nail down the perfect laptop it's a real mission of mine so the larger than usual forehead there's also sensors in there capable of motion tracking tracking of a hand gestures Google's calling it motion sense because this software is early I can't showcase it to you at the moment but it's another trade-off I mean you're packing in some extra hardware for the potential to interact with your device without touching it beyond just assistant in your voice now potentially I'm scrolling and swiping without even touching it on the final version of the software it's also important to know I mean with the pixel devices in general it means you're getting the latest software that means you're getting features first including the latest when it comes to assistant ok Google what is unbox therapy and you can see the way that its installed the way that it's implemented is different than it used to be a lot happens now right within the main screen so you don't jump over to a different app in order to engage it and of course the advanced version of that is the continuation of conversation which is the initial instruction and then the deeper dive with assistant understanding context so you want to say okay Google hey Siri merely is often I think the biggest takeaway here is going to be Google moving towards 90 Hertz display for one and then secondary it's going to be camera performance eventually on final software what it's capable of from a computational perspective that's every single one on box as I mentioned this is just a first-look type of video I'll have a follow-up today's pixel day it just came out so you have two clearly white excel oh I should also mention that oh so orange is apparently limited edition so if you're interested I don't know what you guys do line up get your order in go black version which is the only glossy one of the bunch if that's what you're into polished fancy type of lifestyle you can go for that look as well I think I'm leaning towards this one right\"\n",
    "doc = nlp(text)\n",
    "for token in doc:\n",
    "    if token.text.lower() in ['pixel']:\n",
    "        sent.add(token.sent)\n",
    "for s in sent:\n",
    "    print(s)"
   ]
  },
  {
   "cell_type": "code",
   "execution_count": 57,
   "metadata": {},
   "outputs": [
    {
     "name": "stdout",
     "output_type": "stream",
     "text": [
      "The iPhone 11 Pro looks almost exactly like the iPhone XS from the front.\n",
      "iPhone 11 Pro Max is a bad name.\n",
      "Of course, Apple and Google are still in a fight over video codecs, so you can't watch any 4K or HDR content on the iPhone 11 Pro from YouTube.\n",
      "I never really bought the idea that previous iPhone displays were Dolby Vision, but the iPhone 11 Pro display kind of pulls it off.\n",
      "The standard iPhone 11 offers almost everything you get from the Pro for $699.\n",
      "The iPhone 11 is the reverse.\n",
      "Inside the new iPhone 11 Pro, there's the new A13 Bionic processor which, as usual, benchmarks far above the competition.\n",
      "The XS Max has pulled up shadows so much that it looks a little hazy, while the iPhone 11 evenly pulls up shadows in Mariya's face, but preserves the contrast with the background.\n",
      "If it improves photos taken in this kind of light, then the iPhone will basically pull ahead in every situation.\n",
      "Instead, it's getting that number by taking its huge data set of iPhone usage and applying it to a model of the new phone.\n",
      "The iPhone 11s also support Dolby Atmos, which is a little silly for stereo speakers, but it's there.\n",
      "Apple claims the iPhone 11 Pro lasts four hours longer than the iPhone XS, and that the iPhone 11 Pro Max lasts five hours longer than the XS Max.\n",
      "All in all, the iPhone speakers sound really loud and generally better than ever.\n",
      "In fact, the cameras on the iPhone 11 and 11 Pro are so improved that I think they're worth the year-over-year upgrade from last year's models for the first time in a long time.\n",
      "I've never had a problem looking at my iPhone XS display outside.\n",
      "The color is punchy and pretty saturated and in perfect lighting, you, too, can have that shot on iPhone look.\n",
      "But in low light, even the iPhone 11 Pro, when viewed on a screen larger than its own, succumbs to noisy blacks and haloed highlights.\n",
      "There are three cameras on the iPhone 11 Pro.\n",
      "And if you want a smaller phone, the iPhone 11 Pro is a little bit smaller than the iPhone 11, which seems a tiny bit unfair to people who want a smaller phone.\n",
      "The iPhone 11 is way sharper, with way more detail.\n",
      "This is all basically the same as the iPhone XS and the Pixel 3, except the Pixel doesn't grab that overexposed frame.\n",
      "You can see how the iPhone 11 preserves more detail than the Pixel and Note in the shadows and highlights, and just blows the iPhone XS away in sharpness.\n",
      "There's no more 3D Touch on the iPhone 11 Pro, it's been replaced by what Apple calls Haptic Touch, which is basically just long pressing on things with haptic feedback.\n",
      "So this video is not in 4K if you're watching on an iPhone.\n",
      "I'm very picky about displays and cameras, so I'm going to get an iPhone 11 Pro.\n",
      "The iPhone 11, the iPhone 11 Pro, and the iPhone 11 Pro Max.\n",
      "We also reviewed the iPhone 11, that was a fun collab we did with Dieter Bohn.\n",
      "- Alright, it's iPhone time.\n",
      "The front-facing camera on the iPhone 11 Pro did a great job of balancing my skin tone and just the exposure in general.\n",
      "The Note 10 did all kinds of goofy skin smoothing and the Pixel 3 looks great, but it has less detail than the iPhone.\n",
      "If this promised Deep Fusion update improves medium- to low-light performance as much as Apple says it will, the iPhone 11 will once again be the smartphone camera to beat.\n",
      "With the subject closer to the lens the Note 10 kept the flowers the sharpest, while the iPhone XS blurred the background the most.\n",
      "This is the third year of the basic iPhone X design and Apple's competitors haven't been sitting still in trying to beat it.\n",
      "They're basically just nice updates to the iPhone XS, but I also think it's a waste of time to argue about names.\n",
      "Faces get relighted to make them look more even and the iPhone knows to sharpen up your facial hair.\n",
      "Obviously, the iPhone 11 Pro runs iOS 13\n",
      "So if you're hoping for something to replace that aging iPhone SE, you're not going to love any of these options.\n",
      "There's a lot of headroom here for things like AR, games, and high-end photo and video apps, but it's not like the A12 Bionic in the iPhone XS is slow.\n",
      "Now there are places where the iPhone 11 didn't win in our tests.\n",
      "All in all, I think the iPhone 11 camera does better in bright light than the Pixel 3 and Note 10, and the Night mode beats the Pixel 3 more often than not.\n",
      "Hey everybody, this was obviously the iPhone 11 Pro review.\n",
      "And I think the Pixel does the best job in low light, but the iPhone isn't bad.\n",
      "But zoom and do 100 percent crop and the improvement from the iPhone XS to the iPhone 11 main camera is stunning.\n",
      "The screen on the iPhone 11 Pro is a new OLED that Apple is calling the Super Retina XDR display.\n",
      "I also think the iPhone 11 does a way better job than the Note 10 and it's a little better to my eye than the Pixel 3.\n",
      "First, the iPhone starts taking photos to a buffer the instant you open the camera app.\n",
      "Apple has also updated the audio on the iPhone 11 and iPhone 11 Pro, with something they're calling spatial audio.\n",
      "And I think most people should get the iPhone 11.\n",
      "Now, I honestly think the iPhone 11 is the phone most people in the iOS ecosystem should get if they're upgrading.\n",
      "Now in typical situations, Apple says the iPhone 11 Pro display can go up to 800 nits of brightness and that when you're watching HDR content, the highlights will peak at 1,200 nits.\n",
      "So let's just talk about the iPhone 11 Pro.\n",
      "The iPhone 11 Pro starts at $999 with 64GB of storage, which doesn't seem like quite enough for that price.\n",
      "Add in the improved battery life and the iPhone 11 Pro stands out as a major step forward from the XS and one of the best flagship phones of the year.\n",
      "Both of these Night mode photos look pretty similar, but look at all the extra detail in the bushes in the iPhone shot.\n",
      "All that said, the battery life on the iPhone 11 Pro has been impressive.\n",
      "And most intriguingly, there's a new chip inside the iPhone 11, it's called the U1, which does precise positioning using an ultra wideband radio.\n",
      "Apple's also made video on the iPhone 11 better with improved stabilization exposure and the ability to record 4K60 video from any of the three cameras.\n",
      "Google and Samsung's cameras have been outperforming the iPhone for a couple of years now.\n",
      "Apple's also updated its smart HDR processing system, which I was not very impressed with when I reviewed the iPhone XS and XR.\n",
      "It didn't really pick up any fingerprints, but it does seem a tiny bit more slippery than the gloss back of the previous phones and the iPhone 11.\n",
      "I asked Apple about some of these glitches and they told me they're always fixing bugs and iPhone owners generally auto update.\n",
      "And the iPhone XS leaned into the blues of the sky, while the 11 Pro balanced the warm and cool tones out the most.\n",
      "The iPhone 11 cameras are an enormous improvement over the XS, and beat the Pixel and Galaxy Note 10 in most of our tests.\n",
      "I think the Pixel produces more dramatic-looking shots out of the camera, but I would rather have the extra detail from the iPhone.\n",
      "The iPhone has preserved all of the detail in the brick and graffiti, which is basically gone in the Pixel shot.\n",
      "The Note 10 display definitely looks as bright, but the iPhone's color processing looks way more natural to me, especially with Apple's True Tone system turned on.\n"
     ]
    }
   ],
   "source": [
    "list_sentences = list(sent)\n",
    "for sen in list_sentences:\n",
    "    print(sen)"
   ]
  },
  {
   "cell_type": "code",
   "execution_count": 63,
   "metadata": {},
   "outputs": [
    {
     "name": "stdout",
     "output_type": "stream",
     "text": [
      "[In, fact, ,, the, cameras, on, the, iPhone, 11, and, 11, Pro, are, so, improved, that, I, think, they, re, worth, the, year, -, over, -, year, upgrade, from, last, years, models, for, the, first, time, in, a, long, time, .]\n"
     ]
    }
   ],
   "source": [
    "import statement_extractor\n",
    "se = statement_extractor.StatementExtracter()\n",
    "statements = se.is_statements('In fact, the cameras on the iPhone 11 and 11 Pro are so improved that I think theyre worth the year-over-year upgrade from last years models for the first time in a long time.')\n",
    "\n",
    "# list_sentences = list(sent)\n",
    "# for sen in list_sentences:\n",
    "#     statements = se.is_statements(sen)\n",
    "#     print(statements)"
   ]
  },
  {
   "cell_type": "code",
   "execution_count": null,
   "metadata": {
    "collapsed": true
   },
   "outputs": [],
   "source": [
    "1. Add punctuations\n",
    "2. find sentences with the product \n",
    "3. run the is/are/has extractor get the sentences and run the bilstm/pointer generator for summary on sentences\n",
    "4. "
   ]
  }
 ],
 "metadata": {
  "colab": {
   "collapsed_sections": [],
   "name": "How to build own text summarizer using deep learning.ipynb",
   "provenance": [],
   "version": "0.3.2"
  },
  "kernelspec": {
   "display_name": "Python 3",
   "language": "python",
   "name": "python3"
  },
  "language_info": {
   "codemirror_mode": {
    "name": "ipython",
    "version": 3
   },
   "file_extension": ".py",
   "mimetype": "text/x-python",
   "name": "python",
   "nbconvert_exporter": "python",
   "pygments_lexer": "ipython3",
   "version": "3.6.3"
  }
 },
 "nbformat": 4,
 "nbformat_minor": 1
}
