{
 "cells": [
  {
   "cell_type": "code",
   "execution_count": 1,
   "metadata": {},
   "outputs": [],
   "source": [
    "import numpy as np\n",
    "import pandas as pd\n",
    "import json\n"
   ]
  },
  {
   "cell_type": "code",
   "execution_count": 24,
   "metadata": {},
   "outputs": [
    {
     "data": {
      "text/html": [
       "<div>\n",
       "<style scoped>\n",
       "    .dataframe tbody tr th:only-of-type {\n",
       "        vertical-align: middle;\n",
       "    }\n",
       "\n",
       "    .dataframe tbody tr th {\n",
       "        vertical-align: top;\n",
       "    }\n",
       "\n",
       "    .dataframe thead th {\n",
       "        text-align: right;\n",
       "    }\n",
       "</style>\n",
       "<table border=\"1\" class=\"dataframe\">\n",
       "  <thead>\n",
       "    <tr style=\"text-align: right;\">\n",
       "      <th></th>\n",
       "      <th>overall</th>\n",
       "      <th>verified</th>\n",
       "      <th>reviewTime</th>\n",
       "      <th>reviewerID</th>\n",
       "      <th>asin</th>\n",
       "      <th>style</th>\n",
       "      <th>reviewerName</th>\n",
       "      <th>reviewText</th>\n",
       "      <th>summary</th>\n",
       "      <th>unixReviewTime</th>\n",
       "      <th>vote</th>\n",
       "      <th>image</th>\n",
       "    </tr>\n",
       "  </thead>\n",
       "  <tbody>\n",
       "    <tr>\n",
       "      <td>0</td>\n",
       "      <td>5</td>\n",
       "      <td>True</td>\n",
       "      <td>07 17, 2002</td>\n",
       "      <td>A1N070NS9CJQ2I</td>\n",
       "      <td>0060009810</td>\n",
       "      <td>{'Format:': ' Hardcover'}</td>\n",
       "      <td>Teri Adams</td>\n",
       "      <td>This was the first time I read Garcia-Aguilera...</td>\n",
       "      <td>Hit The Spot!</td>\n",
       "      <td>1026864000</td>\n",
       "      <td>NaN</td>\n",
       "      <td>NaN</td>\n",
       "    </tr>\n",
       "    <tr>\n",
       "      <td>1</td>\n",
       "      <td>5</td>\n",
       "      <td>False</td>\n",
       "      <td>07 6, 2002</td>\n",
       "      <td>A3P0KRKOBQK1KN</td>\n",
       "      <td>0060009810</td>\n",
       "      <td>{'Format:': ' Hardcover'}</td>\n",
       "      <td>Willa C.</td>\n",
       "      <td>As with all of Ms. Garcia-Aguilera's books, I ...</td>\n",
       "      <td>one hot summer is HOT HOT HOT!</td>\n",
       "      <td>1025913600</td>\n",
       "      <td>NaN</td>\n",
       "      <td>NaN</td>\n",
       "    </tr>\n",
       "  </tbody>\n",
       "</table>\n",
       "</div>"
      ],
      "text/plain": [
       "   overall  verified   reviewTime      reviewerID        asin  \\\n",
       "0        5      True  07 17, 2002  A1N070NS9CJQ2I  0060009810   \n",
       "1        5     False   07 6, 2002  A3P0KRKOBQK1KN  0060009810   \n",
       "\n",
       "                       style reviewerName  \\\n",
       "0  {'Format:': ' Hardcover'}   Teri Adams   \n",
       "1  {'Format:': ' Hardcover'}     Willa C.   \n",
       "\n",
       "                                          reviewText  \\\n",
       "0  This was the first time I read Garcia-Aguilera...   \n",
       "1  As with all of Ms. Garcia-Aguilera's books, I ...   \n",
       "\n",
       "                          summary  unixReviewTime vote image  \n",
       "0                   Hit The Spot!      1026864000  NaN   NaN  \n",
       "1  one hot summer is HOT HOT HOT!      1025913600  NaN   NaN  "
      ]
     },
     "execution_count": 24,
     "metadata": {},
     "output_type": "execute_result"
    }
   ],
   "source": [
    "electronics = pd.read_json (r'Electronics.json', lines=True)\n",
    "electronics.head(2)"
   ]
  },
  {
   "cell_type": "code",
   "execution_count": 25,
   "metadata": {},
   "outputs": [
    {
     "data": {
      "text/plain": [
       "(20994353, 12)"
      ]
     },
     "execution_count": 25,
     "metadata": {},
     "output_type": "execute_result"
    }
   ],
   "source": [
    "electronics.shape"
   ]
  },
  {
   "cell_type": "code",
   "execution_count": 26,
   "metadata": {},
   "outputs": [
    {
     "data": {
      "text/plain": [
       "overall                  0\n",
       "verified                 0\n",
       "reviewTime               0\n",
       "reviewerID               0\n",
       "asin                     0\n",
       "style             10497616\n",
       "reviewerName          1713\n",
       "reviewText            9684\n",
       "summary               4754\n",
       "unixReviewTime           0\n",
       "vote              18300976\n",
       "image             20645630\n",
       "dtype: int64"
      ]
     },
     "execution_count": 26,
     "metadata": {},
     "output_type": "execute_result"
    }
   ],
   "source": [
    "electronics.isnull().sum()"
   ]
  },
  {
   "cell_type": "code",
   "execution_count": 27,
   "metadata": {},
   "outputs": [],
   "source": [
    "#only dropping empty reviews\n",
    "electronics = electronics.drop(columns=['reviewText'])"
   ]
  },
  {
   "cell_type": "code",
   "execution_count": 28,
   "metadata": {},
   "outputs": [
    {
     "data": {
      "text/plain": [
       "5    12602917\n",
       "4     3306379\n",
       "1     2415650\n",
       "3     1529818\n",
       "2     1139589\n",
       "Name: overall, dtype: int64"
      ]
     },
     "execution_count": 28,
     "metadata": {},
     "output_type": "execute_result"
    }
   ],
   "source": [
    "# number of stars for product\n",
    "electronics.overall.value_counts()"
   ]
  },
  {
   "cell_type": "code",
   "execution_count": 29,
   "metadata": {},
   "outputs": [
    {
     "data": {
      "text/plain": [
       "True     18597092\n",
       "False     2397261\n",
       "Name: verified, dtype: int64"
      ]
     },
     "execution_count": 29,
     "metadata": {},
     "output_type": "execute_result"
    }
   ],
   "source": [
    "# verified reviews\n",
    "electronics.verified.value_counts()"
   ]
  },
  {
   "cell_type": "code",
   "execution_count": 31,
   "metadata": {},
   "outputs": [],
   "source": [
    "electronics['unixReviewTime'] = pd.to_datetime(electronics['unixReviewTime'],unit='s')"
   ]
  },
  {
   "cell_type": "code",
   "execution_count": 32,
   "metadata": {},
   "outputs": [
    {
     "data": {
      "text/plain": [
       "2016-03-01    25244\n",
       "2015-01-03    21713\n",
       "2016-01-20    21632\n",
       "2014-12-29    19346\n",
       "2015-01-05    18982\n",
       "              ...  \n",
       "1999-11-07        1\n",
       "1999-08-16        1\n",
       "1999-09-10        1\n",
       "1999-07-10        1\n",
       "1999-08-06        1\n",
       "Name: unixReviewTime, Length: 7015, dtype: int64"
      ]
     },
     "execution_count": 32,
     "metadata": {},
     "output_type": "execute_result"
    }
   ],
   "source": [
    "electronics.unixReviewTime.value_counts()"
   ]
  },
  {
   "cell_type": "code",
   "execution_count": 38,
   "metadata": {},
   "outputs": [
    {
     "name": "stdout",
     "output_type": "stream",
     "text": [
      "2018 reviews:  (1492626, 11)\n",
      "2017 reviews:  (3158123, 11)\n",
      "2016 reviews:  (4446409, 11)\n",
      "2015 reviews:  (4212673, 11)\n"
     ]
    }
   ],
   "source": [
    "#filter for most recent years of reviews\n",
    "\n",
    "_2018 = electronics[electronics['unixReviewTime'].dt.year == 2018]\n",
    "print(\"2018 reviews: \", _2018.shape)\n",
    "\n",
    "_2017 = electronics[electronics['unixReviewTime'].dt.year == 2017]\n",
    "print(\"2017 reviews: \", _2017.shape)\n",
    "\n",
    "_2016 = electronics[electronics['unixReviewTime'].dt.year == 2016]\n",
    "print(\"2016 reviews: \", _2016.shape)\n",
    "\n",
    "_2015 = electronics[electronics['unixReviewTime'].dt.year == 2015]\n",
    "print(\"2015 reviews: \", _2015.shape)"
   ]
  },
  {
   "cell_type": "code",
   "execution_count": 34,
   "metadata": {},
   "outputs": [
    {
     "name": "stdout",
     "output_type": "stream",
     "text": [
      "2019 reviews:  (0, 11)\n"
     ]
    }
   ],
   "source": [
    "# curious if there were any 2019's\n",
    "_2019 = electronics[electronics['unixReviewTime'].dt.year == 2019]\n",
    "print(\"2019 reviews: \", _2019.shape)"
   ]
  },
  {
   "cell_type": "code",
   "execution_count": 40,
   "metadata": {},
   "outputs": [
    {
     "data": {
      "text/plain": [
       "(13309831, 11)"
      ]
     },
     "execution_count": 40,
     "metadata": {},
     "output_type": "execute_result"
    }
   ],
   "source": [
    "# make master of only years 2015 - 2018\n",
    "frames = [_2015,_2016,_2017,_2018]\n",
    "electronic_2015_2019 = pd.concat(frames)\n",
    "\n",
    "electronic_2015_2019.shape"
   ]
  },
  {
   "cell_type": "code",
   "execution_count": 41,
   "metadata": {},
   "outputs": [
    {
     "name": "stdout",
     "output_type": "stream",
     "text": [
      "2018 reviews:  (1492626, 11)\n",
      "2017 reviews:  (3158123, 11)\n",
      "2016 reviews:  (4446409, 11)\n",
      "2015 reviews:  (4212673, 11)\n"
     ]
    }
   ],
   "source": [
    "#double-check that it worked\n",
    "x_2018 = electronic_2015_2019[electronic_2015_2019['unixReviewTime'].dt.year == 2018]\n",
    "print(\"2018 reviews: \", x_2018.shape)\n",
    "\n",
    "x_2017 = electronic_2015_2019[electronic_2015_2019['unixReviewTime'].dt.year == 2017]\n",
    "print(\"2017 reviews: \", x_2017.shape)\n",
    "\n",
    "x_2016 = electronic_2015_2019[electronic_2015_2019['unixReviewTime'].dt.year == 2016]\n",
    "print(\"2016 reviews: \", x_2016.shape)\n",
    "\n",
    "x_2015 = electronic_2015_2019[electronic_2015_2019['unixReviewTime'].dt.year == 2015]\n",
    "print(\"2015 reviews: \", x_2015.shape)"
   ]
  },
  {
   "cell_type": "code",
   "execution_count": 42,
   "metadata": {},
   "outputs": [],
   "source": [
    "#save subset file so we don't need to work with GB\n",
    "electronic_2015_2019.to_json(r'Electronics_2015_2019.json')"
   ]
  },
  {
   "cell_type": "code",
   "execution_count": null,
   "metadata": {},
   "outputs": [],
   "source": []
  }
 ],
 "metadata": {
  "kernelspec": {
   "display_name": "Python 3",
   "language": "python",
   "name": "python3"
  },
  "language_info": {
   "codemirror_mode": {
    "name": "ipython",
    "version": 3
   },
   "file_extension": ".py",
   "mimetype": "text/x-python",
   "name": "python",
   "nbconvert_exporter": "python",
   "pygments_lexer": "ipython3",
   "version": "3.7.4"
  }
 },
 "nbformat": 4,
 "nbformat_minor": 2
}
