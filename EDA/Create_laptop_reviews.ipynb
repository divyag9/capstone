{
 "cells": [
  {
   "cell_type": "code",
   "execution_count": 3,
   "metadata": {},
   "outputs": [],
   "source": [
    "import numpy as np\n",
    "import pandas as pd"
   ]
  },
  {
   "cell_type": "code",
   "execution_count": 4,
   "metadata": {},
   "outputs": [
    {
     "data": {
      "text/html": [
       "<div>\n",
       "<style scoped>\n",
       "    .dataframe tbody tr th:only-of-type {\n",
       "        vertical-align: middle;\n",
       "    }\n",
       "\n",
       "    .dataframe tbody tr th {\n",
       "        vertical-align: top;\n",
       "    }\n",
       "\n",
       "    .dataframe thead th {\n",
       "        text-align: right;\n",
       "    }\n",
       "</style>\n",
       "<table border=\"1\" class=\"dataframe\">\n",
       "  <thead>\n",
       "    <tr style=\"text-align: right;\">\n",
       "      <th></th>\n",
       "      <th>Laptops</th>\n",
       "    </tr>\n",
       "  </thead>\n",
       "  <tbody>\n",
       "    <tr>\n",
       "      <td>0</td>\n",
       "      <td>9984098060</td>\n",
       "    </tr>\n",
       "    <tr>\n",
       "      <td>1</td>\n",
       "      <td>B00005LE4P</td>\n",
       "    </tr>\n",
       "  </tbody>\n",
       "</table>\n",
       "</div>"
      ],
      "text/plain": [
       "      Laptops\n",
       "0  9984098060\n",
       "1  B00005LE4P"
      ]
     },
     "execution_count": 4,
     "metadata": {},
     "output_type": "execute_result"
    }
   ],
   "source": [
    "laptop_asin = pd.read_csv(r'laptop_prod_asin.csv')\n",
    "laptop_asin.head(2)"
   ]
  },
  {
   "cell_type": "code",
   "execution_count": 5,
   "metadata": {},
   "outputs": [
    {
     "data": {
      "text/plain": [
       "(10820, 1)"
      ]
     },
     "execution_count": 5,
     "metadata": {},
     "output_type": "execute_result"
    }
   ],
   "source": [
    "laptop_asin.shape"
   ]
  },
  {
   "cell_type": "code",
   "execution_count": 6,
   "metadata": {},
   "outputs": [
    {
     "name": "stdout",
     "output_type": "stream",
     "text": [
      "(13309831, 5)\n",
      "   Unnamed: 0  overall  verified        asin  \\\n",
      "0         213        5      True  0380709473   \n",
      "1         214        5      True  0380709473   \n",
      "\n",
      "                                          reviewText  \n",
      "0  The Donald Lam/Bertha Cool books are delightfu...  \n",
      "1  The usual outstanding Erle Stanley Gardner.  O...  \n"
     ]
    }
   ],
   "source": [
    "reviews = pd.read_csv(r'ElectronicProducts_2015_2019.csv')\n",
    "print(reviews.shape)\n",
    "print(reviews.head(2))"
   ]
  },
  {
   "cell_type": "code",
   "execution_count": 7,
   "metadata": {},
   "outputs": [
    {
     "name": "stdout",
     "output_type": "stream",
     "text": [
      "        Unnamed: 0  overall  verified        asin  \\\n",
      "71977       491901        1      True  B0000U98MQ   \n",
      "124510      869917        5      True  B000979258   \n",
      "124511      869918        4      True  B000979258   \n",
      "124512      869919        2      True  B000979258   \n",
      "124513      869920        5      True  B000979258   \n",
      "\n",
      "                                               reviewText  \n",
      "71977   This computer was in pretty bad shape (dirty, ...  \n",
      "124510  I have bought several computers off of ebay. T...  \n",
      "124511             Does what I need(Internet and e-mail).  \n",
      "124512  The items description said it had a dvd burner...  \n",
      "124513                                  excellent product  \n"
     ]
    }
   ],
   "source": [
    "_laptop_reviews = reviews[reviews.set_index(['asin']).index.isin(laptop_asin.set_index(['Laptops']).index)]\n",
    "print(_laptop_reviews.head())"
   ]
  },
  {
   "cell_type": "code",
   "execution_count": 8,
   "metadata": {},
   "outputs": [
    {
     "data": {
      "text/plain": [
       "(138600, 5)"
      ]
     },
     "execution_count": 8,
     "metadata": {},
     "output_type": "execute_result"
    }
   ],
   "source": [
    "_laptop_reviews.shape"
   ]
  },
  {
   "cell_type": "code",
   "execution_count": 9,
   "metadata": {},
   "outputs": [
    {
     "data": {
      "text/plain": [
       "B00NSHLUBU    2806\n",
       "B00MMLV7VQ    2230\n",
       "B011KFQASE    1979\n",
       "B00L49X8E6    1726\n",
       "B019G7VPTC    1683\n",
       "              ... \n",
       "B01EIM95GA       1\n",
       "B0043QSOV4       1\n",
       "B01BYB2Q4G       1\n",
       "B00TGRXGFE       1\n",
       "B00GRGAE16       1\n",
       "Name: asin, Length: 6893, dtype: int64"
      ]
     },
     "execution_count": 9,
     "metadata": {},
     "output_type": "execute_result"
    }
   ],
   "source": [
    "_laptop_reviews.asin.value_counts()"
   ]
  },
  {
   "cell_type": "code",
   "execution_count": 10,
   "metadata": {},
   "outputs": [],
   "source": [
    "_laptop_reviews.to_csv(r'laptop_reviews.csv')"
   ]
  },
  {
   "cell_type": "code",
   "execution_count": null,
   "metadata": {},
   "outputs": [],
   "source": []
  },
  {
   "cell_type": "code",
   "execution_count": null,
   "metadata": {},
   "outputs": [],
   "source": []
  },
  {
   "cell_type": "code",
   "execution_count": null,
   "metadata": {},
   "outputs": [],
   "source": []
  }
 ],
 "metadata": {
  "kernelspec": {
   "display_name": "Python 3",
   "language": "python",
   "name": "python3"
  },
  "language_info": {
   "codemirror_mode": {
    "name": "ipython",
    "version": 3
   },
   "file_extension": ".py",
   "mimetype": "text/x-python",
   "name": "python",
   "nbconvert_exporter": "python",
   "pygments_lexer": "ipython3",
   "version": "3.7.4"
  }
 },
 "nbformat": 4,
 "nbformat_minor": 2
}
