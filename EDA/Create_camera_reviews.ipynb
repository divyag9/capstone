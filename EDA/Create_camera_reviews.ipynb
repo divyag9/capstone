{
 "cells": [
  {
   "cell_type": "code",
   "execution_count": 1,
   "metadata": {},
   "outputs": [],
   "source": [
    "import numpy as np\n",
    "import pandas as pd"
   ]
  },
  {
   "cell_type": "code",
   "execution_count": 2,
   "metadata": {},
   "outputs": [
    {
     "data": {
      "text/html": [
       "<div>\n",
       "<style scoped>\n",
       "    .dataframe tbody tr th:only-of-type {\n",
       "        vertical-align: middle;\n",
       "    }\n",
       "\n",
       "    .dataframe tbody tr th {\n",
       "        vertical-align: top;\n",
       "    }\n",
       "\n",
       "    .dataframe thead th {\n",
       "        text-align: right;\n",
       "    }\n",
       "</style>\n",
       "<table border=\"1\" class=\"dataframe\">\n",
       "  <thead>\n",
       "    <tr style=\"text-align: right;\">\n",
       "      <th></th>\n",
       "      <th>Cameras</th>\n",
       "    </tr>\n",
       "  </thead>\n",
       "  <tbody>\n",
       "    <tr>\n",
       "      <td>0</td>\n",
       "      <td>B000WHKT34</td>\n",
       "    </tr>\n",
       "    <tr>\n",
       "      <td>1</td>\n",
       "      <td>B001AMOIN2</td>\n",
       "    </tr>\n",
       "  </tbody>\n",
       "</table>\n",
       "</div>"
      ],
      "text/plain": [
       "      Cameras\n",
       "0  B000WHKT34\n",
       "1  B001AMOIN2"
      ]
     },
     "execution_count": 2,
     "metadata": {},
     "output_type": "execute_result"
    }
   ],
   "source": [
    "camera_asin = pd.read_csv(r'cameras_prod_asin.csv')\n",
    "camera_asin.head(2)"
   ]
  },
  {
   "cell_type": "code",
   "execution_count": 13,
   "metadata": {},
   "outputs": [
    {
     "data": {
      "text/plain": [
       "(68, 1)"
      ]
     },
     "execution_count": 13,
     "metadata": {},
     "output_type": "execute_result"
    }
   ],
   "source": [
    "camera_asin.shape"
   ]
  },
  {
   "cell_type": "code",
   "execution_count": 9,
   "metadata": {},
   "outputs": [
    {
     "name": "stdout",
     "output_type": "stream",
     "text": [
      "(13309831, 5)\n",
      "   Unnamed: 0  overall  verified        asin  \\\n",
      "0         213        5      True  0380709473   \n",
      "1         214        5      True  0380709473   \n",
      "\n",
      "                                          reviewText  \n",
      "0  The Donald Lam/Bertha Cool books are delightfu...  \n",
      "1  The usual outstanding Erle Stanley Gardner.  O...  \n"
     ]
    }
   ],
   "source": [
    "reviews = pd.read_csv(r'ElectronicProducts_2015_2019.csv')\n",
    "print(reviews.shape)\n",
    "print(reviews.head(2))"
   ]
  },
  {
   "cell_type": "code",
   "execution_count": 10,
   "metadata": {},
   "outputs": [
    {
     "name": "stdout",
     "output_type": "stream",
     "text": [
      "         Unnamed: 0  overall  verified        asin  \\\n",
      "2753165    12473447        3     False  B00N462AQE   \n",
      "2753166    12473448        5      True  B00N462AQE   \n",
      "2753167    12473449        4      True  B00N462AQE   \n",
      "2753168    12473450        5      True  B00N462AQE   \n",
      "2753169    12473451        5      True  B00N462AQE   \n",
      "\n",
      "                                                reviewText  \n",
      "2753165  The camera is absolutely perfect for me. Every...  \n",
      "2753166  My daughter loves it!  It was everything she w...  \n",
      "2753167  The camera is fantastic. All the extra accesso...  \n",
      "2753168  very nice camera, we are very happy we chose t...  \n",
      "2753169  Great package deal for those entering the worl...  \n"
     ]
    }
   ],
   "source": [
    "_try2 = reviews[reviews.set_index(['asin']).index.isin(camera_asin.set_index(['Cameras']).index)]\n",
    "print(_try2.head())"
   ]
  },
  {
   "cell_type": "code",
   "execution_count": 11,
   "metadata": {},
   "outputs": [
    {
     "data": {
      "text/plain": [
       "(287, 5)"
      ]
     },
     "execution_count": 11,
     "metadata": {},
     "output_type": "execute_result"
    }
   ],
   "source": [
    "_try2.shape"
   ]
  },
  {
   "cell_type": "code",
   "execution_count": 12,
   "metadata": {},
   "outputs": [
    {
     "data": {
      "text/plain": [
       "B00N462AQE    206\n",
       "B01HDQBSR2     22\n",
       "B00K3PNBXK      8\n",
       "B00L0XMR8E      4\n",
       "B00CJJ1RNE      3\n",
       "B008CMVDK4      3\n",
       "B011HSC3WG      3\n",
       "B014RQ4F0S      2\n",
       "B00PV0NJZM      2\n",
       "B00CAPQ2GY      2\n",
       "B0184KR5PU      2\n",
       "B00DWHVJPI      1\n",
       "B0045UK6XW      1\n",
       "B00DWHWEE8      1\n",
       "B00G3ZMAE0      1\n",
       "B00GUIP768      1\n",
       "B0142G59OY      1\n",
       "B00Q70GSRQ      1\n",
       "B019SU62WW      1\n",
       "B00O4COV9Q      1\n",
       "B00JIXDY5I      1\n",
       "B00DWHVMRS      1\n",
       "B00MIZRFTE      1\n",
       "B00KCXFHQW      1\n",
       "B00NT22TFU      1\n",
       "B00P6K08CO      1\n",
       "B013TO9C5W      1\n",
       "B00ZV5POMS      1\n",
       "B00OVC1UT8      1\n",
       "B00DWHWM40      1\n",
       "B00SBY097G      1\n",
       "B0058GI38W      1\n",
       "B006A1NWZI      1\n",
       "B00W4E2CGU      1\n",
       "B00S72ZIWI      1\n",
       "B001K7ZW96      1\n",
       "B000FBS02E      1\n",
       "B00N1BRLM0      1\n",
       "B00DY9XD7Q      1\n",
       "B00OU22HAU      1\n",
       "B01G2HJSGQ      1\n",
       "Name: asin, dtype: int64"
      ]
     },
     "execution_count": 12,
     "metadata": {},
     "output_type": "execute_result"
    }
   ],
   "source": [
    "_try2.asin.value_counts()"
   ]
  },
  {
   "cell_type": "code",
   "execution_count": 14,
   "metadata": {},
   "outputs": [],
   "source": [
    "_try2.to_csv(r'camera_reviews.csv')"
   ]
  },
  {
   "cell_type": "code",
   "execution_count": null,
   "metadata": {},
   "outputs": [],
   "source": []
  },
  {
   "cell_type": "code",
   "execution_count": null,
   "metadata": {},
   "outputs": [],
   "source": []
  },
  {
   "cell_type": "code",
   "execution_count": null,
   "metadata": {},
   "outputs": [],
   "source": []
  }
 ],
 "metadata": {
  "kernelspec": {
   "display_name": "Python 3",
   "language": "python",
   "name": "python3"
  },
  "language_info": {
   "codemirror_mode": {
    "name": "ipython",
    "version": 3
   },
   "file_extension": ".py",
   "mimetype": "text/x-python",
   "name": "python",
   "nbconvert_exporter": "python",
   "pygments_lexer": "ipython3",
   "version": "3.7.4"
  }
 },
 "nbformat": 4,
 "nbformat_minor": 2
}
