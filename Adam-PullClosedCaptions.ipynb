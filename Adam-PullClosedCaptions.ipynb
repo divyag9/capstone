{
 "cells": [
  {
   "cell_type": "code",
   "execution_count": null,
   "metadata": {},
   "outputs": [],
   "source": [
    "!pip install youtube_dl"
   ]
  },
  {
   "cell_type": "code",
   "execution_count": 58,
   "metadata": {},
   "outputs": [],
   "source": [
    "import youtube_dl\n",
    "import re\n",
    "import os\n",
    "import pandas as pd\n",
    "import numpy as np\n",
    "#import urllib.request\n",
    "import requests\n",
    "import time"
   ]
  },
  {
   "cell_type": "markdown",
   "metadata": {},
   "source": [
    "# Sandbox for Experimenting"
   ]
  },
  {
   "cell_type": "markdown",
   "metadata": {},
   "source": [
    "### Translate Video Ids from 8M Data to URLs"
   ]
  },
  {
   "cell_type": "markdown",
   "metadata": {},
   "source": [
    "The ID field in the TensorFlow record files is a 4-character string (e.g. ABCD). To get the YouTubeID, you can construct a URI like /AB/ABCD.js (note: first 2 characters are repeated!), and append it to the URL data.yt8m.org/2/j/i. As a real example, the ID nXSc can be converted to a video ID via the URL data.yt8m.org/2/j/i/nX/nXSc.js. The format of the file is JSONP, and should be self-explainatory. \n",
    "\n",
    "From: https://research.google.com/youtube8m/video_id_conversion.html"
   ]
  },
  {
   "cell_type": "code",
   "execution_count": 2,
   "metadata": {},
   "outputs": [],
   "source": [
    "# Given videoId from 8m dataset\n",
    "\n",
    "videoId = 'nXSc'\n",
    "\n",
    "# Convert videoId to decoder to pull the YouTubeId\n",
    "\n",
    "code = videoId[:2]+'/'+videoId+'.js'\n",
    "decoder = 'http://data.yt8m.org/2/j/i/'+code\n",
    "\n",
    "# Use the .js URL to pull the YouTubeId\n",
    "\n",
    "YoutubeId = str(requests.get(decoder).content)"
   ]
  },
  {
   "cell_type": "code",
   "execution_count": 3,
   "metadata": {},
   "outputs": [
    {
     "data": {
      "text/plain": [
       "'b\\'i(\"nXSc\",\"0sf943sWZls\");\\''"
      ]
     },
     "execution_count": 3,
     "metadata": {},
     "output_type": "execute_result"
    }
   ],
   "source": [
    "YoutubeId"
   ]
  },
  {
   "cell_type": "code",
   "execution_count": 4,
   "metadata": {},
   "outputs": [],
   "source": [
    "# Extract the YoutubeId\n",
    "\n",
    "YoutubeId = re.sub(r'(b\\'i\\(\\\"[A-Za-z0-9]{4}\\\",\\\")|(\\\"\\);\\')', '', YoutubeId)"
   ]
  },
  {
   "cell_type": "code",
   "execution_count": 5,
   "metadata": {},
   "outputs": [
    {
     "data": {
      "text/plain": [
       "'0sf943sWZls'"
      ]
     },
     "execution_count": 5,
     "metadata": {},
     "output_type": "execute_result"
    }
   ],
   "source": [
    "YoutubeId"
   ]
  },
  {
   "cell_type": "markdown",
   "metadata": {},
   "source": [
    "### Given the Video's URL, Pull the Closed Captions of the Video"
   ]
  },
  {
   "cell_type": "code",
   "execution_count": 5,
   "metadata": {},
   "outputs": [],
   "source": [
    "# Settings that feed into the YoutubeDL object that downloads ONLY the captions\n",
    "# Logger for youtube-dl\n",
    "class MyLogger(object):\n",
    "\n",
    "    def __init__(self):\n",
    "        self.text = []\n",
    "        \n",
    "    def debug(self, msg):\n",
    "        self.text.append(msg)\n",
    "\n",
    "    def warning(self, msg):\n",
    "        pass\n",
    "\n",
    "    def error(self, msg):\n",
    "        self.text.append(msg)\n",
    "logger = MyLogger()\n",
    "        \n",
    "ydl_opts = {\n",
    "    'outtmpl' : 'Captions',\n",
    "    'quiet' : True,\n",
    "    'forcetitle' : True,\n",
    "    'writesubtitles' : True,\n",
    "    'writeautomaticsub' : True,\n",
    "    #'listsubtitles' : True,\n",
    "    #'allsubtitles' : True,\n",
    "    'subtitleslangs': ['en'],\n",
    "    'skip_download' : True,\n",
    "    'logger': logger\n",
    "}"
   ]
  },
  {
   "cell_type": "code",
   "execution_count": 102,
   "metadata": {},
   "outputs": [],
   "source": [
    "# Download the captions file to the local directory\n",
    "\n",
    "#URL = 'https://www.youtube.com/watch?v=ZSGhU2gqkvM'\n",
    "#URL = 'https://www.youtube.com/watch?v=Ye8mB6VsUHw' # Cookie Monster\n",
    "#URL = 'https://www.youtube.com/watch?v=0sf943sWZls'\n",
    "#URL = 'https://www.youtube.com/watch?v=FBQ00Vk7Obs' # No Comments\n",
    "URL = 'https://www.youtube.com/watch?v=0pPg_Cth0OQ'\n",
    "\n",
    "with youtube_dl.YoutubeDL(ydl_opts) as ydl:\n",
    "    ydl.download([URL])"
   ]
  },
  {
   "cell_type": "code",
   "execution_count": 13,
   "metadata": {},
   "outputs": [
    {
     "data": {
      "text/plain": [
       "'Sesame Street: Cookie Monster Sings C is for Cookie'"
      ]
     },
     "execution_count": 13,
     "metadata": {},
     "output_type": "execute_result"
    }
   ],
   "source": [
    "# Pull the title of the video from the Logger\n",
    "title = \"\"\n",
    "for text in logger.text:\n",
    "    if text[0:9] != '[youtube]':\n",
    "        if text[0:6] != '[info]':\n",
    "            title = text\n",
    "title"
   ]
  },
  {
   "cell_type": "code",
   "execution_count": 103,
   "metadata": {},
   "outputs": [],
   "source": [
    "# Open the downloaded captions file, extract the text, then close the file\n",
    "\n",
    "file = open('Captions.en.vtt','r')\n",
    "captions = file.readlines()\n",
    "#captions = file.read()\n",
    "file.close()"
   ]
  },
  {
   "cell_type": "code",
   "execution_count": 35,
   "metadata": {},
   "outputs": [
    {
     "name": "stdout",
     "output_type": "stream",
     "text": [
      "['WEBVTT\\n', 'Kind: captions\\n', 'Language: en\\n', '\\n', '00:00:16.500 --> 00:00:27.420 align:start position:0%\\n', ' \\n', 'you\\n', '\\n', '00:00:27.420 --> 00:00:27.430 align:start position:0%\\n', ' \\n', ' \\n', '\\n', '00:00:27.430 --> 00:01:01.750 align:start position:0%\\n', ' \\n', 'Oh\\n', '\\n', '00:01:01.750 --> 00:01:01.760 align:start position:0%\\n', ' \\n', ' \\n', '\\n', '00:01:01.760 --> 00:01:15.860 align:start position:0%\\n', ' \\n', 'route<00:01:02.760><c> you</c><00:01:02.940><c> Chevy</c>\\n', '\\n', '00:01:15.860 --> 00:01:15.870 align:start position:0%\\n', ' \\n', ' \\n', '\\n', '00:01:15.870 --> 00:01:31.210 align:start position:0%\\n', ' \\n', 'I<00:01:15.930><c> am</c><00:01:17.840><c> immortal</c><00:01:18.840><c> I</c><00:01:20.420><c> am</c><00:01:21.710><c> in</c><00:01:23.150><c> java</c>\\n', '\\n', '00:01:31.210 --> 00:01:31.220 align:start position:0%\\n', ' \\n', ' \\n', '\\n', '00:01:31.220 --> 00:02:11.500 align:start position:0%\\n', ' \\n', 'you\\n', '\\n', '00:02:11.500 --> 00:02:11.510 align:start position:0%\\n', ' \\n', ' \\n', '\\n', '00:02:11.510 --> 00:02:14.940 align:start position:0%\\n', ' \\n', 'you\\n', '\\n', '00:02:14.940 --> 00:02:14.950 align:start position:0%\\n', ' \\n', ' \\n', '\\n', '00:02:14.950 --> 00:02:26.040 align:start position:0%\\n', ' \\n', 'ah<00:02:21.810><c> so</c><00:02:22.810><c> these</c><00:02:23.110><c> are</c><00:02:23.379><c> those</c><00:02:24.000><c> yes</c><00:02:25.000><c> I</c><00:02:25.330><c> was</c><00:02:25.780><c> able</c><00:02:25.900><c> to</c>\\n', '\\n', '00:02:26.040 --> 00:02:26.050 align:start position:0%\\n', 'ah so these are those yes I was able to\\n', ' \\n', '\\n', '00:02:26.050 --> 00:02:27.720 align:start position:0%\\n', 'ah so these are those yes I was able to\\n', 'retrieve<00:02:26.260><c> them</c><00:02:26.680><c> from</c><00:02:26.709><c> the</c><00:02:27.040><c> remains</c><00:02:27.340><c> of</c><00:02:27.580><c> their</c>\\n', '\\n', '00:02:27.720 --> 00:02:27.730 align:start position:0%\\n', 'retrieve them from the remains of their\\n', ' \\n', '\\n', '00:02:27.730 --> 00:02:30.210 align:start position:0%\\n', 'retrieve them from the remains of their\\n', 'hideout<00:02:28.200><c> how</c><00:02:29.200><c> do</c><00:02:29.260><c> you</c><00:02:29.410><c> plan</c><00:02:29.650><c> to</c><00:02:29.709><c> dispose</c><00:02:30.040><c> of</c>\\n', '\\n', '00:02:30.210 --> 00:02:30.220 align:start position:0%\\n', 'hideout how do you plan to dispose of\\n', ' \\n', '\\n', '00:02:30.220 --> 00:02:32.940 align:start position:0%\\n', 'hideout how do you plan to dispose of\\n', \"them<00:02:30.630><c> well</c><00:02:31.630><c> it's</c><00:02:31.900><c> not</c><00:02:32.110><c> like</c><00:02:32.170><c> it'll</c><00:02:32.620><c> do</c><00:02:32.769><c> any</c>\\n\", '\\n', '00:02:32.940 --> 00:02:32.950 align:start position:0%\\n', \"them well it's not like it'll do any\\n\", ' \\n', '\\n', '00:02:32.950 --> 00:02:35.790 align:start position:0%\\n', \"them well it's not like it'll do any\\n\", 'harm<00:02:33.160><c> just</c><00:02:33.430><c> to</c><00:02:33.580><c> leave</c><00:02:33.760><c> them</c><00:02:33.940><c> alone</c><00:02:34.239><c> but</c><00:02:34.599><c> if</c><00:02:34.870><c> we</c>\\n', '\\n', '00:02:35.790 --> 00:02:35.800 align:start position:0%\\n', 'harm just to leave them alone but if we\\n', ' \\n', '\\n', '00:02:35.800 --> 00:02:37.830 align:start position:0%\\n', 'harm just to leave them alone but if we\\n', 'get<00:02:35.950><c> rid</c><00:02:36.130><c> of</c><00:02:36.190><c> them</c><00:02:36.400><c> uh</c><00:02:36.550><c> certain</c><00:02:36.970><c> someone</c><00:02:37.510><c> wants</c>\\n', '\\n', '00:02:37.830 --> 00:02:37.840 align:start position:0%\\n', 'get rid of them uh certain someone wants\\n', ' \\n', '\\n', '00:02:37.840 --> 00:02:42.479 align:start position:0%\\n', 'get rid of them uh certain someone wants\\n', \"to<00:02:37.900><c> do</c><00:02:38.080><c> it</c><00:02:38.200><c> himself</c><00:02:39.300><c> hmm</c><00:02:40.300><c> very</c><00:02:40.660><c> well</c><00:02:41.280><c> it'll</c><00:02:42.280><c> be</c>\\n\", '\\n', '00:02:42.479 --> 00:02:42.489 align:start position:0%\\n', \"to do it himself hmm very well it'll be\\n\", ' \\n', '\\n', '00:02:42.489 --> 00:03:06.230 align:start position:0%\\n', \"to do it himself hmm very well it'll be\\n\", 'a<00:02:42.519><c> fitting</c><00:02:42.819><c> way</c><00:02:42.910><c> for</c><00:02:43.090><c> him</c><00:02:43.450><c> to</c><00:02:43.480><c> make</c><00:02:43.720><c> amends</c>\\n', '\\n', '00:03:06.230 --> 00:03:06.240 align:start position:0%\\n', ' \\n', ' \\n', '\\n', '00:03:06.240 --> 00:03:08.270 align:start position:0%\\n', ' \\n', \"What's<00:03:06.870><c> Wrong</c><00:03:06.960><c> sensei</c><00:03:07.650><c> what</c><00:03:07.890><c> are</c><00:03:07.950><c> you</c><00:03:08.040><c> doing</c>\\n\", '\\n', '00:03:08.270 --> 00:03:08.280 align:start position:0%\\n', \"What's Wrong sensei what are you doing\\n\", ' \\n', '\\n', '00:03:08.280 --> 00:03:11.070 align:start position:0%\\n', \"What's Wrong sensei what are you doing\\n\", 'here<00:03:08.400><c> before</c><00:03:08.730><c> the</c><00:03:08.880><c> mission</c>\\n', '\\n', '00:03:11.070 --> 00:03:11.080 align:start position:0%\\n', 'here before the mission\\n', ' \\n', '\\n', '00:03:11.080 --> 00:03:15.520 align:start position:0%\\n', 'here before the mission\\n', 'Naruto<00:03:12.080><c> asked</c><00:03:12.410><c> me</c><00:03:12.530><c> to</c><00:03:12.620><c> be</c><00:03:12.770><c> here</c><00:03:13.660><c> Naruto</c><00:03:14.660><c> what</c>\\n', '\\n', '00:03:15.520 --> 00:03:15.530 align:start position:0%\\n', 'Naruto asked me to be here Naruto what\\n', ' \\n', '\\n', '00:03:15.530 --> 00:03:18.580 align:start position:0%\\n', 'Naruto asked me to be here Naruto what\\n', 'for<00:03:16.000><c> yeah</c><00:03:17.000><c> cuz</c><00:03:17.570><c> I</c><00:03:17.690><c> got</c><00:03:17.870><c> something</c><00:03:18.260><c> to</c><00:03:18.320><c> show</c><00:03:18.560><c> you</c>\\n', '\\n', '00:03:18.580 --> 00:03:18.590 align:start position:0%\\n', 'for yeah cuz I got something to show you\\n', ' \\n', '\\n', '00:03:18.590 --> 00:03:24.300 align:start position:0%\\n', 'for yeah cuz I got something to show you\\n', 'get<00:03:19.190><c> a</c><00:03:19.220><c> lot</c><00:03:19.430><c> of</c><00:03:19.460><c> these</c>\\n', '\\n', '00:03:24.300 --> 00:03:24.310 align:start position:0%\\n', ' \\n', ' \\n', '\\n', '00:03:24.310 --> 00:03:26.510 align:start position:0%\\n', ' \\n', \"what<00:03:24.849><c> are</c><00:03:24.940><c> those</c><00:03:25.030><c> Spears</c><00:03:25.510><c> they're</c><00:03:25.810><c> so</c><00:03:25.959><c> pretty</c>\\n\", '\\n', '00:03:26.510 --> 00:03:26.520 align:start position:0%\\n', \"what are those Spears they're so pretty\\n\", ' \\n', '\\n', '00:03:26.520 --> 00:03:30.860 align:start position:0%\\n', \"what are those Spears they're so pretty\\n\", \"it's<00:03:27.520><c> weird</c><00:03:27.910><c> I</c><00:03:28.209><c> swear</c><00:03:28.239><c> I've</c><00:03:28.810><c> seen</c><00:03:28.840><c> them</c><00:03:29.290><c> before</c>\\n\", '\\n', '00:03:30.860 --> 00:03:30.870 align:start position:0%\\n', \"it's weird I swear I've seen them before\\n\", ' \\n', '\\n', '00:03:30.870 --> 00:03:33.839 align:start position:0%\\n', \"it's weird I swear I've seen them before\\n\", \"not<00:03:31.870><c> ringing</c><00:03:32.110><c> any</c><00:03:32.290><c> bells</c><00:03:32.680><c> uh</c><00:03:32.980><c> well</c><00:03:33.550><c> you're</c>\\n\", '\\n', '00:03:33.839 --> 00:03:33.849 align:start position:0%\\n', \"not ringing any bells uh well you're\\n\", ' \\n', '\\n', '00:03:33.849 --> 00:03:39.540 align:start position:0%\\n', \"not ringing any bells uh well you're\\n\", 'looking<00:03:34.030><c> at</c><00:03:34.410><c> the</c><00:03:35.410><c> spirit</c><00:03:35.890><c> orbs</c><00:03:36.420><c> what</c><00:03:37.680><c> hey</c><00:03:38.680><c> no</c>\\n', '\\n', '00:03:39.540 --> 00:03:39.550 align:start position:0%\\n', 'looking at the spirit orbs what hey no\\n', ' \\n', '\\n', '00:03:39.550 --> 00:03:45.540 align:start position:0%\\n', 'looking at the spirit orbs what hey no\\n', 'fair<00:03:39.819><c> kakashi-sensei</c><00:03:41.130><c> that</c><00:03:42.130><c> was</c><00:03:42.340><c> my</c><00:03:42.610><c> line</c><00:03:44.550><c> but</c>\\n', '\\n', '00:03:45.540 --> 00:03:45.550 align:start position:0%\\n', 'fair kakashi-sensei that was my line but\\n', ' \\n', '\\n', '00:03:45.550 --> 00:03:48.420 align:start position:0%\\n', 'fair kakashi-sensei that was my line but\\n', \"they<00:03:45.700><c> weren't</c><00:03:45.880><c> a</c><00:03:46.060><c> small</c><00:03:46.450><c> before</c><00:03:46.720><c> worthy</c><00:03:47.430><c> by</c>\\n\", '\\n', '00:03:48.420 --> 00:03:48.430 align:start position:0%\\n', \"they weren't a small before worthy by\\n\", ' \\n', '\\n', '00:03:48.430 --> 00:03:50.100 align:start position:0%\\n', \"they weren't a small before worthy by\\n\", 'the<00:03:48.489><c> time</c><00:03:48.819><c> I</c><00:03:48.849><c> came</c><00:03:49.090><c> to</c><00:03:49.420><c> pick</c><00:03:49.540><c> them</c><00:03:49.599><c> up</c><00:03:49.870><c> they</c>\\n', '\\n', '00:03:50.100 --> 00:03:50.110 align:start position:0%\\n', 'the time I came to pick them up they\\n', ' \\n', '\\n', '00:03:50.110 --> 00:03:53.430 align:start position:0%\\n', 'the time I came to pick them up they\\n', 'shrunk<00:03:50.530><c> to</c><00:03:50.680><c> this</c><00:03:50.860><c> size</c><00:03:51.510><c> this</c><00:03:52.510><c> must</c><00:03:53.019><c> be</c><00:03:53.230><c> their</c>\\n', '\\n', '00:03:53.430 --> 00:03:53.440 align:start position:0%\\n', 'shrunk to this size this must be their\\n', ' \\n', '\\n', '00:03:53.440 --> 00:03:56.550 align:start position:0%\\n', 'shrunk to this size this must be their\\n', \"true<00:03:53.769><c> form</c><00:03:54.420><c> now</c><00:03:55.420><c> they're</c><00:03:55.840><c> just</c><00:03:55.870><c> powerless</c>\\n\", '\\n', '00:03:56.550 --> 00:03:56.560 align:start position:0%\\n', \"true form now they're just powerless\\n\", ' \\n', '\\n', '00:03:56.560 --> 00:04:01.680 align:start position:0%\\n', \"true form now they're just powerless\\n\", \"jewels<00:03:57.630><c> Wow</c><00:03:59.280><c> and</c><00:04:00.280><c> I</c><00:04:00.700><c> don't</c><00:04:00.910><c> know</c><00:04:01.030><c> I</c><00:04:01.330><c> thought</c>\\n\", '\\n', '00:04:01.680 --> 00:04:01.690 align:start position:0%\\n', \"jewels Wow and I don't know I thought\\n\", ' \\n', '\\n', '00:04:01.690 --> 00:04:03.680 align:start position:0%\\n', \"jewels Wow and I don't know I thought\\n\", 'naruto<00:04:02.049><c> might</c><00:04:02.590><c> want</c><00:04:02.830><c> to</c><00:04:02.890><c> take</c><00:04:03.040><c> care</c><00:04:03.340><c> of</c><00:04:03.459><c> them</c>\\n', '\\n', '00:04:03.680 --> 00:04:03.690 align:start position:0%\\n', 'naruto might want to take care of them\\n', ' \\n', '\\n', '00:04:03.690 --> 00:04:06.420 align:start position:0%\\n', 'naruto might want to take care of them\\n', 'so<00:04:04.690><c> how</c><00:04:04.810><c> about</c><00:04:04.930><c> it</c><00:04:05.200><c> Naruto</c><00:04:05.410><c> this</c><00:04:06.190><c> is</c><00:04:06.280><c> a</c><00:04:06.310><c> good</c>\\n', '\\n', '00:04:06.420 --> 00:04:06.430 align:start position:0%\\n', 'so how about it Naruto this is a good\\n', ' \\n', '\\n', '00:04:06.430 --> 00:04:13.760 align:start position:0%\\n', 'so how about it Naruto this is a good\\n', 'spot<00:04:06.959><c> yeah</c><00:04:08.099><c> perfect</c>\\n', '\\n', '00:04:13.760 --> 00:04:13.770 align:start position:0%\\n', ' \\n', ' \\n', '\\n', '00:04:13.770 --> 00:04:22.670 align:start position:0%\\n', ' \\n', 'you<00:04:14.640><c> guys</c><00:04:16.790><c> get</c><00:04:17.790><c> lost</c><00:04:17.940><c> and</c><00:04:18.390><c> never</c><00:04:18.600><c> come</c><00:04:18.959><c> back</c>\\n', '\\n', '00:04:22.670 --> 00:04:22.680 align:start position:0%\\n', ' \\n', ' \\n', '\\n', '00:04:22.680 --> 00:04:25.100 align:start position:0%\\n', ' \\n', 'alright<00:04:23.669><c> that</c><00:04:23.970><c> should</c><00:04:24.000><c> take</c><00:04:24.300><c> care</c><00:04:24.360><c> of</c><00:04:24.630><c> it</c><00:04:24.780><c> we</c>\\n', '\\n', '00:04:25.100 --> 00:04:25.110 align:start position:0%\\n', 'alright that should take care of it we\\n', ' \\n', '\\n', '00:04:25.110 --> 00:04:28.879 align:start position:0%\\n', 'alright that should take care of it we\\n', 'can<00:04:25.289><c> relax</c><00:04:25.650><c> now</c><00:04:26.039><c> oh</c><00:04:27.139><c> did</c><00:04:28.139><c> you</c><00:04:28.259><c> really</c><00:04:28.530><c> have</c><00:04:28.740><c> to</c>\\n', '\\n', '00:04:28.879 --> 00:04:28.889 align:start position:0%\\n', 'can relax now oh did you really have to\\n', ' \\n', '\\n', '00:04:28.889 --> 00:04:35.870 align:start position:0%\\n', 'can relax now oh did you really have to\\n', \"do<00:04:29.100><c> that</c><00:04:29.570><c> hey</c><00:04:30.570><c> it's</c><00:04:31.080><c> okay</c><00:04:33.710><c> well</c><00:04:34.710><c> now</c><00:04:35.009><c> should</c><00:04:35.729><c> we</c>\\n\", '\\n', '00:04:35.870 --> 00:04:35.880 align:start position:0%\\n', \"do that hey it's okay well now should we\\n\", ' \\n', '\\n', '00:04:35.880 --> 00:04:41.900 align:start position:0%\\n', \"do that hey it's okay well now should we\\n\", \"get<00:04:36.030><c> going</c><00:04:36.620><c> right</c><00:04:38.060><c> yeah</c><00:04:39.060><c> let's</c><00:04:39.840><c> go</c><00:04:40.400><c> hey</c><00:04:41.400><c> wait</c>\\n\", '\\n', '00:04:41.900 --> 00:04:41.910 align:start position:0%\\n', \"get going right yeah let's go hey wait\\n\", ' \\n', '\\n', '00:04:41.910 --> 00:04:47.920 align:start position:0%\\n', \"get going right yeah let's go hey wait\\n\", 'up<00:04:41.940><c> Naruto</c><00:04:42.449><c> oh</c><00:04:43.520><c> you</c><00:04:44.520><c> too</c>\\n', '\\n', '00:04:47.920 --> 00:04:47.930 align:start position:0%\\n', ' \\n', ' \\n', '\\n', '00:04:47.930 --> 00:04:52.270 align:start position:0%\\n', ' \\n', 'hey<00:04:48.639><c> come</c><00:04:49.639><c> on</c><00:04:49.850><c> kakashi-sensei</c>\\n', '\\n']\n"
     ]
    }
   ],
   "source": [
    "print(captions)"
   ]
  },
  {
   "cell_type": "code",
   "execution_count": 39,
   "metadata": {},
   "outputs": [
    {
     "name": "stdout",
     "output_type": "stream",
     "text": [
      "  you       Oh       route you Chevy       I am immortal I am in java       you       you       ah so these are those yes I was able to ah so these are those yes I was able to   ah so these are those yes I was able to retrieve them from the remains of their retrieve them from the remains of their   retrieve them from the remains of their hideout how do you plan to dispose of hideout how do you plan to dispose of   hideout how do you plan to dispose of them well it's not like it'll do any them well it's not like it'll do any   them well it's not like it'll do any harm just to leave them alone but if we harm just to leave them alone but if we   harm just to leave them alone but if we get rid of them uh certain someone wants get rid of them uh certain someone wants   get rid of them uh certain someone wants to do it himself hmm very well it'll be to do it himself hmm very well it'll be   to do it himself hmm very well it'll be a fitting way for him to make amends       What's Wrong sensei what are you doing What's Wrong sensei what are you doing   What's Wrong sensei what are you doing here before the mission here before the mission   here before the mission Naruto asked me to be here Naruto what Naruto asked me to be here Naruto what   Naruto asked me to be here Naruto what for yeah cuz I got something to show you for yeah cuz I got something to show you   for yeah cuz I got something to show you get a lot of these       what are those Spears they're so pretty what are those Spears they're so pretty   what are those Spears they're so pretty it's weird I swear I've seen them before it's weird I swear I've seen them before   it's weird I swear I've seen them before not ringing any bells uh well you're not ringing any bells uh well you're   not ringing any bells uh well you're looking at the spirit orbs what hey no looking at the spirit orbs what hey no   looking at the spirit orbs what hey no fair kakashi-sensei that was my line but fair kakashi-sensei that was my line but   fair kakashi-sensei that was my line but they weren't a small before worthy by they weren't a small before worthy by   they weren't a small before worthy by the time I came to pick them up they the time I came to pick them up they   the time I came to pick them up they shrunk to this size this must be their shrunk to this size this must be their   shrunk to this size this must be their true form now they're just powerless true form now they're just powerless   true form now they're just powerless jewels Wow and I don't know I thought jewels Wow and I don't know I thought   jewels Wow and I don't know I thought naruto might want to take care of them naruto might want to take care of them   naruto might want to take care of them so how about it Naruto this is a good so how about it Naruto this is a good   so how about it Naruto this is a good spot yeah perfect       you guys get lost and never come back       alright that should take care of it we alright that should take care of it we   alright that should take care of it we can relax now oh did you really have to can relax now oh did you really have to   can relax now oh did you really have to do that hey it's okay well now should we do that hey it's okay well now should we   do that hey it's okay well now should we get going right yeah let's go hey wait get going right yeah let's go hey wait   get going right yeah let's go hey wait up Naruto oh you too       hey come on kakashi-sensei  \n"
     ]
    }
   ],
   "source": [
    "# Use RegEx to remove timestamps and convert the captions to a paragraph of text.\n",
    "\n",
    "captions = re.sub(r'(WEBVTT\\nKind: captions\\nLanguage: en\\n)|(\\n\\d\\d:\\d\\d:\\d\\d.\\d\\d\\d --> \\d\\d:\\d\\d:\\d\\d.\\d\\d\\d\\n)', '', captions)\n",
    "captions = re.sub(r'(\\n\\d\\d:\\d\\d:\\d\\d.\\d\\d\\d --> \\d\\d:\\d\\d:\\d\\d.\\d\\d\\d align:start position:\\d+%\\n)|(<\\d+:\\d+:\\d+.\\d+><c>)|(</c>)', '', captions)\n",
    "captions = re.sub(r'(\\n)', ' ', captions)\n",
    "print(captions)"
   ]
  },
  {
   "cell_type": "code",
   "execution_count": 108,
   "metadata": {},
   "outputs": [],
   "source": [
    "# Use RegEx to remove timestamps and convert the captions to a paragraph of text.\n",
    "subtitles = np.array([])\n",
    "for line in captions:\n",
    "    line = re.sub(r'WEBVTT\\n','',line)\n",
    "    line = re.sub(r'Kind: captions\\n','',line)\n",
    "    line = re.sub(r'Language: en\\n','',line)\n",
    "    line = re.sub(r'\\d\\d:\\d\\d:\\d\\d.\\d\\d\\d --> \\d\\d:\\d\\d:\\d\\d.\\d\\d\\d\\n', '', line)\n",
    "    line = re.sub(r'\\d\\d:\\d\\d:\\d\\d.\\d\\d\\d --> \\d\\d:\\d\\d:\\d\\d.\\d\\d\\d align:start position:\\d+%\\n','',line)\n",
    "    line = re.sub(r'<\\d+:\\d+:\\d+.\\d+><c>','',line)\n",
    "    line = re.sub(r'</c>', '', line)\n",
    "    line = re.sub(r'(\\n)', '', line)\n",
    "    if (line != '') and (line != ' '):\n",
    "        if line not in list(subtitles):\n",
    "            subtitles = np.append(subtitles, line)\n",
    "            #print(line)"
   ]
  },
  {
   "cell_type": "code",
   "execution_count": 91,
   "metadata": {},
   "outputs": [],
   "source": [
    "caption = ''\n",
    "for i in subtitles:\n",
    "    caption = caption + ' ' + i"
   ]
  },
  {
   "cell_type": "code",
   "execution_count": 109,
   "metadata": {},
   "outputs": [
    {
     "data": {
      "text/plain": [
       "\" you Oh route you Chevy I am immortal I am in java ah so these are those yes I was able to retrieve them from the remains of their hideout how do you plan to dispose of them well it's not like it'll do any harm just to leave them alone but if we get rid of them uh certain someone wants to do it himself hmm very well it'll be a fitting way for him to make amends What's Wrong sensei what are you doing here before the mission Naruto asked me to be here Naruto what for yeah cuz I got something to show you get a lot of these what are those Spears they're so pretty it's weird I swear I've seen them before not ringing any bells uh well you're looking at the spirit orbs what hey no fair kakashi-sensei that was my line but they weren't a small before worthy by the time I came to pick them up they shrunk to this size this must be their true form now they're just powerless jewels Wow and I don't know I thought naruto might want to take care of them so how about it Naruto this is a good spot yeah perfect you guys get lost and never come back alright that should take care of it we can relax now oh did you really have to do that hey it's okay well now should we get going right yeah let's go hey wait up Naruto oh you too hey come on kakashi-sensei\""
      ]
     },
     "execution_count": 109,
     "metadata": {},
     "output_type": "execute_result"
    }
   ],
   "source": [
    "caption"
   ]
  },
  {
   "cell_type": "code",
   "execution_count": 12,
   "metadata": {},
   "outputs": [],
   "source": [
    "# Now that we're done with the captions file, delete it from the directory\n",
    "\n",
    "os.remove('Captions.en.vtt')"
   ]
  },
  {
   "cell_type": "markdown",
   "metadata": {},
   "source": [
    "### Pull the description of each video"
   ]
  },
  {
   "cell_type": "code",
   "execution_count": 8,
   "metadata": {},
   "outputs": [],
   "source": [
    "# Logger for youtube-dl\n",
    "class MyLogger(object):\n",
    "\n",
    "    def __init__(self):\n",
    "        self.text = []\n",
    "        \n",
    "    def debug(self, msg):\n",
    "        self.text.append(msg)\n",
    "\n",
    "    def warning(self, msg):\n",
    "        pass\n",
    "\n",
    "    def error(self, msg):\n",
    "        self.text.append(msg)\n",
    "logger = MyLogger()        \n",
    "ydl_opts = {\n",
    "    'outtmpl' : 'Captions',\n",
    "    'quiet' : True,\n",
    "    'forcetitle' : True,\n",
    "    'writesubtitles' : True,\n",
    "    'writeautomaticsub' : True,\n",
    "    #'listsubtitles' : True,\n",
    "    #'allsubtitles' : True,\n",
    "    'subtitleslangs': ['en'],\n",
    "    'skip_download' : True,\n",
    "    'logger': logger,\n",
    "    'writedescription' : True\n",
    "    }"
   ]
  },
  {
   "cell_type": "code",
   "execution_count": 13,
   "metadata": {},
   "outputs": [
    {
     "name": "stdout",
     "output_type": "stream",
     "text": [
      "https://www.youtube.com/watch?v=Ye8mB6VsUHw\n"
     ]
    }
   ],
   "source": [
    "#URL = ObtainURL('0H00')\n",
    "URL = 'https://www.youtube.com/watch?v=Ye8mB6VsUHw'\n",
    "print(URL)"
   ]
  },
  {
   "cell_type": "code",
   "execution_count": 14,
   "metadata": {},
   "outputs": [],
   "source": [
    "with youtube_dl.YoutubeDL(ydl_opts) as ydl:\n",
    "    ydl.download([URL])"
   ]
  },
  {
   "cell_type": "code",
   "execution_count": 23,
   "metadata": {},
   "outputs": [
    {
     "name": "stdout",
     "output_type": "stream",
     "text": [
      "Cookie's favorite food starts with the letter C -- that's good enough for him!\n",
      "\n",
      "For more fun games and videos for your preschooler in a safe, child-friendly environment, visit us at http://www.sesamestreet.org\n",
      "\n",
      "Sesame Street is a production of Sesame Workshop, a nonprofit educational organization which also produces Pinky Dinky Doo, The Electric Company, and other programs for children around the world.\n"
     ]
    }
   ],
   "source": [
    "# If we successfully download the captions.description file\n",
    "try:    \n",
    "    # Open the downloaded description file, extract the text, then close the file\n",
    "    file = open('Captions.description','r')\n",
    "    description = file.read()\n",
    "    file.close()\n",
    "\n",
    "    print(description)\n",
    "        \n",
    "    # Now that we're done with the captions file, delete it from the directory\n",
    "    os.remove('Captions.description')\n",
    "except:\n",
    "    print('error')"
   ]
  },
  {
   "cell_type": "markdown",
   "metadata": {},
   "source": [
    "# Actual Code for the Project"
   ]
  },
  {
   "cell_type": "markdown",
   "metadata": {},
   "source": [
    "**Issues:**\n",
    "1. Lots of the videos are from different languages and the english automatic closed captions for these are terrible\n",
    "2. Lots of these videos don't have any talking\n",
    "3. Automatic closed captions vs. preloaded english closed captions\n",
    "4. Automatic closed captions sometimes absorb lyrics to a song"
   ]
  },
  {
   "cell_type": "markdown",
   "metadata": {},
   "source": [
    "### Iterate the Process"
   ]
  },
  {
   "cell_type": "code",
   "execution_count": 24,
   "metadata": {},
   "outputs": [],
   "source": [
    "# Test video Ids from 8M dataset\n",
    "VideoIds = ['op00','O900','Oq00','Li00','1300','gG00','xI00','i900','R100','sg00','0900','gk00','VK00',\n",
    "'UL00','R900','FF00','Jw00','nm00','t600','1J00','LT00','4i00','L700','QA00','Ra00','rC00',\n",
    "'pf00','8h00','J400','fd00','Ut00','0H00','dH00','Rc00','ie00','Ly00','mQ00','mY00']\n",
    "\n",
    "# VideoIds = ['gG00']"
   ]
  },
  {
   "cell_type": "code",
   "execution_count": 25,
   "metadata": {},
   "outputs": [],
   "source": [
    "# Logger for youtube-dl\n",
    "class MyLogger(object):\n",
    "\n",
    "    def __init__(self):\n",
    "        self.text = []\n",
    "        \n",
    "    def debug(self, msg):\n",
    "        self.text.append(msg)\n",
    "\n",
    "    def warning(self, msg):\n",
    "        pass\n",
    "\n",
    "    def error(self, msg):\n",
    "        self.text.append(msg)\n",
    "        \n",
    "# logger = MyLogger()\n",
    "# # Settings that feed into the YoutubeDL object that downloads ONLY the captions\n",
    "# ydl_opts = {\n",
    "#     'outtmpl' : 'Captions',\n",
    "#     'quiet' : True,\n",
    "#     'forcetitle' : True,\n",
    "#     'writesubtitles' : True,\n",
    "#     'writeautomaticsub' : True,\n",
    "#     #'listsubtitles' : True,\n",
    "#     #'allsubtitles' : True,\n",
    "#     'subtitleslangs': ['en'],\n",
    "#     'skip_download' : True,\n",
    "#     'logger': logger\n",
    "# }"
   ]
  },
  {
   "cell_type": "code",
   "execution_count": 26,
   "metadata": {},
   "outputs": [],
   "source": [
    "def ObtainURL(videoId):\n",
    "    '''\n",
    "    This function takes in the VideoId from 8M data and converts it to the video's URL\n",
    "    '''\n",
    "    # Convert videoId to decoder to pull the YouTubeId\n",
    "    code = videoId[:2]+'/'+videoId+'.js'\n",
    "    decoder = 'http://data.yt8m.org/2/j/i/'+code\n",
    "\n",
    "    # Use the .js URL to pull the YouTubeId\n",
    "    YoutubeId = str(requests.get(decoder).content)\n",
    "    \n",
    "    # Extract the YoutubeId\n",
    "    YoutubeId = re.sub(r'(b\\'i\\(\\\"[A-Za-z0-9]{4}\\\",\\\")|(\\\"\\);\\')', '', YoutubeId)\n",
    "    \n",
    "    # Convert YoutubeId to URL\n",
    "    URL = 'https://www.youtube.com/watch?v='+YoutubeId\n",
    "    \n",
    "    return URL"
   ]
  },
  {
   "cell_type": "code",
   "execution_count": 28,
   "metadata": {},
   "outputs": [
    {
     "name": "stdout",
     "output_type": "stream",
     "text": [
      "https://www.youtube.com/watch?v=FBQ00Vk7Obs\n",
      "Kai Jing Leong 2011 Singapore National Figure Skating Senior - Short Program\n",
      "https://www.youtube.com/watch?v=1Cb84yXZgZs\n",
      "Ivana Hong - Montage Gymnastique ❤\n",
      "https://www.youtube.com/watch?v=ibKjl4ZyA9w\n",
      "Бездомните кучета в София\n",
      "https://www.youtube.com/watch?v=FePY0rISaIk\n",
      "Montage #3 / Infestation / DeathZ\n",
      "https://www.youtube.com/watch?v=2Y6LifcmLgw\n",
      "Cross Uringe - 5 Aug 2012\n",
      "https://www.youtube.com/watch?v=ZSGhU2gqkvM\n",
      "Opel Vectra B Irmscher Tuning\n",
      "https://www.youtube.com/watch?v=fwnMW7A1uw8\n",
      "2004 470 Catalina sold by NWYachtnet\n",
      "https://www.youtube.com/watch?v=Y3x25oucpFU\n",
      "РЕЗИНОВАЯ КОКА КОЛА И ПЕПСИ\n",
      "https://www.youtube.com/watch?v=96u8pQ2dpfQ\n",
      "Madolche - Colombia Top 8 Regional Omar Hernandez - Yugioh Deck Profile September 2013\n",
      "https://www.youtube.com/watch?v=56vazFgwvlo\n",
      "Forest walk 2\n",
      "https://www.youtube.com/watch?v=uZiuGmdpW4M\n",
      "Vio-Lence - World In a World [HQ]\n",
      "https://www.youtube.com/watch?v=YLZbTWmvVyc\n",
      "WNF UMvC3(12-14-11) m23 Infrit vs Flocker\n",
      "https://www.youtube.com/watch?v=pCn7ZeGkPgU\n",
      "Black Violin Feel Good\n",
      "https://www.youtube.com/watch?v=UzXQaOLQVCU\n",
      "battlefield 2 Theme (Best Quality)\n",
      "https://www.youtube.com/watch?v=XEJCKT8Sb4Q\n",
      "Medieval Cooking Pit\n",
      "https://www.youtube.com/watch?v=CuEjiRyQhvc\n",
      "Umami \"Good In Colours\"\n",
      "https://www.youtube.com/watch?v=Gmr560VV81U\n",
      "mamadou avait mal au dents\n",
      "https://www.youtube.com/watch?v=jeECmqYWKyI\n",
      "Joan sebastian con banda cruz de la candelaria\n",
      "https://www.youtube.com/watch?v=2KX_09QqpW8\n",
      "Chapolin com o Chaves na Escola - Episódio inédito no Brasil! (Espanhol)\n",
      "https://www.youtube.com/watch?v=OX2lDaUYZpg\n",
      "Jonny Fletcher @ TOTBX 2011 - FWD Handling Winner\n",
      "https://www.youtube.com/watch?v=0uZx0TwZsvc\n",
      "Peligro.- Yuridia\n",
      "https://www.youtube.com/watch?v=Oye1gGKo0ao\n",
      "Saint Leo Women's Soccer\n",
      "https://www.youtube.com/watch?v=ncPlB2ufcxQ\n",
      "Mi anillo de compromiso\n",
      "https://www.youtube.com/watch?v=6YkVt3WZAbE\n",
      "Cheer Extreme Mini 1 BATB Day 1\n",
      "https://www.youtube.com/watch?v=abOVenfqEeI\n",
      "エルレガーデン　金星　ギター　弾いてみた\n",
      "https://www.youtube.com/watch?v=oWOl4v2Fd_U\n",
      "Audi A6 Allroad 3.0 Bi Turbo (313) german mauntain\n",
      "https://www.youtube.com/watch?v=IVoVl5rN0Bw\n",
      "แอ็คกบกระโดด \"จุน\" 4.5 เซน\n",
      "https://www.youtube.com/watch?v=ETF2-Zz3J18\n",
      "Law of Reflection Practical Activity for Students\n",
      "https://www.youtube.com/watch?v=83b22NK6i8c\n",
      "Alvin i wiewiórki - Cisza (Kamil Bednarek)\n",
      "https://www.youtube.com/watch?v=GEdQf8wyodY\n",
      "[SFIV] FZ (VI) vs 見学会Ikuo (KE) - 2nd Set\n",
      "https://www.youtube.com/watch?v=0pPg_Cth0OQ\n",
      "Naruto: Uzumaki Chronicles 2 - Story mode ch10 p6/6\n",
      "https://www.youtube.com/watch?v=RilJ9iYwm4U\n",
      "Paper mario a thosand year door flash verison on pc\n",
      "https://www.youtube.com/watch?v=rr27XLHH6Hk\n",
      "JBL Charge 2 Sound Test\n",
      "https://www.youtube.com/watch?v=hilgkGGX39w\n",
      "Saltwater Reef Tank\n",
      "https://www.youtube.com/watch?v=YlkP06TYApY\n",
      "Dwyane Wade 28 points vs Pacers full highlights (2012 NBA Playoffs CSF GM5)\n",
      "https://www.youtube.com/watch?v=xfp_3ivGF4Q\n",
      "Playmobil tueur de l'extrême\n",
      "https://www.youtube.com/watch?v=BW1ijtaThNo\n",
      "los caballerros del zodiaco intro hades perdoname\n",
      "https://www.youtube.com/watch?v=wM53aihC4MI\n",
      "How To Wash and Dry a Wig\n",
      "Runtime: 48.94069194793701 seconds\n"
     ]
    }
   ],
   "source": [
    "# How long does this take?\n",
    "start_time = time.time()\n",
    "\n",
    "df = pd.DataFrame(columns=['videoId','captions'])\n",
    "subtitlesdownloaded = False\n",
    "\n",
    "for videoId in VideoIds:\n",
    "    #Initialize logger variable\n",
    "    logger = MyLogger()\n",
    "    # Settings that feed into the YoutubeDL object that downloads ONLY the captions\n",
    "    ydl_opts = {\n",
    "        'outtmpl' : 'Captions',\n",
    "        'quiet' : True,\n",
    "        'forcetitle' : True,\n",
    "        'writesubtitles' : True,\n",
    "        'writeautomaticsub' : True,\n",
    "        #'listsubtitles' : True,\n",
    "        #'allsubtitles' : True,\n",
    "        'subtitleslangs': ['en'],\n",
    "        'skip_download' : True,\n",
    "        'logger': logger,\n",
    "        'writedescription' : True\n",
    "    }\n",
    "    \n",
    "    # Convert videoId to URL\n",
    "    URL = ObtainURL(videoId)\n",
    "    print(URL)\n",
    "    #URL = 'https://www.youtube.com/watch?v=Ye8mB6VsUHw'\n",
    "    #URL = 'https://www.youtube.com/watch?v=0sf943sWZls'\n",
    "    \n",
    "    # Download the captions file to the local directory\n",
    "    with youtube_dl.YoutubeDL(ydl_opts) as ydl:\n",
    "        ydl.download([URL])\n",
    "        \n",
    "    # Pull the title of the video from the Logger\n",
    "    title = \"\"\n",
    "    for text in logger.text:\n",
    "        if text[0:9] != '[youtube]':\n",
    "            if text[0:6] != '[info]':\n",
    "                title = text\n",
    "    print(title)\n",
    "    \n",
    "    # If we successfully download a description file\n",
    "    try:\n",
    "        # Open the downloaded description file, extract the text, then close the file\n",
    "        file = open('Captions.description','r')\n",
    "        description = file.read()\n",
    "        file.close()\n",
    "        # Now that we're done with the captions file, delete it from the directory\n",
    "        os.remove('Captions.description')\n",
    "    except:\n",
    "        description = ''\n",
    "        \n",
    "    \n",
    "    # If we successfully download the captions file\n",
    "    try:    \n",
    "        # Open the downloaded captions file, extract the text, then close the file\n",
    "        file = open('Captions.en.vtt','r')\n",
    "        captions = file.read()\n",
    "        file.close()\n",
    "        \n",
    "        # Use RegEx to remove timestamps and convert the captions to a paragraph of text.\n",
    "        captions = re.sub(r'(WEBVTT\\nKind: captions\\nLanguage: en\\n)|(\\n\\d\\d:\\d\\d:\\d\\d.\\d\\d\\d --> \\d\\d:\\d\\d:\\d\\d.\\d\\d\\d\\n)', '', captions)\n",
    "        captions = re.sub(r'(\\n\\d\\d:\\d\\d:\\d\\d.\\d\\d\\d --> \\d\\d:\\d\\d:\\d\\d.\\d\\d\\d align:start position:\\d+%\\n)|(<\\d+:\\d+:\\d+.\\d+><c>)|(</c>)', '', captions)\n",
    "        captions = re.sub(r'(\\n)', ' ', captions)\n",
    "        \n",
    "        captions = title + \" \" + description + \" \" + captions\n",
    "        \n",
    "        # Now that we're done with the captions file, delete it from the directory\n",
    "        os.remove('Captions.en.vtt')\n",
    "    \n",
    "    # If there is no captions file to download\n",
    "    except FileNotFoundError:\n",
    "        captions = title + \" \" + description\n",
    "    \n",
    "    # Append the videoId and captions into the dataframe\n",
    "    df = df.append({'videoId': videoId, 'captions': captions}, ignore_index=True)\n",
    "\n",
    "# How long does this take?\n",
    "print('Runtime: {} seconds'.format(time.time() - start_time))"
   ]
  },
  {
   "cell_type": "code",
   "execution_count": 32,
   "metadata": {},
   "outputs": [
    {
     "data": {
      "text/plain": [
       "\"Naruto: Uzumaki Chronicles 2 - Story mode ch10 p6/6 Naruto: Uzumaki Chronicles 2 - Story mode ch10 p6/6   you       Oh       route you Chevy       I am immortal I am in java       you       you       ah so these are those yes I was able to ah so these are those yes I was able to   ah so these are those yes I was able to retrieve them from the remains of their retrieve them from the remains of their   retrieve them from the remains of their hideout how do you plan to dispose of hideout how do you plan to dispose of   hideout how do you plan to dispose of them well it's not like it'll do any them well it's not like it'll do any   them well it's not like it'll do any harm just to leave them alone but if we harm just to leave them alone but if we   harm just to leave them alone but if we get rid of them uh certain someone wants get rid of them uh certain someone wants   get rid of them uh certain someone wants to do it himself hmm very well it'll be to do it himself hmm very well it'll be   to do it himself hmm very well it'll be a fitting way for him to make amends       What's Wrong sensei what are you doing What's Wrong sensei what are you doing   What's Wrong sensei what are you doing here before the mission here before the mission   here before the mission Naruto asked me to be here Naruto what Naruto asked me to be here Naruto what   Naruto asked me to be here Naruto what for yeah cuz I got something to show you for yeah cuz I got something to show you   for yeah cuz I got something to show you get a lot of these       what are those Spears they're so pretty what are those Spears they're so pretty   what are those Spears they're so pretty it's weird I swear I've seen them before it's weird I swear I've seen them before   it's weird I swear I've seen them before not ringing any bells uh well you're not ringing any bells uh well you're   not ringing any bells uh well you're looking at the spirit orbs what hey no looking at the spirit orbs what hey no   looking at the spirit orbs what hey no fair kakashi-sensei that was my line but fair kakashi-sensei that was my line but   fair kakashi-sensei that was my line but they weren't a small before worthy by they weren't a small before worthy by   they weren't a small before worthy by the time I came to pick them up they the time I came to pick them up they   the time I came to pick them up they shrunk to this size this must be their shrunk to this size this must be their   shrunk to this size this must be their true form now they're just powerless true form now they're just powerless   true form now they're just powerless jewels Wow and I don't know I thought jewels Wow and I don't know I thought   jewels Wow and I don't know I thought naruto might want to take care of them naruto might want to take care of them   naruto might want to take care of them so how about it Naruto this is a good so how about it Naruto this is a good   so how about it Naruto this is a good spot yeah perfect       you guys get lost and never come back       alright that should take care of it we alright that should take care of it we   alright that should take care of it we can relax now oh did you really have to can relax now oh did you really have to   can relax now oh did you really have to do that hey it's okay well now should we do that hey it's okay well now should we   do that hey it's okay well now should we get going right yeah let's go hey wait get going right yeah let's go hey wait   get going right yeah let's go hey wait up Naruto oh you too       hey come on kakashi-sensei  \""
      ]
     },
     "execution_count": 32,
     "metadata": {},
     "output_type": "execute_result"
    }
   ],
   "source": [
    "df.captions[30]"
   ]
  },
  {
   "cell_type": "markdown",
   "metadata": {},
   "source": [
    "### Fixed Repeating Sentences Issue"
   ]
  },
  {
   "cell_type": "code",
   "execution_count": 122,
   "metadata": {},
   "outputs": [
    {
     "name": "stdout",
     "output_type": "stream",
     "text": [
      "https://www.youtube.com/watch?v=FBQ00Vk7Obs\n",
      "Kai Jing Leong 2011 Singapore National Figure Skating Senior - Short Program\n",
      "https://www.youtube.com/watch?v=1Cb84yXZgZs\n",
      "Ivana Hong - Montage Gymnastique ❤\n",
      "https://www.youtube.com/watch?v=ibKjl4ZyA9w\n",
      "Бездомните кучета в София\n",
      "https://www.youtube.com/watch?v=FePY0rISaIk\n",
      "Montage #3 / Infestation / DeathZ\n",
      "https://www.youtube.com/watch?v=2Y6LifcmLgw\n",
      "Cross Uringe - 5 Aug 2012\n",
      "https://www.youtube.com/watch?v=ZSGhU2gqkvM\n",
      "Opel Vectra B Irmscher Tuning\n",
      "https://www.youtube.com/watch?v=fwnMW7A1uw8\n",
      "2004 470 Catalina sold by NWYachtnet\n",
      "https://www.youtube.com/watch?v=Y3x25oucpFU\n",
      "РЕЗИНОВАЯ КОКА КОЛА И ПЕПСИ\n",
      "https://www.youtube.com/watch?v=96u8pQ2dpfQ\n",
      "Madolche - Colombia Top 8 Regional Omar Hernandez - Yugioh Deck Profile September 2013\n",
      "https://www.youtube.com/watch?v=56vazFgwvlo\n",
      "Forest walk 2\n",
      "https://www.youtube.com/watch?v=uZiuGmdpW4M\n",
      "Vio-Lence - World In a World [HQ]\n",
      "https://www.youtube.com/watch?v=YLZbTWmvVyc\n",
      "WNF UMvC3(12-14-11) m23 Infrit vs Flocker\n",
      "https://www.youtube.com/watch?v=pCn7ZeGkPgU\n",
      "Black Violin Feel Good\n",
      "https://www.youtube.com/watch?v=UzXQaOLQVCU\n",
      "battlefield 2 Theme (Best Quality)\n",
      "https://www.youtube.com/watch?v=XEJCKT8Sb4Q\n",
      "Medieval Cooking Pit\n",
      "https://www.youtube.com/watch?v=CuEjiRyQhvc\n",
      "Umami \"Good In Colours\"\n",
      "https://www.youtube.com/watch?v=Gmr560VV81U\n",
      "mamadou avait mal au dents\n",
      "https://www.youtube.com/watch?v=jeECmqYWKyI\n",
      "Joan sebastian con banda cruz de la candelaria\n",
      "https://www.youtube.com/watch?v=2KX_09QqpW8\n",
      "Chapolin com o Chaves na Escola - Episódio inédito no Brasil! (Espanhol)\n",
      "https://www.youtube.com/watch?v=OX2lDaUYZpg\n",
      "Jonny Fletcher @ TOTBX 2011 - FWD Handling Winner\n",
      "https://www.youtube.com/watch?v=0uZx0TwZsvc\n",
      "Peligro.- Yuridia\n",
      "https://www.youtube.com/watch?v=Oye1gGKo0ao\n",
      "Saint Leo Women's Soccer\n",
      "https://www.youtube.com/watch?v=ncPlB2ufcxQ\n",
      "Mi anillo de compromiso\n",
      "https://www.youtube.com/watch?v=6YkVt3WZAbE\n",
      "Cheer Extreme Mini 1 BATB Day 1\n",
      "https://www.youtube.com/watch?v=abOVenfqEeI\n",
      "エルレガーデン　金星　ギター　弾いてみた\n",
      "https://www.youtube.com/watch?v=oWOl4v2Fd_U\n",
      "Audi A6 Allroad 3.0 Bi Turbo (313) german mauntain\n",
      "https://www.youtube.com/watch?v=IVoVl5rN0Bw\n",
      "แอ็คกบกระโดด \"จุน\" 4.5 เซน\n",
      "https://www.youtube.com/watch?v=ETF2-Zz3J18\n",
      "Law of Reflection Practical Activity for Students\n",
      "https://www.youtube.com/watch?v=83b22NK6i8c\n",
      "Alvin i wiewiórki - Cisza (Kamil Bednarek)\n",
      "https://www.youtube.com/watch?v=GEdQf8wyodY\n",
      "[SFIV] FZ (VI) vs 見学会Ikuo (KE) - 2nd Set\n",
      "https://www.youtube.com/watch?v=0pPg_Cth0OQ\n",
      "Naruto: Uzumaki Chronicles 2 - Story mode ch10 p6/6\n",
      "https://www.youtube.com/watch?v=RilJ9iYwm4U\n",
      "Paper mario a thosand year door flash verison on pc\n",
      "https://www.youtube.com/watch?v=rr27XLHH6Hk\n",
      "JBL Charge 2 Sound Test\n",
      "https://www.youtube.com/watch?v=hilgkGGX39w\n",
      "Saltwater Reef Tank\n",
      "https://www.youtube.com/watch?v=YlkP06TYApY\n",
      "Dwyane Wade 28 points vs Pacers full highlights (2012 NBA Playoffs CSF GM5)\n",
      "https://www.youtube.com/watch?v=xfp_3ivGF4Q\n",
      "Playmobil tueur de l'extrême\n",
      "https://www.youtube.com/watch?v=BW1ijtaThNo\n",
      "los caballerros del zodiaco intro hades perdoname\n",
      "https://www.youtube.com/watch?v=wM53aihC4MI\n",
      "How To Wash and Dry a Wig\n",
      "Runtime: 38.35356688499451 seconds\n"
     ]
    }
   ],
   "source": [
    "# How long does this take?\n",
    "start_time = time.time()\n",
    "\n",
    "df = pd.DataFrame(columns=['videoId','captions'])\n",
    "subtitlesdownloaded = False\n",
    "\n",
    "for videoId in VideoIds:\n",
    "    #Initialize logger variable\n",
    "    logger = MyLogger()\n",
    "    # Settings that feed into the YoutubeDL object that downloads ONLY the captions\n",
    "    ydl_opts = {\n",
    "        'outtmpl' : 'Captions',\n",
    "        'quiet' : True,\n",
    "        'forcetitle' : True,\n",
    "        'writesubtitles' : True,\n",
    "        'writeautomaticsub' : True,\n",
    "        #'listsubtitles' : True,\n",
    "        #'allsubtitles' : True,\n",
    "        'subtitleslangs': ['en'],\n",
    "        'skip_download' : True,\n",
    "        'logger': logger,\n",
    "        'writedescription' : True\n",
    "    }\n",
    "    \n",
    "    # Convert videoId to URL\n",
    "    URL = ObtainURL(videoId)\n",
    "    print(URL)\n",
    "    #URL = 'https://www.youtube.com/watch?v=Ye8mB6VsUHw'\n",
    "    #URL = 'https://www.youtube.com/watch?v=0sf943sWZls'\n",
    "    \n",
    "    # Download the captions file to the local directory\n",
    "    with youtube_dl.YoutubeDL(ydl_opts) as ydl:\n",
    "        ydl.download([URL])\n",
    "        \n",
    "    # Pull the title of the video from the Logger\n",
    "    title = \"\"\n",
    "    for text in logger.text:\n",
    "        if text[0:9] != '[youtube]':\n",
    "            if text[0:6] != '[info]':\n",
    "                title = text\n",
    "    print(title)\n",
    "    \n",
    "    # If we successfully download a description file\n",
    "    try:\n",
    "        # Open the downloaded description file, extract the text, then close the file\n",
    "        file = open('Captions.description','r')\n",
    "        description = file.read()\n",
    "        file.close()\n",
    "        description = re.sub(r'\\n+',' ',description)\n",
    "        # Now that we're done with the captions file, delete it from the directory\n",
    "        os.remove('Captions.description')\n",
    "    except:\n",
    "        description = ''\n",
    "        \n",
    "    \n",
    "    # If we successfully download the captions file\n",
    "    try:    \n",
    "        # Open the downloaded captions file, extract the text, then close the file\n",
    "        file = open('Captions.en.vtt','r')\n",
    "        captions = file.readlines()\n",
    "        file.close()\n",
    "        \n",
    "        # Use RegEx to remove timestamps and convert the captions to a paragraph of text.\n",
    "        subtitles = np.array([])\n",
    "        for line in captions:\n",
    "            line = re.sub(r'WEBVTT\\n','',line)\n",
    "            line = re.sub(r'Kind: captions\\n','',line)\n",
    "            line = re.sub(r'Language: en\\n','',line)\n",
    "            line = re.sub(r'\\d\\d:\\d\\d:\\d\\d.\\d\\d\\d --> \\d\\d:\\d\\d:\\d\\d.\\d\\d\\d\\n', '', line)\n",
    "            line = re.sub(r'\\d\\d:\\d\\d:\\d\\d.\\d\\d\\d --> \\d\\d:\\d\\d:\\d\\d.\\d\\d\\d align:start position:\\d+%\\n','',line)\n",
    "            line = re.sub(r'<\\d+:\\d+:\\d+.\\d+><c>','',line)\n",
    "            line = re.sub(r'</c>', '', line)\n",
    "            line = re.sub(r'(\\n)', '', line)\n",
    "            if (line != '') and (line != ' '):\n",
    "                if line not in list(subtitles):\n",
    "                    subtitles = np.append(subtitles, line)\n",
    "        captions = ''\n",
    "        for i in subtitles:\n",
    "            captions = captions + ' ' + i\n",
    "        \n",
    "        captions = title + \" \" + description + \" \" + captions\n",
    "        \n",
    "        # Now that we're done with the captions file, delete it from the directory\n",
    "        os.remove('Captions.en.vtt')\n",
    "    \n",
    "    # If there is no captions file to download\n",
    "    except FileNotFoundError:\n",
    "        captions = title + \" \" + description\n",
    "    \n",
    "    # Append the videoId and captions into the dataframe\n",
    "    df = df.append({'videoId': videoId, 'captions': captions}, ignore_index=True)\n",
    "\n",
    "# How long does this take?\n",
    "print('Runtime: {} seconds'.format(time.time() - start_time))"
   ]
  },
  {
   "cell_type": "code",
   "execution_count": 127,
   "metadata": {},
   "outputs": [
    {
     "data": {
      "text/plain": [
       "'Madolche - Colombia Top 8 Regional Omar Hernandez - Yugioh Deck Profile September 2013 Information From: https://www.facebook.com/YGOCastellano --------------------------- Want To Find Me!? My Cardfight Vanguard Channel: http://www.youtube.com/user/VanKohl40 No Limit Gaming on Yugioh: http://www.youtube.com/user/NoLimitGamingTcg Want a Text When I Upload a Video? http://motube.us/mkohl40 My Store: http://www.mkohlgames.com/ My FaceBook: http://www.facebook.com/mkohl40 FaceBook Fan Page: http://www.facebook.com/robbie.kohl FaceBook Group: http://www.facebook.com/groups/487364107996181/ Dueling Network and DevPro: Mkohl40 Pojo.biz Message Board: Robbie Skype: robbie-kohl'"
      ]
     },
     "execution_count": 127,
     "metadata": {},
     "output_type": "execute_result"
    }
   ],
   "source": [
    "df.captions[8]"
   ]
  },
  {
   "cell_type": "code",
   "execution_count": null,
   "metadata": {},
   "outputs": [],
   "source": []
  }
 ],
 "metadata": {
  "kernelspec": {
   "display_name": "Python 3",
   "language": "python",
   "name": "python3"
  },
  "language_info": {
   "codemirror_mode": {
    "name": "ipython",
    "version": 3
   },
   "file_extension": ".py",
   "mimetype": "text/x-python",
   "name": "python",
   "nbconvert_exporter": "python",
   "pygments_lexer": "ipython3",
   "version": "3.7.0"
  }
 },
 "nbformat": 4,
 "nbformat_minor": 2
}
