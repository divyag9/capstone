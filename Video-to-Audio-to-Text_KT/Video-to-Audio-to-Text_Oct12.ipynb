{
 "cells": [
  {
   "cell_type": "markdown",
   "metadata": {},
   "source": [
    "The start of this notebook assumes the person running the notebook has an .avi video file on their computer. The code below will extract the audio track from the video.avi file as an .mp3. \n",
    "\n",
    "The .mp3 file then needs to be converted into .wav format in order to output the text. \n",
    "\n",
    "Code below will convert the .mp3 > .wav\n",
    "\n",
    "Finally, the .wav file is run through Speech Recognition library and output is text."
   ]
  },
  {
   "cell_type": "code",
   "execution_count": 1,
   "metadata": {},
   "outputs": [
    {
     "name": "stderr",
     "output_type": "stream",
     "text": [
      "chunk:  12%|█▏        | 54/442 [00:00<00:00, 505.62it/s, now=None]"
     ]
    },
    {
     "name": "stdout",
     "output_type": "stream",
     "text": [
      "MoviePy - Writing audio in makeup_tutorial.mp3\n"
     ]
    },
    {
     "name": "stderr",
     "output_type": "stream",
     "text": [
      "                                                                   "
     ]
    },
    {
     "name": "stdout",
     "output_type": "stream",
     "text": [
      "MoviePy - Done.\n"
     ]
    },
    {
     "name": "stderr",
     "output_type": "stream",
     "text": [
      "\r"
     ]
    }
   ],
   "source": [
    "# Extract audio track from video.avi in .mp3 format\n",
    "\n",
    "import moviepy.editor as mp\n",
    "    \n",
    "clip = mp.VideoFileClip(\"5min_makeup_tutorial.avi\").subclip(0,20) #extracting first 20 sec\n",
    "clip.audio.write_audiofile(\"makeup_tutorial.mp3\")"
   ]
  },
  {
   "cell_type": "code",
   "execution_count": 2,
   "metadata": {},
   "outputs": [],
   "source": [
    "# Import necessary libraries for converting .mp3 to .wav and then extracting text"
   ]
  },
  {
   "cell_type": "code",
   "execution_count": 3,
   "metadata": {},
   "outputs": [],
   "source": [
    "from os import path\n",
    "from pydub import AudioSegment\n",
    "import speech_recognition as sr"
   ]
  },
  {
   "cell_type": "code",
   "execution_count": 4,
   "metadata": {},
   "outputs": [
    {
     "data": {
      "text/plain": [
       "<_io.BufferedRandom name='makeup_tutorial.wav'>"
      ]
     },
     "execution_count": 4,
     "metadata": {},
     "output_type": "execute_result"
    }
   ],
   "source": [
    "#convert mp3 to .wav file\n",
    "mp3_tutorial = 'makeup_tutorial.mp3'\n",
    "wav_makeup = 'makeup_tutorial.wav'\n",
    "\n",
    "makeup_sound = AudioSegment.from_mp3(mp3_tutorial)\n",
    "\n",
    "makeup_sound.export(wav_makeup, format='wav')"
   ]
  },
  {
   "cell_type": "code",
   "execution_count": 5,
   "metadata": {},
   "outputs": [
    {
     "data": {
      "text/plain": [
       "\"everyone welcome back to another Monday make a lesson today is Monday makeup lesson is a five-set tutorial I want to show you guys how to get full face of makeup on in about 5 minutes with just five simple steps to show you guys has changed this look into more of an evening with the check back for next Monday to see how to changes from day to night which is an extra 5 vets but let's get started with this tutor\""
      ]
     },
     "execution_count": 5,
     "metadata": {},
     "output_type": "execute_result"
    }
   ],
   "source": [
    "# .wav to text\n",
    "\n",
    "r = sr.Recognizer()\n",
    "\n",
    "makeup = sr.AudioFile('makeup_tutorial.wav')\n",
    "\n",
    "with makeup as source1:\n",
    "    audio = r.record(source1)\n",
    "    \n",
    "r.recognize_google(audio) "
   ]
  },
  {
   "cell_type": "code",
   "execution_count": null,
   "metadata": {},
   "outputs": [],
   "source": []
  },
  {
   "cell_type": "code",
   "execution_count": null,
   "metadata": {},
   "outputs": [],
   "source": []
  }
 ],
 "metadata": {
  "kernelspec": {
   "display_name": "Python 3",
   "language": "python",
   "name": "python3"
  },
  "language_info": {
   "codemirror_mode": {
    "name": "ipython",
    "version": 3
   },
   "file_extension": ".py",
   "mimetype": "text/x-python",
   "name": "python",
   "nbconvert_exporter": "python",
   "pygments_lexer": "ipython3",
   "version": "3.7.4"
  }
 },
 "nbformat": 4,
 "nbformat_minor": 2
}
