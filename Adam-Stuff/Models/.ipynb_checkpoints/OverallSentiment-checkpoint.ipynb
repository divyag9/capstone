{
 "cells": [
  {
   "cell_type": "code",
   "execution_count": 3,
   "metadata": {},
   "outputs": [],
   "source": [
    "import boto3\n",
    "import spacy\n",
    "spacy_nlp = spacy.load(\"en_core_web_sm\")\n",
    "import time\n",
    "import random"
   ]
  },
  {
   "cell_type": "code",
   "execution_count": 8,
   "metadata": {},
   "outputs": [],
   "source": [
    "class OverallSentiment(object):\n",
    "    \"\"\"\n",
    "    Simple object to return the overall sentiment of an object\n",
    "    \"\"\"\n",
    "    def __init__(self, text):\n",
    "        self.text = text\n",
    "        self.sentences = set()\n",
    "        \n",
    "    def add_periods(self, text):\n",
    "        \"\"\"\n",
    "        Takes in a string of text with no punctuation, uses Spacy's method of breaking up sentences to \n",
    "        add periods to the end of these sentences. Returns text with periods.\n",
    "        \"\"\"\n",
    "        doc = spacy_nlp(text)\n",
    "        sentence_tokens = [sents.text for sents in doc.sents]\n",
    "        new_sentence_tokens = []\n",
    "        add_on = None\n",
    "        for i in range(len(sentence_tokens)-1,-1,-1):\n",
    "            if \" \" in sentence_tokens[i]:\n",
    "                if add_on == None:\n",
    "                    # Add a period to the end of the sentence\n",
    "                    new_sentence_tokens.append(sentence_tokens[i]+'.')\n",
    "                else:\n",
    "                    # Add 1 word and period to the end of the sentence.\n",
    "                    new_sentence_tokens.append(sentence_tokens[i]+' '+add_on+'.')\n",
    "                    add_on = None\n",
    "            else:\n",
    "                # If there is a sentence which is just one word, add it to the end of the previous sentence.\n",
    "                add_on = sentence_tokens[i]\n",
    "        new_text = \" \".join(new_sentence_tokens[::-1])\n",
    "        return new_text\n",
    "        \n",
    "    def getSentiment(self,faster = False):\n",
    "        if \", \" not in self.text:\n",
    "            self.text = self.add_periods(self.text)\n",
    "        else:\n",
    "            pass\n",
    "            \n",
    "        doc = spacy_nlp(self.text)\n",
    "        for token in doc:\n",
    "            if token.pos_ == \"ADJ\":\n",
    "                #print(\" \".join(word.text for word in token.sent))\n",
    "                self.sentences.add(\" \".join(word.text for word in token.sent))\n",
    "        if faster == True and len(self.sentences) > 100:\n",
    "            randomsample = random.choices(list(self.sentences), k=100)\n",
    "            output = self.calculateSentiment(randomsample)\n",
    "        else:\n",
    "            output = self.calculateSentiment(self.sentences)\n",
    "        return output\n",
    "    \n",
    "    \n",
    "    def sentenceSentiment(self,text):\n",
    "        \"\"\"\n",
    "        Takes in a line of text and uses amazon's comprehend to obtain the sentiment of the text.\n",
    "        Returns the text and the score, as well as the sentiment of the text\n",
    "        \"\"\"\n",
    "        comprehend = boto3.client(service_name='comprehend', region_name='us-west-2')\n",
    "        sentiment_json = comprehend.detect_sentiment(Text=text, LanguageCode='en')\n",
    "        sent = sentiment_json['Sentiment']\n",
    "        sent_pos = sentiment_json['SentimentScore']['Positive']\n",
    "        sent_neg = sentiment_json['SentimentScore']['Negative']\n",
    "        sent_neu = sentiment_json['SentimentScore']['Neutral']\n",
    "        sent_mix = sentiment_json['SentimentScore']['Mixed']\n",
    "        return sent, sent_pos, sent_neg, sent_neu, sent_mix\n",
    "\n",
    "    def calculateSentiment(self,sentences):\n",
    "        '''\n",
    "        Take a list of sentences and give the overall sentiment\n",
    "        '''\n",
    "        numPos = 0\n",
    "        numNeg = 0\n",
    "        for sentence in sentences:\n",
    "            sent = self.sentenceSentiment(sentence)\n",
    "            if sent[0] == \"POSITIVE\":\n",
    "                numPos+=1\n",
    "            elif sent[0] == \"NEGATIVE\":\n",
    "                numNeg+=1\n",
    "        pctPos = 100*numPos/(numPos + numNeg)\n",
    "        pctNeg = 100*numNeg/(numPos + numNeg)\n",
    "        return (int(pctPos), int(pctNeg))"
   ]
  },
  {
   "cell_type": "code",
   "execution_count": 6,
   "metadata": {},
   "outputs": [],
   "source": [
    "import pandas as pd\n",
    "df = pd.read_csv(\"ExampleTexts/videoExamples.csv\")\n",
    "examples = list(df.captions)"
   ]
  },
  {
   "cell_type": "code",
   "execution_count": 8,
   "metadata": {},
   "outputs": [
    {
     "data": {
      "text/plain": [
       "' - Alright, it\\'s iPhone time. Apple released three new iPhones all at once this year. The iPhone 11, the iPhone 11 Pro, and the iPhone 11 Pro Max. Now, I honestly think the iPhone 11 is the phone most people in the iOS ecosystem should get if they\\'re upgrading. So we\\'ve got a whole other review of that phone that you should check out, too. But this, this is the Pro review. The dark mode, cash money review for professionals who use their phones to do pro stuff. Like taking telephoto photos. Actually, I have no idea why Apple called these phones Pro. They\\'re basically just nice updates to the iPhone XS, but I also think it\\'s a waste of time to argue about names. iPhone 11 Pro Max is a bad name. But you know what, it\\'s a great phone. And I think Apple might have done it. This is the best camera I\\'ve ever seen on a phone. Let\\'s get into it. (calming music) The iPhone 11 Pro looks almost exactly like the iPhone XS from the front. It\\'s a little heavier and thicker, but unless you\\'re comparing them directly, you probably won\\'t notice. I certainly didn\\'t. You do get a much bigger battery in exchange for that extra size, which Apple says leads to a four-hour battery life increase on the regular Pro and a five-hour jump for the Pro Max. But it\\'s surprisingly hard to check that number. I\\'ll get into why in a minute. The big difference from the XS comes on the back where Apple says the rear glass is now stronger and it comes in this frosted matte finish. It also integrates a glossy camera bump with three cameras. The whole back and the bump is a single piece of glass that\\'s milled out. The iPhone 11 is the reverse. It has a glossy back and the camera bump is matte. Now you know. I got a lot of questions about this matte finish and I think it\\'s really nice, especially in this new midnight green color. It didn\\'t really pick up any fingerprints, but it does seem a tiny bit more slippery than the gloss back of the previous phones and the iPhone 11. But I also think most people are just going to stick this thing in a case, so it doesn\\'t seem like a huge issue. A lot of people also asked me if this matte finish will scratch easily, similar to the back of the Pixel 3, and so far the answer seems to be no. But we\\'re going to have to keep an eye on it over time. Apple\\'s finally relented and included an 18W USB-C fast charger with the Pro phones. So you get a USB-C to Lightning cable as well. Now Apple\\'s USB-C charger is not the smallest or prettiest charger out there. But anything is better than the slow 5W brick it\\'s been including for years, so I\\'ll take it. So let\\'s get into these cameras. Apple has a lot at stake here. Google and Samsung\\'s cameras have been outperforming the iPhone for a couple of years now. And Chinese phone makers, in particular, have been racing each other to add an endless array of photography features. If you\\'re in the US, you\\'re probably locked into iMessage and no camera is good enough to make you switch. But Apple doesn\\'t have that advantage in big markets like Europe and China. Everyone uses WhatsApp and WeChat, and switching from iOS to Android is much easier. So Apple\\'s added a bunch of features that first appeared on Android phones. There are three cameras on the iPhone 11 Pro. The telephoto camera has the same basic sensor, but a faster f/2.O lens. The main camera has the same f/1.8 lens and a slightly better sensor. And there\\'s the new super fun ultra-wide camera, which is basically twice as wide as the main lens and f/2.4. And the f/2.2 front camera is now 12 megapixels, up from seven, and has a wider 24mm focal length so it can pull out to a slightly wider angle in landscape for selfies. Apple\\'s also updated its smart HDR processing system, which I was not very impressed with when I reviewed the iPhone XS and XR. The iPhone 11 cameras are an enormous improvement over the XS, and beat the Pixel and Galaxy Note 10 in most of our tests. This shot of Verge video producer, Mariya Abdulkaf, outside in bright sunlight shouldn\\'t be too hard for any camera to do a good job with. And all these photos look basically fine. But zoom and do 100 percent crop and the improvement from the iPhone XS to the iPhone 11 main camera is stunning. The iPhone 11 is way sharper, with way more detail. I also think the iPhone 11 does a way better job than the Note 10 and it\\'s a little better to my eye than the Pixel 3. This improvement is due to something Apple\\'s calling semantic rendering. Basically, Smart HDR recognizes what\\'s in the image and renders it appropriately. I asked Apple to break down how it works for me and it basically goes like this: First, the iPhone starts taking photos to a buffer the instant you open the camera app. So by the time you actually press the button, it\\'s captured four underexposed frames and the photo you want. Then it grabs one overexposed frame. This is all basically the same as the iPhone XS and the Pixel 3, except the Pixel doesn\\'t grab that overexposed frame. Second, Smart HDR and semantic rendering then start looking for things in the photos it understands. Faces, hair, the sky, things like that. Then it uses additional detail from the under and overexposed frames to selectively process the areas of the image it\\'s recognized. Hair gets sharpened, but the sky doesn\\'t. It just gets de-noised. Faces get relighted to make them look more even and the iPhone knows to sharpen up your facial hair. Smart HDR is also less aggressive in flattening the photos. Highlights and faces aren\\'t corrected as aggressively as before because those highlights make photos look more natural. But other highlights and shadows are corrected to regain detail. Finally, the whole image is saved and you\\'ve got a photo. This all happens instantly every time you take a photo, which is a testament to how powerful Apple\\'s A13 processor really is. Here\\'s that final image we just took. You can see how the iPhone 11 preserves more detail than the Pixel and Note in the shadows and highlights, and just blows the iPhone XS away in sharpness. The improvements to Smart HDR are applicable across cameras. Here\\'s a quick comparison of the ultra-wides in the 11 Pro and the Note 10. The Note 10 did a better job exposing the sky, but the 11 is just a much sharper photo with more detail. You can see the same thing with selfies. The XS Max has pulled up shadows so much that it looks a little hazy, while the iPhone 11 evenly pulls up shadows in Mariya\\'s face, but preserves the contrast with the background. The Note 10 did all kinds of goofy skin smoothing and the Pixel 3 looks great, but it has less detail than the iPhone. Just look at her eyelashes. Now there are places where the iPhone 11 didn\\'t win in our tests. The XS historically struggled with backlit subjects. And while the 11 is a definite improvement, this photo is really blue. And there\\'s basically no detail in Mariya\\'s face. I think the Note actually did the best overall job here. And I think the Pixel does the best job in low light, but the iPhone isn\\'t bad. It\\'s a lot better than the XS was last year. Apple\\'s promised a new mode for these situations called Deep Fusion, which is supposed to ship later this year, but I wasn\\'t able to test it. If it improves photos taken in this kind of light, then the iPhone will basically pull ahead in every situation. Apple also added a Night mode this year and it\\'s really impressive. It preserves a ton more detail than the Pixel. It comes on automatically in the dark and suggests an exposure time, which you can tweak or turn off if you want. The Pixel photo here looks more dramatic, but look a little closer. The iPhone has preserved all of the detail in the brick and graffiti, which is basically gone in the Pixel shot. Both of these Night mode photos look pretty similar, but look at all the extra detail in the bushes in the iPhone shot. Same with this shot. You\\'d never know that fence was even there in the Pixel photo. I think the Pixel produces more dramatic-looking shots out of the camera, but I would rather have the extra detail from the iPhone. All in all, I think the iPhone 11 camera does better in bright light than the Pixel 3 and Note 10, and the Night mode beats the Pixel 3 more often than not. If this promised Deep Fusion update improves medium- to low-light performance as much as Apple says it will, the iPhone 11 will once again be the smartphone camera to beat. Apple\\'s also made video on the iPhone 11 better with improved stabilization exposure and the ability to record 4K60 video from any of the three cameras. - But is it really that good? Let\\'s put it to the test. Alright, so we\\'re going to head out in New York City and we\\'re going to test against the Note 10, the Pixel 3, and the XS to see who does video best. We started out at the water and immediately you can see the color differences between the cameras. The Pixel leaned into the warm tones, while Samsung muddied the mid tones. And the iPhone XS leaned into the blues of the sky, while the 11 Pro balanced the warm and cool tones out the most. With the subject closer to the lens the Note 10 kept the flowers the sharpest, while the iPhone XS blurred the background the most. Okay, we\\'ve got to test the audio on all these phones. I\\'ll let you guys be the judge. Do I sound like the beautiful angel voice that I have, angelic voice? Of course, the answer is yes. But on these phones, who\\'s to say? In low light, Apple isn\\'t afraid of underexposing the blacks, whereas Samsung and Google will bring them up. Now the 11 Pro does do a lot more smoothing to compensate for all of the noise this typically creates. The front-facing camera on the iPhone 11 Pro did a great job of balancing my skin tone and just the exposure in general. Even against this large neon light source. But it wasn\\'t as sharp as the Note 10. Now all these comparisons are great, but chances are you won\\'t be recording on all of these phones side by side at the same exact time. So let\\'s just talk about the iPhone 11 Pro. The front-facing camera now records in 4K and the \"slofie\" is exactly how you\\'d imagine it. You\\'ll use it once and probably never touch it again. The video from the rear cameras, though, is really good. Like, in perfect light, it\\'s honestly just impressive. Switching between lenses is pretty seamless in terms of color accuracy and exposure. And you can use the dial method or just tap the lenses on the screen to switch. Now you can\\'t switch between lenses when you shoot in 4K60. So make sure you set 4K30 or lower if you\\'re going to be doing that. The ultra-wide angle lens looks super cool even with the crazy distortion. But there is no image stabilization, which shouldn\\'t be a problem because naturally, the wider the lens, the less need for that. Both the telephoto and wide lens keep your shot stable and pretty sharp for a sensor their size. The color is punchy and pretty saturated and in perfect lighting, you, too, can have that \"shot on iPhone\" look. But in low light, even the iPhone 11 Pro, when viewed on a screen larger than its own, succumbs to noisy blacks and haloed highlights. My big issue, though, why do I have to leave the camera app to change the frame rates? It\\'s not intuitive and it\\'s just time-consuming. Apple, just put it in the app. iPhones have always had great video, but the video on the 11 Pro is the best I\\'ve seen on a smartphone to date. And the gap is only getting bigger. Enough of me, back to Nilay. - The screen on the iPhone 11 Pro is a new OLED that Apple is calling the Super Retina XDR display. There\\'s still a notch and Apple is still doing fancy, rounded corners and uniform bezels, which no one else in the industry has really managed to match. Those bezels are still pretty big, though, especially compared to something like the Galaxy Note 10. This is the third year of the basic iPhone X design and Apple\\'s competitors haven\\'t been sitting still in trying to beat it. The big upgrades to the screen are around brightness and power efficiency. Basically, the screen can get a lot brighter than before and it also uses up to 15 percent less power, according to Apple. Now in typical situations, Apple says the iPhone 11 Pro display can go up to 800 nits of brightness and that when you\\'re watching HDR content, the highlights will peak at 1,200 nits. In normal situations, I don\\'t think you\\'re going to notice it. I\\'ve never had a problem looking at my iPhone XS display outside. But it\\'s a huge and obvious improvement when you\\'re watching HDR movies. I never really bought the idea that previous iPhone displays were Dolby Vision, but the iPhone 11 Pro display kind of pulls it off. It\\'s hard to capture this on video, but it\\'s just a lot brighter and punchier on the 11 Pro display compared to the XS. The Note 10 display definitely looks as bright, but the iPhone\\'s color processing looks way more natural to me, especially with Apple\\'s True Tone system turned on. Of course, Apple and Google are still in a fight over video codecs, so you can\\'t watch any 4K or HDR content on the iPhone 11 Pro from YouTube. So this video is not in 4K if you\\'re watching on an iPhone. Sorry about that. Apple has also updated the audio on the iPhone 11 and iPhone 11 Pro, with something they\\'re calling spatial audio. It\\'s basically a surround decoder. If you\\'re watching a Netflix movie with Adobe 5.1 sound or game encoded in 7.1, you\\'ll get virtual surround from the stereo speakers. The iPhone 11s also support Dolby Atmos, which is a little silly for stereo speakers, but it\\'s there. There\\'s also standard wide stereo support like last year for everything else. All in all, the iPhone speakers sound really loud and generally better than ever. There\\'s no more 3D Touch on the iPhone 11 Pro, it\\'s been replaced by what Apple calls Haptic Touch, which is basically just long pressing on things with haptic feedback. In most places, you won\\'t really notice it\\'s gone and some things are actually a little easier to figure out. Opening the camera from the lock screen feels the same to me. Rearranging icons on the home screen is a little simpler to figure out since there\\'s a context menu that pops up now. Peeking at links in Safari is a little different in iOS 13, but it\\'s also a little simpler. The only place I truly missed 3D Touch was the keyboard. You could press down anywhere on the keyboard to move the cursor around on the XS, but with Haptic Touch you can only press and hold on the space bar. Now, I never really realized how many times a day I used that one specific 3D Touch feature and I missed it. But if the trade-off is that there\\'s more room inside the case for a bigger battery, I\\'m fine with it. Apple claims the iPhone 11 Pro lasts four hours longer than the iPhone XS, and that the iPhone 11 Pro Max lasts five hours longer than the XS Max. As I mentioned earlier, it\\'s really hard to test those claims. Apple doesn\\'t run a strict battery test that we can just repeat. Instead, it\\'s getting that number by taking its huge data set of iPhone usage and applying it to a model of the new phone. So you\\'ll notice that the only hard numbers Apple publishes are like hours of video playback. Simple tests of a single task, which isn\\'t how anyone uses a phone. All that said, the battery life on the iPhone 11 Pro has been impressive. I\\'ve been using an 11 Pro Max as my primary phone for the past week, and it has consistently run for 12 to 14 hours on a single charge. And about 10 hours of screen-on time, off the charger, is reported in battery settings. That is a huge improvement over my XS Max, which generally runs for eight to nine hours The smaller 11 Pro has been just as impressive. That\\'s the phone Becca used for her testing and it still had 50 percent of its battery left the morning after she shot her part of the review. It turns out a slightly thicker phone with a bigger battery was the right move after all. Inside the new iPhone 11 Pro, there\\'s the new A13 Bionic processor which, as usual, benchmarks far above the competition. There\\'s a lot of headroom here for things like AR, games, and high-end photo and video apps, but it\\'s not like the A12 Bionic in the iPhone XS is slow. Most of this extra power will be useful towards the end of this phone\\'s life, not the beginning. Face ID is a little bit faster and works at more angles, but it\\'s not particularly dramatic, it just works a little bit better. I think this is the best kind of iterative update. It made a thing that was already pretty good a little bit better, and anything that makes securing your phone a little bit better is great. And most intriguingly, there\\'s a new chip inside the iPhone 11, it\\'s called the U1, which does precise positioning using an ultra wideband radio. Apple says the forthcoming iOS 13.1 update will allow you to just point the phone at another U1 device to put it at the top of your AirDrop list. But none of that works yet, so we\\'ll just have to see. Obviously, the iPhone 11 Pro runs iOS 13 and I have to tell you, iOS 13 is pretty buggy. I saw all kinds of glitches and crashes during my week of testing, and iOS 13.1 is already in beta and scheduled for wide release by the end of this month. So it really seems like Apple just squeaked this thing out the door and is racing to fix bugs. I asked Apple about some of these glitches and they told me they\\'re always fixing bugs and iPhone owners generally auto update. But if you\\'re on the fence about upgrading, you might want to wait until some of these bug fix updates actually ship. Assuming all the bugs get fixed, the biggest new feature in iOS 13 is Dark Mode, which is very nice. But otherwise, this is a lot of tiny little updates. There\\'s a swiping keyboard now. Reminders is a much better app. There are better photo editing tools and you can edit videos as well. Apple Maps keeps getting a tiny bit better every year. Siri\\'s voice is slightly smoother. It\\'s a lot of little things that add up into a big update, but if you handed this phone to someone using iOS 12, they might not even notice unless Dark Mode was on. The iPhone 11 Pro starts at $999 with 64GB of storage, which doesn\\'t seem like quite enough for that price. And the 11 Pro Max starts at $1,099. You can spec the Pro Max all the way up to $1,449 with 512GB of storage, which means that you can pay an awful lot of money for this phone if you want to. If you\\'re in the iOS ecosystem and it\\'s time to upgrade, it\\'s a pretty tough choice this year. The standard iPhone 11 offers almost everything you get from the Pro for $699. And I think most people should get the iPhone 11. You\\'ll still get the improved main camera, the fun new ultra-wide lens, the A13 processor, and iOS 13, and all the rest. The extra money for the Pro basically buys you a far superior display, a telephoto camera, and improved LTE performance. And if you want a smaller phone, the iPhone 11 Pro is a little bit smaller than the iPhone 11, which seems a tiny bit unfair to people who want a smaller phone. The entire lineup is still pretty big, though. So if you\\'re hoping for something to replace that aging iPhone SE, you\\'re not going to love any of these options. I\\'m very picky about displays and cameras, so I\\'m going to get an iPhone 11 Pro. In fact, the cameras on the iPhone 11 and 11 Pro are so improved that I think they\\'re worth the year-over-year upgrade from last year\\'s models for the first time in a long time. Add in the improved battery life and the iPhone 11 Pro stands out as a major step forward from the XS and one of the best flagship phones of the year. Or it will be, when Apple fixes iOS 13. Hey everybody, this was obviously the iPhone 11 Pro review. We also reviewed the iPhone 11, that was a fun collab we did with Dieter Bohn. Watch both videos, they\\'re both on the channel, and then let me know which of these phones you think you\\'re going to buy or if you\\'re waiting for the Pixel 4.'"
      ]
     },
     "execution_count": 8,
     "metadata": {},
     "output_type": "execute_result"
    }
   ],
   "source": [
    "examples[5]"
   ]
  },
  {
   "cell_type": "code",
   "execution_count": null,
   "metadata": {},
   "outputs": [],
   "source": []
  },
  {
   "cell_type": "code",
   "execution_count": 5,
   "metadata": {},
   "outputs": [],
   "source": []
  },
  {
   "cell_type": "code",
   "execution_count": null,
   "metadata": {},
   "outputs": [],
   "source": []
  },
  {
   "cell_type": "code",
   "execution_count": null,
   "metadata": {},
   "outputs": [],
   "source": []
  },
  {
   "cell_type": "code",
   "execution_count": 10,
   "metadata": {},
   "outputs": [
    {
     "name": "stdout",
     "output_type": "stream",
     "text": [
      "26.07475781440735 seconds have passed\n"
     ]
    }
   ],
   "source": [
    "curtime = time.time()\n",
    "rs = OverallSentiment(examples[3])\n",
    "sentiment = rs.getSentiment(faster=False)\n",
    "print(\"{} seconds have passed\".format(time.time()-curtime))"
   ]
  },
  {
   "cell_type": "code",
   "execution_count": 9,
   "metadata": {},
   "outputs": [
    {
     "data": {
      "text/plain": [
       "(70.58823529411765, 29.41176470588235)"
      ]
     },
     "execution_count": 9,
     "metadata": {},
     "output_type": "execute_result"
    }
   ],
   "source": [
    "sentiment"
   ]
  },
  {
   "cell_type": "code",
   "execution_count": 72,
   "metadata": {},
   "outputs": [
    {
     "data": {
      "text/plain": [
       "(58.02469135802469, 41.97530864197531)"
      ]
     },
     "execution_count": 72,
     "metadata": {},
     "output_type": "execute_result"
    }
   ],
   "source": [
    "sentiment"
   ]
  },
  {
   "cell_type": "code",
   "execution_count": null,
   "metadata": {},
   "outputs": [],
   "source": []
  }
 ],
 "metadata": {
  "kernelspec": {
   "display_name": "Python 3",
   "language": "python",
   "name": "python3"
  },
  "language_info": {
   "codemirror_mode": {
    "name": "ipython",
    "version": 3
   },
   "file_extension": ".py",
   "mimetype": "text/x-python",
   "name": "python",
   "nbconvert_exporter": "python",
   "pygments_lexer": "ipython3",
   "version": "3.7.4"
  }
 },
 "nbformat": 4,
 "nbformat_minor": 2
}
